{
 "cells": [
  {
   "cell_type": "code",
   "execution_count": 1,
   "id": "c28a914b",
   "metadata": {
    "_cell_guid": "b1076dfc-b9ad-4769-8c92-a6c4dae69d19",
    "_uuid": "8f2839f25d086af736a60e9eeb907d3b93b6e0e5",
    "execution": {
     "iopub.execute_input": "2022-10-06T16:19:35.404577Z",
     "iopub.status.busy": "2022-10-06T16:19:35.404026Z",
     "iopub.status.idle": "2022-10-06T16:19:35.419500Z",
     "shell.execute_reply": "2022-10-06T16:19:35.418091Z"
    },
    "papermill": {
     "duration": 0.036858,
     "end_time": "2022-10-06T16:19:35.422491",
     "exception": false,
     "start_time": "2022-10-06T16:19:35.385633",
     "status": "completed"
    },
    "tags": []
   },
   "outputs": [
    {
     "name": "stdout",
     "output_type": "stream",
     "text": [
      "/kaggle/input/titanic/train.csv\n",
      "/kaggle/input/titanic/test.csv\n",
      "/kaggle/input/titanic/gender_submission.csv\n"
     ]
    }
   ],
   "source": [
    "# This Python 3 environment comes with many helpful analytics libraries installed\n",
    "# It is defined by the kaggle/python Docker image: https://github.com/kaggle/docker-python\n",
    "# For example, here's several helpful packages to load\n",
    "\n",
    "import numpy as np # linear algebra\n",
    "import pandas as pd # data processing, CSV file I/O (e.g. pd.read_csv)\n",
    "\n",
    "# Input data files are available in the read-only \"../input/\" directory\n",
    "# For example, running this (by clicking run or pressing Shift+Enter) will list all files under the input directory\n",
    "\n",
    "import os\n",
    "for dirname, _, filenames in os.walk('/kaggle/input'):\n",
    "    for filename in filenames:\n",
    "        print(os.path.join(dirname, filename))\n",
    "\n",
    "# You can write up to 20GB to the current directory (/kaggle/working/) that gets preserved as output when you create a version using \"Save & Run All\" \n",
    "# You can also write temporary files to /kaggle/temp/, but they won't be saved outside of the current session"
   ]
  },
  {
   "cell_type": "code",
   "execution_count": 2,
   "id": "00c24425",
   "metadata": {
    "execution": {
     "iopub.execute_input": "2022-10-06T16:19:35.457832Z",
     "iopub.status.busy": "2022-10-06T16:19:35.457379Z",
     "iopub.status.idle": "2022-10-06T16:19:35.512688Z",
     "shell.execute_reply": "2022-10-06T16:19:35.511386Z"
    },
    "papermill": {
     "duration": 0.074688,
     "end_time": "2022-10-06T16:19:35.515347",
     "exception": false,
     "start_time": "2022-10-06T16:19:35.440659",
     "status": "completed"
    },
    "tags": []
   },
   "outputs": [
    {
     "data": {
      "text/html": [
       "<div>\n",
       "<style scoped>\n",
       "    .dataframe tbody tr th:only-of-type {\n",
       "        vertical-align: middle;\n",
       "    }\n",
       "\n",
       "    .dataframe tbody tr th {\n",
       "        vertical-align: top;\n",
       "    }\n",
       "\n",
       "    .dataframe thead th {\n",
       "        text-align: right;\n",
       "    }\n",
       "</style>\n",
       "<table border=\"1\" class=\"dataframe\">\n",
       "  <thead>\n",
       "    <tr style=\"text-align: right;\">\n",
       "      <th></th>\n",
       "      <th>PassengerId</th>\n",
       "      <th>Pclass</th>\n",
       "      <th>Name</th>\n",
       "      <th>Sex</th>\n",
       "      <th>Age</th>\n",
       "      <th>SibSp</th>\n",
       "      <th>Parch</th>\n",
       "      <th>Ticket</th>\n",
       "      <th>Fare</th>\n",
       "      <th>Cabin</th>\n",
       "      <th>Embarked</th>\n",
       "    </tr>\n",
       "  </thead>\n",
       "  <tbody>\n",
       "    <tr>\n",
       "      <th>0</th>\n",
       "      <td>892</td>\n",
       "      <td>3</td>\n",
       "      <td>Kelly, Mr. James</td>\n",
       "      <td>male</td>\n",
       "      <td>34.5</td>\n",
       "      <td>0</td>\n",
       "      <td>0</td>\n",
       "      <td>330911</td>\n",
       "      <td>7.8292</td>\n",
       "      <td>NaN</td>\n",
       "      <td>Q</td>\n",
       "    </tr>\n",
       "    <tr>\n",
       "      <th>1</th>\n",
       "      <td>893</td>\n",
       "      <td>3</td>\n",
       "      <td>Wilkes, Mrs. James (Ellen Needs)</td>\n",
       "      <td>female</td>\n",
       "      <td>47.0</td>\n",
       "      <td>1</td>\n",
       "      <td>0</td>\n",
       "      <td>363272</td>\n",
       "      <td>7.0000</td>\n",
       "      <td>NaN</td>\n",
       "      <td>S</td>\n",
       "    </tr>\n",
       "    <tr>\n",
       "      <th>2</th>\n",
       "      <td>894</td>\n",
       "      <td>2</td>\n",
       "      <td>Myles, Mr. Thomas Francis</td>\n",
       "      <td>male</td>\n",
       "      <td>62.0</td>\n",
       "      <td>0</td>\n",
       "      <td>0</td>\n",
       "      <td>240276</td>\n",
       "      <td>9.6875</td>\n",
       "      <td>NaN</td>\n",
       "      <td>Q</td>\n",
       "    </tr>\n",
       "    <tr>\n",
       "      <th>3</th>\n",
       "      <td>895</td>\n",
       "      <td>3</td>\n",
       "      <td>Wirz, Mr. Albert</td>\n",
       "      <td>male</td>\n",
       "      <td>27.0</td>\n",
       "      <td>0</td>\n",
       "      <td>0</td>\n",
       "      <td>315154</td>\n",
       "      <td>8.6625</td>\n",
       "      <td>NaN</td>\n",
       "      <td>S</td>\n",
       "    </tr>\n",
       "    <tr>\n",
       "      <th>4</th>\n",
       "      <td>896</td>\n",
       "      <td>3</td>\n",
       "      <td>Hirvonen, Mrs. Alexander (Helga E Lindqvist)</td>\n",
       "      <td>female</td>\n",
       "      <td>22.0</td>\n",
       "      <td>1</td>\n",
       "      <td>1</td>\n",
       "      <td>3101298</td>\n",
       "      <td>12.2875</td>\n",
       "      <td>NaN</td>\n",
       "      <td>S</td>\n",
       "    </tr>\n",
       "  </tbody>\n",
       "</table>\n",
       "</div>"
      ],
      "text/plain": [
       "   PassengerId  Pclass                                          Name     Sex  \\\n",
       "0          892       3                              Kelly, Mr. James    male   \n",
       "1          893       3              Wilkes, Mrs. James (Ellen Needs)  female   \n",
       "2          894       2                     Myles, Mr. Thomas Francis    male   \n",
       "3          895       3                              Wirz, Mr. Albert    male   \n",
       "4          896       3  Hirvonen, Mrs. Alexander (Helga E Lindqvist)  female   \n",
       "\n",
       "    Age  SibSp  Parch   Ticket     Fare Cabin Embarked  \n",
       "0  34.5      0      0   330911   7.8292   NaN        Q  \n",
       "1  47.0      1      0   363272   7.0000   NaN        S  \n",
       "2  62.0      0      0   240276   9.6875   NaN        Q  \n",
       "3  27.0      0      0   315154   8.6625   NaN        S  \n",
       "4  22.0      1      1  3101298  12.2875   NaN        S  "
      ]
     },
     "execution_count": 2,
     "metadata": {},
     "output_type": "execute_result"
    }
   ],
   "source": [
    "test_data = pd.read_csv(\"../input/titanic/test.csv\")\n",
    "test_data.head()"
   ]
  },
  {
   "cell_type": "code",
   "execution_count": 3,
   "id": "bc3078c0",
   "metadata": {
    "execution": {
     "iopub.execute_input": "2022-10-06T16:19:35.548016Z",
     "iopub.status.busy": "2022-10-06T16:19:35.547563Z",
     "iopub.status.idle": "2022-10-06T16:19:35.575737Z",
     "shell.execute_reply": "2022-10-06T16:19:35.574407Z"
    },
    "papermill": {
     "duration": 0.047877,
     "end_time": "2022-10-06T16:19:35.578701",
     "exception": false,
     "start_time": "2022-10-06T16:19:35.530824",
     "status": "completed"
    },
    "tags": []
   },
   "outputs": [
    {
     "data": {
      "text/html": [
       "<div>\n",
       "<style scoped>\n",
       "    .dataframe tbody tr th:only-of-type {\n",
       "        vertical-align: middle;\n",
       "    }\n",
       "\n",
       "    .dataframe tbody tr th {\n",
       "        vertical-align: top;\n",
       "    }\n",
       "\n",
       "    .dataframe thead th {\n",
       "        text-align: right;\n",
       "    }\n",
       "</style>\n",
       "<table border=\"1\" class=\"dataframe\">\n",
       "  <thead>\n",
       "    <tr style=\"text-align: right;\">\n",
       "      <th></th>\n",
       "      <th>PassengerId</th>\n",
       "      <th>Survived</th>\n",
       "      <th>Pclass</th>\n",
       "      <th>Name</th>\n",
       "      <th>Sex</th>\n",
       "      <th>Age</th>\n",
       "      <th>SibSp</th>\n",
       "      <th>Parch</th>\n",
       "      <th>Ticket</th>\n",
       "      <th>Fare</th>\n",
       "      <th>Cabin</th>\n",
       "      <th>Embarked</th>\n",
       "    </tr>\n",
       "  </thead>\n",
       "  <tbody>\n",
       "    <tr>\n",
       "      <th>0</th>\n",
       "      <td>1</td>\n",
       "      <td>0</td>\n",
       "      <td>3</td>\n",
       "      <td>Braund, Mr. Owen Harris</td>\n",
       "      <td>male</td>\n",
       "      <td>22.0</td>\n",
       "      <td>1</td>\n",
       "      <td>0</td>\n",
       "      <td>A/5 21171</td>\n",
       "      <td>7.2500</td>\n",
       "      <td>NaN</td>\n",
       "      <td>S</td>\n",
       "    </tr>\n",
       "    <tr>\n",
       "      <th>1</th>\n",
       "      <td>2</td>\n",
       "      <td>1</td>\n",
       "      <td>1</td>\n",
       "      <td>Cumings, Mrs. John Bradley (Florence Briggs Th...</td>\n",
       "      <td>female</td>\n",
       "      <td>38.0</td>\n",
       "      <td>1</td>\n",
       "      <td>0</td>\n",
       "      <td>PC 17599</td>\n",
       "      <td>71.2833</td>\n",
       "      <td>C85</td>\n",
       "      <td>C</td>\n",
       "    </tr>\n",
       "    <tr>\n",
       "      <th>2</th>\n",
       "      <td>3</td>\n",
       "      <td>1</td>\n",
       "      <td>3</td>\n",
       "      <td>Heikkinen, Miss. Laina</td>\n",
       "      <td>female</td>\n",
       "      <td>26.0</td>\n",
       "      <td>0</td>\n",
       "      <td>0</td>\n",
       "      <td>STON/O2. 3101282</td>\n",
       "      <td>7.9250</td>\n",
       "      <td>NaN</td>\n",
       "      <td>S</td>\n",
       "    </tr>\n",
       "    <tr>\n",
       "      <th>3</th>\n",
       "      <td>4</td>\n",
       "      <td>1</td>\n",
       "      <td>1</td>\n",
       "      <td>Futrelle, Mrs. Jacques Heath (Lily May Peel)</td>\n",
       "      <td>female</td>\n",
       "      <td>35.0</td>\n",
       "      <td>1</td>\n",
       "      <td>0</td>\n",
       "      <td>113803</td>\n",
       "      <td>53.1000</td>\n",
       "      <td>C123</td>\n",
       "      <td>S</td>\n",
       "    </tr>\n",
       "    <tr>\n",
       "      <th>4</th>\n",
       "      <td>5</td>\n",
       "      <td>0</td>\n",
       "      <td>3</td>\n",
       "      <td>Allen, Mr. William Henry</td>\n",
       "      <td>male</td>\n",
       "      <td>35.0</td>\n",
       "      <td>0</td>\n",
       "      <td>0</td>\n",
       "      <td>373450</td>\n",
       "      <td>8.0500</td>\n",
       "      <td>NaN</td>\n",
       "      <td>S</td>\n",
       "    </tr>\n",
       "  </tbody>\n",
       "</table>\n",
       "</div>"
      ],
      "text/plain": [
       "   PassengerId  Survived  Pclass  \\\n",
       "0            1         0       3   \n",
       "1            2         1       1   \n",
       "2            3         1       3   \n",
       "3            4         1       1   \n",
       "4            5         0       3   \n",
       "\n",
       "                                                Name     Sex   Age  SibSp  \\\n",
       "0                            Braund, Mr. Owen Harris    male  22.0      1   \n",
       "1  Cumings, Mrs. John Bradley (Florence Briggs Th...  female  38.0      1   \n",
       "2                             Heikkinen, Miss. Laina  female  26.0      0   \n",
       "3       Futrelle, Mrs. Jacques Heath (Lily May Peel)  female  35.0      1   \n",
       "4                           Allen, Mr. William Henry    male  35.0      0   \n",
       "\n",
       "   Parch            Ticket     Fare Cabin Embarked  \n",
       "0      0         A/5 21171   7.2500   NaN        S  \n",
       "1      0          PC 17599  71.2833   C85        C  \n",
       "2      0  STON/O2. 3101282   7.9250   NaN        S  \n",
       "3      0            113803  53.1000  C123        S  \n",
       "4      0            373450   8.0500   NaN        S  "
      ]
     },
     "execution_count": 3,
     "metadata": {},
     "output_type": "execute_result"
    }
   ],
   "source": [
    "data= pd.read_csv(\"/kaggle/input/titanic/train.csv\")\n",
    "data.head()"
   ]
  },
  {
   "cell_type": "markdown",
   "id": "d04e0cec",
   "metadata": {
    "papermill": {
     "duration": 0.018301,
     "end_time": "2022-10-06T16:19:35.613143",
     "exception": false,
     "start_time": "2022-10-06T16:19:35.594842",
     "status": "completed"
    },
    "tags": []
   },
   "source": [
    "Now I'm gonna go more in depth into the data, trying to find the link between Sex and other factors that could vary the survival rate but first we wanna take a look at the graphic data that we have and try to understand it better."
   ]
  },
  {
   "cell_type": "code",
   "execution_count": 4,
   "id": "4ce64f30",
   "metadata": {
    "execution": {
     "iopub.execute_input": "2022-10-06T16:19:35.645887Z",
     "iopub.status.busy": "2022-10-06T16:19:35.645455Z",
     "iopub.status.idle": "2022-10-06T16:19:36.774006Z",
     "shell.execute_reply": "2022-10-06T16:19:36.772646Z"
    },
    "papermill": {
     "duration": 1.148769,
     "end_time": "2022-10-06T16:19:36.777502",
     "exception": false,
     "start_time": "2022-10-06T16:19:35.628733",
     "status": "completed"
    },
    "tags": []
   },
   "outputs": [],
   "source": [
    "import pandas as pd\n",
    "import numpy as np\n",
    "import matplotlib.pyplot as plt\n",
    "import seaborn as sns"
   ]
  },
  {
   "cell_type": "code",
   "execution_count": 5,
   "id": "59aa0941",
   "metadata": {
    "execution": {
     "iopub.execute_input": "2022-10-06T16:19:36.809912Z",
     "iopub.status.busy": "2022-10-06T16:19:36.809451Z",
     "iopub.status.idle": "2022-10-06T16:19:36.815177Z",
     "shell.execute_reply": "2022-10-06T16:19:36.813904Z"
    },
    "papermill": {
     "duration": 0.024951,
     "end_time": "2022-10-06T16:19:36.817786",
     "exception": false,
     "start_time": "2022-10-06T16:19:36.792835",
     "status": "completed"
    },
    "tags": []
   },
   "outputs": [],
   "source": [
    "data_rows = data.shape[0]\n",
    "test_data_rows = test_data.shape[0]"
   ]
  },
  {
   "cell_type": "code",
   "execution_count": 6,
   "id": "d05d6fcd",
   "metadata": {
    "execution": {
     "iopub.execute_input": "2022-10-06T16:19:36.852157Z",
     "iopub.status.busy": "2022-10-06T16:19:36.851663Z",
     "iopub.status.idle": "2022-10-06T16:19:37.130228Z",
     "shell.execute_reply": "2022-10-06T16:19:37.128948Z"
    },
    "papermill": {
     "duration": 0.298762,
     "end_time": "2022-10-06T16:19:37.133029",
     "exception": false,
     "start_time": "2022-10-06T16:19:36.834267",
     "status": "completed"
    },
    "tags": []
   },
   "outputs": [
    {
     "data": {
      "image/png": "[encoded data removed]",
      "text/plain": [
       "<Figure size 720x720 with 1 Axes>"
      ]
     },
     "metadata": {
      "needs_background": "light"
     },
     "output_type": "display_data"
    }
   ],
   "source": [
    "plt.figure(figsize=(10,10))\n",
    "plt.bar(0, data_rows,label=\"train data rows\")\n",
    "plt.bar(1, test_data_rows,label=\"test data rows\")\n",
    "plt.xlabel(\"train data / test data\",fontsize=15)\n",
    "plt.ylabel(\"rows count\",fontsize=15)\n",
    "plt.legend()\n",
    "plt.title(\"data rows count\",fontsize=20)\n",
    "plt.show()"
   ]
  },
  {
   "cell_type": "code",
   "execution_count": 7,
   "id": "e654b551",
   "metadata": {
    "execution": {
     "iopub.execute_input": "2022-10-06T16:19:37.170796Z",
     "iopub.status.busy": "2022-10-06T16:19:37.170215Z",
     "iopub.status.idle": "2022-10-06T16:19:37.199141Z",
     "shell.execute_reply": "2022-10-06T16:19:37.197687Z"
    },
    "papermill": {
     "duration": 0.051476,
     "end_time": "2022-10-06T16:19:37.202422",
     "exception": false,
     "start_time": "2022-10-06T16:19:37.150946",
     "status": "completed"
    },
    "tags": []
   },
   "outputs": [
    {
     "name": "stdout",
     "output_type": "stream",
     "text": [
      "<class 'pandas.core.frame.DataFrame'>\n",
      "RangeIndex: 891 entries, 0 to 890\n",
      "Data columns (total 12 columns):\n",
      " #   Column       Non-Null Count  Dtype  \n",
      "---  ------       --------------  -----  \n",
      " 0   PassengerId  891 non-null    int64  \n",
      " 1   Survived     891 non-null    int64  \n",
      " 2   Pclass       891 non-null    int64  \n",
      " 3   Name         891 non-null    object \n",
      " 4   Sex          891 non-null    object \n",
      " 5   Age          714 non-null    float64\n",
      " 6   SibSp        891 non-null    int64  \n",
      " 7   Parch        891 non-null    int64  \n",
      " 8   Ticket       891 non-null    object \n",
      " 9   Fare         891 non-null    float64\n",
      " 10  Cabin        204 non-null    object \n",
      " 11  Embarked     889 non-null    object \n",
      "dtypes: float64(2), int64(5), object(5)\n",
      "memory usage: 83.7+ KB\n"
     ]
    }
   ],
   "source": [
    "\n",
    "data.info()"
   ]
  },
  {
   "cell_type": "code",
   "execution_count": 8,
   "id": "6ef9716d",
   "metadata": {
    "execution": {
     "iopub.execute_input": "2022-10-06T16:19:37.239374Z",
     "iopub.status.busy": "2022-10-06T16:19:37.238892Z",
     "iopub.status.idle": "2022-10-06T16:19:37.289155Z",
     "shell.execute_reply": "2022-10-06T16:19:37.287801Z"
    },
    "papermill": {
     "duration": 0.073032,
     "end_time": "2022-10-06T16:19:37.291970",
     "exception": false,
     "start_time": "2022-10-06T16:19:37.218938",
     "status": "completed"
    },
    "tags": []
   },
   "outputs": [
    {
     "data": {
      "text/html": [
       "<div>\n",
       "<style scoped>\n",
       "    .dataframe tbody tr th:only-of-type {\n",
       "        vertical-align: middle;\n",
       "    }\n",
       "\n",
       "    .dataframe tbody tr th {\n",
       "        vertical-align: top;\n",
       "    }\n",
       "\n",
       "    .dataframe thead th {\n",
       "        text-align: right;\n",
       "    }\n",
       "</style>\n",
       "<table border=\"1\" class=\"dataframe\">\n",
       "  <thead>\n",
       "    <tr style=\"text-align: right;\">\n",
       "      <th></th>\n",
       "      <th>PassengerId</th>\n",
       "      <th>Survived</th>\n",
       "      <th>Pclass</th>\n",
       "      <th>Name</th>\n",
       "      <th>Sex</th>\n",
       "      <th>Age</th>\n",
       "      <th>SibSp</th>\n",
       "      <th>Parch</th>\n",
       "      <th>Ticket</th>\n",
       "      <th>Fare</th>\n",
       "      <th>Cabin</th>\n",
       "      <th>Embarked</th>\n",
       "    </tr>\n",
       "  </thead>\n",
       "  <tbody>\n",
       "    <tr>\n",
       "      <th>count</th>\n",
       "      <td>891.000000</td>\n",
       "      <td>891.000000</td>\n",
       "      <td>891.000000</td>\n",
       "      <td>891</td>\n",
       "      <td>891</td>\n",
       "      <td>714.000000</td>\n",
       "      <td>891.000000</td>\n",
       "      <td>891.000000</td>\n",
       "      <td>891</td>\n",
       "      <td>891.000000</td>\n",
       "      <td>204</td>\n",
       "      <td>889</td>\n",
       "    </tr>\n",
       "    <tr>\n",
       "      <th>unique</th>\n",
       "      <td>NaN</td>\n",
       "      <td>NaN</td>\n",
       "      <td>NaN</td>\n",
       "      <td>891</td>\n",
       "      <td>2</td>\n",
       "      <td>NaN</td>\n",
       "      <td>NaN</td>\n",
       "      <td>NaN</td>\n",
       "      <td>681</td>\n",
       "      <td>NaN</td>\n",
       "      <td>147</td>\n",
       "      <td>3</td>\n",
       "    </tr>\n",
       "    <tr>\n",
       "      <th>top</th>\n",
       "      <td>NaN</td>\n",
       "      <td>NaN</td>\n",
       "      <td>NaN</td>\n",
       "      <td>Braund, Mr. Owen Harris</td>\n",
       "      <td>male</td>\n",
       "      <td>NaN</td>\n",
       "      <td>NaN</td>\n",
       "      <td>NaN</td>\n",
       "      <td>347082</td>\n",
       "      <td>NaN</td>\n",
       "      <td>B96 B98</td>\n",
       "      <td>S</td>\n",
       "    </tr>\n",
       "    <tr>\n",
       "      <th>freq</th>\n",
       "      <td>NaN</td>\n",
       "      <td>NaN</td>\n",
       "      <td>NaN</td>\n",
       "      <td>1</td>\n",
       "      <td>577</td>\n",
       "      <td>NaN</td>\n",
       "      <td>NaN</td>\n",
       "      <td>NaN</td>\n",
       "      <td>7</td>\n",
       "      <td>NaN</td>\n",
       "      <td>4</td>\n",
       "      <td>644</td>\n",
       "    </tr>\n",
       "    <tr>\n",
       "      <th>mean</th>\n",
       "      <td>446.000000</td>\n",
       "      <td>0.383838</td>\n",
       "      <td>2.308642</td>\n",
       "      <td>NaN</td>\n",
       "      <td>NaN</td>\n",
       "      <td>29.699118</td>\n",
       "      <td>0.523008</td>\n",
       "      <td>0.381594</td>\n",
       "      <td>NaN</td>\n",
       "      <td>32.204208</td>\n",
       "      <td>NaN</td>\n",
       "      <td>NaN</td>\n",
       "    </tr>\n",
       "    <tr>\n",
       "      <th>std</th>\n",
       "      <td>257.353842</td>\n",
       "      <td>0.486592</td>\n",
       "      <td>0.836071</td>\n",
       "      <td>NaN</td>\n",
       "      <td>NaN</td>\n",
       "      <td>14.526497</td>\n",
       "      <td>1.102743</td>\n",
       "      <td>0.806057</td>\n",
       "      <td>NaN</td>\n",
       "      <td>49.693429</td>\n",
       "      <td>NaN</td>\n",
       "      <td>NaN</td>\n",
       "    </tr>\n",
       "    <tr>\n",
       "      <th>min</th>\n",
       "      <td>1.000000</td>\n",
       "      <td>0.000000</td>\n",
       "      <td>1.000000</td>\n",
       "      <td>NaN</td>\n",
       "      <td>NaN</td>\n",
       "      <td>0.420000</td>\n",
       "      <td>0.000000</td>\n",
       "      <td>0.000000</td>\n",
       "      <td>NaN</td>\n",
       "      <td>0.000000</td>\n",
       "      <td>NaN</td>\n",
       "      <td>NaN</td>\n",
       "    </tr>\n",
       "    <tr>\n",
       "      <th>25%</th>\n",
       "      <td>223.500000</td>\n",
       "      <td>0.000000</td>\n",
       "      <td>2.000000</td>\n",
       "      <td>NaN</td>\n",
       "      <td>NaN</td>\n",
       "      <td>20.125000</td>\n",
       "      <td>0.000000</td>\n",
       "      <td>0.000000</td>\n",
       "      <td>NaN</td>\n",
       "      <td>7.910400</td>\n",
       "      <td>NaN</td>\n",
       "      <td>NaN</td>\n",
       "    </tr>\n",
       "    <tr>\n",
       "      <th>50%</th>\n",
       "      <td>446.000000</td>\n",
       "      <td>0.000000</td>\n",
       "      <td>3.000000</td>\n",
       "      <td>NaN</td>\n",
       "      <td>NaN</td>\n",
       "      <td>28.000000</td>\n",
       "      <td>0.000000</td>\n",
       "      <td>0.000000</td>\n",
       "      <td>NaN</td>\n",
       "      <td>14.454200</td>\n",
       "      <td>NaN</td>\n",
       "      <td>NaN</td>\n",
       "    </tr>\n",
       "    <tr>\n",
       "      <th>75%</th>\n",
       "      <td>668.500000</td>\n",
       "      <td>1.000000</td>\n",
       "      <td>3.000000</td>\n",
       "      <td>NaN</td>\n",
       "      <td>NaN</td>\n",
       "      <td>38.000000</td>\n",
       "      <td>1.000000</td>\n",
       "      <td>0.000000</td>\n",
       "      <td>NaN</td>\n",
       "      <td>31.000000</td>\n",
       "      <td>NaN</td>\n",
       "      <td>NaN</td>\n",
       "    </tr>\n",
       "    <tr>\n",
       "      <th>max</th>\n",
       "      <td>891.000000</td>\n",
       "      <td>1.000000</td>\n",
       "      <td>3.000000</td>\n",
       "      <td>NaN</td>\n",
       "      <td>NaN</td>\n",
       "      <td>80.000000</td>\n",
       "      <td>8.000000</td>\n",
       "      <td>6.000000</td>\n",
       "      <td>NaN</td>\n",
       "      <td>512.329200</td>\n",
       "      <td>NaN</td>\n",
       "      <td>NaN</td>\n",
       "    </tr>\n",
       "  </tbody>\n",
       "</table>\n",
       "</div>"
      ],
      "text/plain": [
       "        PassengerId    Survived      Pclass                     Name   Sex  \\\n",
       "count    891.000000  891.000000  891.000000                      891   891   \n",
       "unique          NaN         NaN         NaN                      891     2   \n",
       "top             NaN         NaN         NaN  Braund, Mr. Owen Harris  male   \n",
       "freq            NaN         NaN         NaN                        1   577   \n",
       "mean     446.000000    0.383838    2.308642                      NaN   NaN   \n",
       "std      257.353842    0.486592    0.836071                      NaN   NaN   \n",
       "min        1.000000    0.000000    1.000000                      NaN   NaN   \n",
       "25%      223.500000    0.000000    2.000000                      NaN   NaN   \n",
       "50%      446.000000    0.000000    3.000000                      NaN   NaN   \n",
       "75%      668.500000    1.000000    3.000000                      NaN   NaN   \n",
       "max      891.000000    1.000000    3.000000                      NaN   NaN   \n",
       "\n",
       "               Age       SibSp       Parch  Ticket        Fare    Cabin  \\\n",
       "count   714.000000  891.000000  891.000000     891  891.000000      204   \n",
       "unique         NaN         NaN         NaN     681         NaN      147   \n",
       "top            NaN         NaN         NaN  347082         NaN  B96 B98   \n",
       "freq           NaN         NaN         NaN       7         NaN        4   \n",
       "mean     29.699118    0.523008    0.381594     NaN   32.204208      NaN   \n",
       "std      14.526497    1.102743    0.806057     NaN   49.693429      NaN   \n",
       "min       0.420000    0.000000    0.000000     NaN    0.000000      NaN   \n",
       "25%      20.125000    0.000000    0.000000     NaN    7.910400      NaN   \n",
       "50%      28.000000    0.000000    0.000000     NaN   14.454200      NaN   \n",
       "75%      38.000000    1.000000    0.000000     NaN   31.000000      NaN   \n",
       "max      80.000000    8.000000    6.000000     NaN  512.329200      NaN   \n",
       "\n",
       "       Embarked  \n",
       "count       889  \n",
       "unique        3  \n",
       "top           S  \n",
       "freq        644  \n",
       "mean        NaN  \n",
       "std         NaN  \n",
       "min         NaN  \n",
       "25%         NaN  \n",
       "50%         NaN  \n",
       "75%         NaN  \n",
       "max         NaN  "
      ]
     },
     "execution_count": 8,
     "metadata": {},
     "output_type": "execute_result"
    }
   ],
   "source": [
    "data.describe(include=\"all\")"
   ]
  },
  {
   "cell_type": "markdown",
   "id": "3696de08",
   "metadata": {
    "papermill": {
     "duration": 0.017135,
     "end_time": "2022-10-06T16:19:37.325760",
     "exception": false,
     "start_time": "2022-10-06T16:19:37.308625",
     "status": "completed"
    },
    "tags": []
   },
   "source": [
    "Checking for missing values"
   ]
  },
  {
   "cell_type": "code",
   "execution_count": 9,
   "id": "7c53f36e",
   "metadata": {
    "execution": {
     "iopub.execute_input": "2022-10-06T16:19:37.360344Z",
     "iopub.status.busy": "2022-10-06T16:19:37.359858Z",
     "iopub.status.idle": "2022-10-06T16:19:37.371469Z",
     "shell.execute_reply": "2022-10-06T16:19:37.370172Z"
    },
    "papermill": {
     "duration": 0.032372,
     "end_time": "2022-10-06T16:19:37.374382",
     "exception": false,
     "start_time": "2022-10-06T16:19:37.342010",
     "status": "completed"
    },
    "tags": []
   },
   "outputs": [
    {
     "data": {
      "text/plain": [
       "PassengerId      0\n",
       "Survived         0\n",
       "Pclass           0\n",
       "Name             0\n",
       "Sex              0\n",
       "Age            177\n",
       "SibSp            0\n",
       "Parch            0\n",
       "Ticket           0\n",
       "Fare             0\n",
       "Cabin          687\n",
       "Embarked         2\n",
       "dtype: int64"
      ]
     },
     "execution_count": 9,
     "metadata": {},
     "output_type": "execute_result"
    }
   ],
   "source": [
    "data.isna().sum()"
   ]
  },
  {
   "cell_type": "markdown",
   "id": "e4a0676b",
   "metadata": {
    "papermill": {
     "duration": 0.016423,
     "end_time": "2022-10-06T16:19:37.407688",
     "exception": false,
     "start_time": "2022-10-06T16:19:37.391265",
     "status": "completed"
    },
    "tags": []
   },
   "source": [
    "Lets redo the same for the test data we were given."
   ]
  },
  {
   "cell_type": "code",
   "execution_count": 10,
   "id": "956a73c4",
   "metadata": {
    "execution": {
     "iopub.execute_input": "2022-10-06T16:19:37.444901Z",
     "iopub.status.busy": "2022-10-06T16:19:37.444437Z",
     "iopub.status.idle": "2022-10-06T16:19:37.480853Z",
     "shell.execute_reply": "2022-10-06T16:19:37.479569Z"
    },
    "papermill": {
     "duration": 0.057901,
     "end_time": "2022-10-06T16:19:37.483689",
     "exception": false,
     "start_time": "2022-10-06T16:19:37.425788",
     "status": "completed"
    },
    "tags": []
   },
   "outputs": [
    {
     "data": {
      "text/html": [
       "<div>\n",
       "<style scoped>\n",
       "    .dataframe tbody tr th:only-of-type {\n",
       "        vertical-align: middle;\n",
       "    }\n",
       "\n",
       "    .dataframe tbody tr th {\n",
       "        vertical-align: top;\n",
       "    }\n",
       "\n",
       "    .dataframe thead th {\n",
       "        text-align: right;\n",
       "    }\n",
       "</style>\n",
       "<table border=\"1\" class=\"dataframe\">\n",
       "  <thead>\n",
       "    <tr style=\"text-align: right;\">\n",
       "      <th></th>\n",
       "      <th>PassengerId</th>\n",
       "      <th>Pclass</th>\n",
       "      <th>Age</th>\n",
       "      <th>SibSp</th>\n",
       "      <th>Parch</th>\n",
       "      <th>Fare</th>\n",
       "    </tr>\n",
       "  </thead>\n",
       "  <tbody>\n",
       "    <tr>\n",
       "      <th>count</th>\n",
       "      <td>418.000000</td>\n",
       "      <td>418.000000</td>\n",
       "      <td>332.000000</td>\n",
       "      <td>418.000000</td>\n",
       "      <td>418.000000</td>\n",
       "      <td>417.000000</td>\n",
       "    </tr>\n",
       "    <tr>\n",
       "      <th>mean</th>\n",
       "      <td>1100.500000</td>\n",
       "      <td>2.265550</td>\n",
       "      <td>30.272590</td>\n",
       "      <td>0.447368</td>\n",
       "      <td>0.392344</td>\n",
       "      <td>35.627188</td>\n",
       "    </tr>\n",
       "    <tr>\n",
       "      <th>std</th>\n",
       "      <td>120.810458</td>\n",
       "      <td>0.841838</td>\n",
       "      <td>14.181209</td>\n",
       "      <td>0.896760</td>\n",
       "      <td>0.981429</td>\n",
       "      <td>55.907576</td>\n",
       "    </tr>\n",
       "    <tr>\n",
       "      <th>min</th>\n",
       "      <td>892.000000</td>\n",
       "      <td>1.000000</td>\n",
       "      <td>0.170000</td>\n",
       "      <td>0.000000</td>\n",
       "      <td>0.000000</td>\n",
       "      <td>0.000000</td>\n",
       "    </tr>\n",
       "    <tr>\n",
       "      <th>25%</th>\n",
       "      <td>996.250000</td>\n",
       "      <td>1.000000</td>\n",
       "      <td>21.000000</td>\n",
       "      <td>0.000000</td>\n",
       "      <td>0.000000</td>\n",
       "      <td>7.895800</td>\n",
       "    </tr>\n",
       "    <tr>\n",
       "      <th>50%</th>\n",
       "      <td>1100.500000</td>\n",
       "      <td>3.000000</td>\n",
       "      <td>27.000000</td>\n",
       "      <td>0.000000</td>\n",
       "      <td>0.000000</td>\n",
       "      <td>14.454200</td>\n",
       "    </tr>\n",
       "    <tr>\n",
       "      <th>75%</th>\n",
       "      <td>1204.750000</td>\n",
       "      <td>3.000000</td>\n",
       "      <td>39.000000</td>\n",
       "      <td>1.000000</td>\n",
       "      <td>0.000000</td>\n",
       "      <td>31.500000</td>\n",
       "    </tr>\n",
       "    <tr>\n",
       "      <th>max</th>\n",
       "      <td>1309.000000</td>\n",
       "      <td>3.000000</td>\n",
       "      <td>76.000000</td>\n",
       "      <td>8.000000</td>\n",
       "      <td>9.000000</td>\n",
       "      <td>512.329200</td>\n",
       "    </tr>\n",
       "  </tbody>\n",
       "</table>\n",
       "</div>"
      ],
      "text/plain": [
       "       PassengerId      Pclass         Age       SibSp       Parch        Fare\n",
       "count   418.000000  418.000000  332.000000  418.000000  418.000000  417.000000\n",
       "mean   1100.500000    2.265550   30.272590    0.447368    0.392344   35.627188\n",
       "std     120.810458    0.841838   14.181209    0.896760    0.981429   55.907576\n",
       "min     892.000000    1.000000    0.170000    0.000000    0.000000    0.000000\n",
       "25%     996.250000    1.000000   21.000000    0.000000    0.000000    7.895800\n",
       "50%    1100.500000    3.000000   27.000000    0.000000    0.000000   14.454200\n",
       "75%    1204.750000    3.000000   39.000000    1.000000    0.000000   31.500000\n",
       "max    1309.000000    3.000000   76.000000    8.000000    9.000000  512.329200"
      ]
     },
     "execution_count": 10,
     "metadata": {},
     "output_type": "execute_result"
    }
   ],
   "source": [
    "test_data.describe()\n"
   ]
  },
  {
   "cell_type": "markdown",
   "id": "aedf29fc",
   "metadata": {
    "papermill": {
     "duration": 0.016501,
     "end_time": "2022-10-06T16:19:37.517783",
     "exception": false,
     "start_time": "2022-10-06T16:19:37.501282",
     "status": "completed"
    },
    "tags": []
   },
   "source": [
    "Now It's time to do some EDA, Seeing if we can find a link between Sex & Survival rate"
   ]
  },
  {
   "cell_type": "code",
   "execution_count": 11,
   "id": "2e03282c",
   "metadata": {
    "execution": {
     "iopub.execute_input": "2022-10-06T16:19:37.553785Z",
     "iopub.status.busy": "2022-10-06T16:19:37.553362Z",
     "iopub.status.idle": "2022-10-06T16:19:37.982727Z",
     "shell.execute_reply": "2022-10-06T16:19:37.981533Z"
    },
    "papermill": {
     "duration": 0.451217,
     "end_time": "2022-10-06T16:19:37.985872",
     "exception": false,
     "start_time": "2022-10-06T16:19:37.534655",
     "status": "completed"
    },
    "tags": []
   },
   "outputs": [
    {
     "data": {
      "image/png": "[encoded data removed]",
      "text/plain": [
       "<Figure size 720x720 with 1 Axes>"
      ]
     },
     "metadata": {
      "needs_background": "light"
     },
     "output_type": "display_data"
    }
   ],
   "source": [
    "plt.figure(figsize=(10,10))\n",
    "sns.set(font_scale=1.5)\n",
    "plt.title(\"Sex & Survived\")\n",
    "sns.barplot(x=\"Sex\",y=\"Survived\",hue=\"Pclass\", data=data)\n",
    "plt.show()"
   ]
  },
  {
   "cell_type": "markdown",
   "id": "5290f7d8",
   "metadata": {
    "papermill": {
     "duration": 0.01774,
     "end_time": "2022-10-06T16:19:38.021092",
     "exception": false,
     "start_time": "2022-10-06T16:19:38.003352",
     "status": "completed"
    },
    "tags": []
   },
   "source": [
    "We can conclude from this graph that:\n",
    "\n",
    "\n",
    "1-Female passengers survival rate>Male passengers survival \n",
    "rate\n",
    "\n",
    "\n",
    "2-Survival rate varies with the Pclass\n",
    "\n",
    "We're gonna try & go more in depth into the sex part of this equation, see if it's really important."
   ]
  },
  {
   "cell_type": "code",
   "execution_count": 12,
   "id": "e1b37046",
   "metadata": {
    "execution": {
     "iopub.execute_input": "2022-10-06T16:19:38.059152Z",
     "iopub.status.busy": "2022-10-06T16:19:38.058372Z",
     "iopub.status.idle": "2022-10-06T16:19:38.476874Z",
     "shell.execute_reply": "2022-10-06T16:19:38.475570Z"
    },
    "papermill": {
     "duration": 0.440462,
     "end_time": "2022-10-06T16:19:38.479893",
     "exception": false,
     "start_time": "2022-10-06T16:19:38.039431",
     "status": "completed"
    },
    "tags": []
   },
   "outputs": [
    {
     "data": {
      "image/png": "[encoded data removed]",
      "text/plain": [
       "<Figure size 720x720 with 1 Axes>"
      ]
     },
     "metadata": {},
     "output_type": "display_data"
    }
   ],
   "source": [
    "plt.figure(figsize=(10,10))\n",
    "sns.set(font_scale=1.5)\n",
    "plt.title(\"Embarked & Survived\")\n",
    "sns.barplot(x=\"Embarked\",y=\"Survived\",hue=\"Sex\",\n",
    "           data=data)\n",
    "plt.show()"
   ]
  },
  {
   "cell_type": "markdown",
   "id": "52aee523",
   "metadata": {
    "papermill": {
     "duration": 0.017519,
     "end_time": "2022-10-06T16:19:38.515345",
     "exception": false,
     "start_time": "2022-10-06T16:19:38.497826",
     "status": "completed"
    },
    "tags": []
   },
   "source": [
    "2 conclusions we can come out with:\n",
    "1- Sex is definitly a factor here, Since the number of females are significantly higher than those of the males.\n",
    "\n",
    "\n",
    "2- The  Port of Embarkation (C = Cherbourg; Q = Queenstown; S = Southampton)\n",
    "is also a factor, as the data shows: C > S > Q"
   ]
  },
  {
   "cell_type": "markdown",
   "id": "30e6d380",
   "metadata": {
    "papermill": {
     "duration": 0.017311,
     "end_time": "2022-10-06T16:19:38.550866",
     "exception": false,
     "start_time": "2022-10-06T16:19:38.533555",
     "status": "completed"
    },
    "tags": []
   },
   "source": [
    "Now let's go even more in depth into the data we have. One label certainly peaked my interest: SibSp(Number of Siblings/Spouses on board), Let's see if there's a link with the probability of suvival\n"
   ]
  },
  {
   "cell_type": "code",
   "execution_count": 13,
   "id": "98c343f0",
   "metadata": {
    "execution": {
     "iopub.execute_input": "2022-10-06T16:19:38.590786Z",
     "iopub.status.busy": "2022-10-06T16:19:38.590300Z",
     "iopub.status.idle": "2022-10-06T16:19:39.244008Z",
     "shell.execute_reply": "2022-10-06T16:19:39.241753Z"
    },
    "papermill": {
     "duration": 0.67791,
     "end_time": "2022-10-06T16:19:39.247597",
     "exception": false,
     "start_time": "2022-10-06T16:19:38.569687",
     "status": "completed"
    },
    "tags": []
   },
   "outputs": [
    {
     "data": {
      "image/png": "[encoded data removed]",
      "text/plain": [
       "<Figure size 720x720 with 1 Axes>"
      ]
     },
     "metadata": {},
     "output_type": "display_data"
    }
   ],
   "source": [
    "plt.figure(figsize=(10,10))\n",
    "sns.set(font_scale=1.5)\n",
    "plt.title(\"SibSp & Survived\")\n",
    "sns.lineplot(x=\"SibSp\",y=\"Survived\",\n",
    "            hue=\"Sex\",data=data)\n",
    "plt.show()"
   ]
  },
  {
   "cell_type": "markdown",
   "id": "d9083549",
   "metadata": {
    "papermill": {
     "duration": 0.01849,
     "end_time": "2022-10-06T16:19:39.285665",
     "exception": false,
     "start_time": "2022-10-06T16:19:39.267175",
     "status": "completed"
    },
    "tags": []
   },
   "source": [
    "As Usual, 2 conclusions:\n",
    "1- The Higher the SibSp value is, the Lower the probability of survival is.\n",
    "2- Female survival is still higher than male, But if the number of SibSp>= 5, No one survives."
   ]
  },
  {
   "cell_type": "markdown",
   "id": "f2dfbb96",
   "metadata": {
    "papermill": {
     "duration": 0.018627,
     "end_time": "2022-10-06T16:19:39.323160",
     "exception": false,
     "start_time": "2022-10-06T16:19:39.304533",
     "status": "completed"
    },
    "tags": []
   },
   "source": [
    "Let's Keep going with every label that exists in the data to see if there's a clear link while still keeping sex as a factor."
   ]
  },
  {
   "cell_type": "code",
   "execution_count": 14,
   "id": "c4fb5dd4",
   "metadata": {
    "execution": {
     "iopub.execute_input": "2022-10-06T16:19:39.362346Z",
     "iopub.status.busy": "2022-10-06T16:19:39.361843Z",
     "iopub.status.idle": "2022-10-06T16:19:39.947835Z",
     "shell.execute_reply": "2022-10-06T16:19:39.946469Z"
    },
    "papermill": {
     "duration": 0.608781,
     "end_time": "2022-10-06T16:19:39.950478",
     "exception": false,
     "start_time": "2022-10-06T16:19:39.341697",
     "status": "completed"
    },
    "tags": []
   },
   "outputs": [
    {
     "data": {
      "image/png": "[encoded data removed]",
      "text/plain": [
       "<Figure size 720x720 with 1 Axes>"
      ]
     },
     "metadata": {},
     "output_type": "display_data"
    }
   ],
   "source": [
    "plt.figure(figsize=(10,10))\n",
    "sns.set(font_scale=1.5)\n",
    "plt.title(\"Parch & Survived\")\n",
    "sns.lineplot(x=\"Parch\",y=\"Survived\",\n",
    "             hue=\"Sex\",data=data)\n",
    "plt.show()"
   ]
  },
  {
   "cell_type": "markdown",
   "id": "b2e26f5b",
   "metadata": {
    "papermill": {
     "duration": 0.019384,
     "end_time": "2022-10-06T16:19:39.989876",
     "exception": false,
     "start_time": "2022-10-06T16:19:39.970492",
     "status": "completed"
    },
    "tags": []
   },
   "source": [
    "Parch=Number of Parent/children on board\n",
    "\n",
    "One common thing with SibSp, other than sex, is the higher the value of Parch, the lower the rate of survival.\n",
    "\n",
    "However no new link with the survival rate."
   ]
  },
  {
   "cell_type": "code",
   "execution_count": 15,
   "id": "995ac6b3",
   "metadata": {
    "execution": {
     "iopub.execute_input": "2022-10-06T16:19:40.031235Z",
     "iopub.status.busy": "2022-10-06T16:19:40.030560Z",
     "iopub.status.idle": "2022-10-06T16:19:40.383363Z",
     "shell.execute_reply": "2022-10-06T16:19:40.382385Z"
    },
    "papermill": {
     "duration": 0.37651,
     "end_time": "2022-10-06T16:19:40.385938",
     "exception": false,
     "start_time": "2022-10-06T16:19:40.009428",
     "status": "completed"
    },
    "tags": []
   },
   "outputs": [
    {
     "data": {
      "image/png": "[encoded data removed]",
      "text/plain": [
       "<Figure size 720x720 with 1 Axes>"
      ]
     },
     "metadata": {},
     "output_type": "display_data"
    }
   ],
   "source": [
    "plt.figure(figsize=(10,10))\n",
    "sns.set(font_scale=1.5)\n",
    "plt.title(\"Pclass / Survived\")\n",
    "sns.violinplot(x=\"Pclass\",y=\"Survived\"\n",
    "              ,hue=\"Sex\",data=data,\n",
    "              split=True)\n",
    "plt.show()"
   ]
  },
  {
   "cell_type": "markdown",
   "id": "84612c40",
   "metadata": {
    "papermill": {
     "duration": 0.020733,
     "end_time": "2022-10-06T16:19:40.427491",
     "exception": false,
     "start_time": "2022-10-06T16:19:40.406758",
     "status": "completed"
    },
    "tags": []
   },
   "source": [
    "No clear link with the Pclass & survival rate, Other than the fact that Male in 3rd Pclass have a very low probability of survival and females in 1st & 2nd Pclass have high probabilites, Which I think is related to sex & not to Pclass."
   ]
  },
  {
   "cell_type": "markdown",
   "id": "b5e6ce52",
   "metadata": {
    "papermill": {
     "duration": 0.020631,
     "end_time": "2022-10-06T16:19:40.468811",
     "exception": false,
     "start_time": "2022-10-06T16:19:40.448180",
     "status": "completed"
    },
    "tags": []
   },
   "source": [
    "Let's dive into the age of the passengers, Lets see the age distribution on board & try to find a link."
   ]
  },
  {
   "cell_type": "code",
   "execution_count": 16,
   "id": "09c0862e",
   "metadata": {
    "execution": {
     "iopub.execute_input": "2022-10-06T16:19:40.512015Z",
     "iopub.status.busy": "2022-10-06T16:19:40.511241Z",
     "iopub.status.idle": "2022-10-06T16:19:40.932645Z",
     "shell.execute_reply": "2022-10-06T16:19:40.931056Z"
    },
    "papermill": {
     "duration": 0.446414,
     "end_time": "2022-10-06T16:19:40.935660",
     "exception": false,
     "start_time": "2022-10-06T16:19:40.489246",
     "status": "completed"
    },
    "tags": []
   },
   "outputs": [
    {
     "data": {
      "text/plain": [
       "<Figure size 720x720 with 0 Axes>"
      ]
     },
     "metadata": {},
     "output_type": "display_data"
    },
    {
     "data": {
      "image/png": "[encoded data removed]",
      "text/plain": [
       "<Figure size 360x360 with 1 Axes>"
      ]
     },
     "metadata": {},
     "output_type": "display_data"
    }
   ],
   "source": [
    "plt.figure(figsize=(10,10))\n",
    "sns.set(font_scale=1.5)\n",
    "sns.displot(x=\"Age\",data=data\n",
    "           ,kde=True)\n",
    "plt.show()"
   ]
  },
  {
   "cell_type": "code",
   "execution_count": 17,
   "id": "64430a0e",
   "metadata": {
    "execution": {
     "iopub.execute_input": "2022-10-06T16:19:40.980161Z",
     "iopub.status.busy": "2022-10-06T16:19:40.979696Z",
     "iopub.status.idle": "2022-10-06T16:19:40.987339Z",
     "shell.execute_reply": "2022-10-06T16:19:40.986194Z"
    },
    "papermill": {
     "duration": 0.032932,
     "end_time": "2022-10-06T16:19:40.989886",
     "exception": false,
     "start_time": "2022-10-06T16:19:40.956954",
     "status": "completed"
    },
    "tags": []
   },
   "outputs": [],
   "source": [
    "AgeGroup = []\n",
    "for i in data[\"Age\"]:\n",
    "    if i <= 4:\n",
    "        AgeGroup.append(\"Baby\")\n",
    "    elif 4 < i <= 15:\n",
    "        AgeGroup.append(\"Child\")\n",
    "    elif 15< i < 60:\n",
    "        AgeGroup.append(\"Adult\")\n",
    "    elif 60 <= i:\n",
    "        AgeGroup.append(\"Elder\")\n",
    "    else:\n",
    "        AgeGroup.append(np.NaN)"
   ]
  },
  {
   "cell_type": "code",
   "execution_count": 18,
   "id": "e03d337c",
   "metadata": {
    "execution": {
     "iopub.execute_input": "2022-10-06T16:19:41.035161Z",
     "iopub.status.busy": "2022-10-06T16:19:41.034700Z",
     "iopub.status.idle": "2022-10-06T16:19:41.041189Z",
     "shell.execute_reply": "2022-10-06T16:19:41.039963Z"
    },
    "papermill": {
     "duration": 0.03283,
     "end_time": "2022-10-06T16:19:41.043934",
     "exception": false,
     "start_time": "2022-10-06T16:19:41.011104",
     "status": "completed"
    },
    "tags": []
   },
   "outputs": [],
   "source": [
    "data[\"AgeGroup\"]= AgeGroup"
   ]
  },
  {
   "cell_type": "code",
   "execution_count": 19,
   "id": "e0d9d44f",
   "metadata": {
    "execution": {
     "iopub.execute_input": "2022-10-06T16:19:41.089027Z",
     "iopub.status.busy": "2022-10-06T16:19:41.088270Z",
     "iopub.status.idle": "2022-10-06T16:19:41.444406Z",
     "shell.execute_reply": "2022-10-06T16:19:41.443166Z"
    },
    "papermill": {
     "duration": 0.381655,
     "end_time": "2022-10-06T16:19:41.447034",
     "exception": false,
     "start_time": "2022-10-06T16:19:41.065379",
     "status": "completed"
    },
    "tags": []
   },
   "outputs": [
    {
     "data": {
      "image/png": "[encoded data removed]",
      "text/plain": [
       "<Figure size 720x720 with 1 Axes>"
      ]
     },
     "metadata": {},
     "output_type": "display_data"
    }
   ],
   "source": [
    "plt.figure(figsize=(10,10))\n",
    "sns.set(font_scale=1.5)\n",
    "plt.title(\"Age Group / Survived\")\n",
    "sns.barplot(x=\"AgeGroup\",y=\"Survived\"\n",
    "            ,data=data)\n",
    "plt.show()"
   ]
  },
  {
   "cell_type": "markdown",
   "id": "15017287",
   "metadata": {
    "papermill": {
     "duration": 0.021563,
     "end_time": "2022-10-06T16:19:41.491275",
     "exception": false,
     "start_time": "2022-10-06T16:19:41.469712",
     "status": "completed"
    },
    "tags": []
   },
   "source": [
    "After that last graph We can conclude that the lower the age is the higher the probability of survival"
   ]
  },
  {
   "cell_type": "markdown",
   "id": "7e2e31c2",
   "metadata": {
    "papermill": {
     "duration": 0.021074,
     "end_time": "2022-10-06T16:19:41.533541",
     "exception": false,
     "start_time": "2022-10-06T16:19:41.512467",
     "status": "completed"
    },
    "tags": []
   },
   "source": [
    "Let's make a heatmap to try to find links between labels"
   ]
  },
  {
   "cell_type": "code",
   "execution_count": 20,
   "id": "b2bdf6d7",
   "metadata": {
    "execution": {
     "iopub.execute_input": "2022-10-06T16:19:41.577963Z",
     "iopub.status.busy": "2022-10-06T16:19:41.577516Z",
     "iopub.status.idle": "2022-10-06T16:19:42.136585Z",
     "shell.execute_reply": "2022-10-06T16:19:42.135281Z"
    },
    "papermill": {
     "duration": 0.58442,
     "end_time": "2022-10-06T16:19:42.139281",
     "exception": false,
     "start_time": "2022-10-06T16:19:41.554861",
     "status": "completed"
    },
    "tags": []
   },
   "outputs": [
    {
     "data": {
      "image/png": "[encoded data removed]",
      "text/plain": [
       "<Figure size 720x720 with 2 Axes>"
      ]
     },
     "metadata": {},
     "output_type": "display_data"
    }
   ],
   "source": [
    "plt.figure(figsize=(10,10))\n",
    "sns.set(font_scale=1.5)\n",
    "sns.heatmap(data.corr(),annot=True)\n",
    "plt.show()"
   ]
  },
  {
   "cell_type": "markdown",
   "id": "81f3accb",
   "metadata": {
    "papermill": {
     "duration": 0.023012,
     "end_time": "2022-10-06T16:19:42.186185",
     "exception": false,
     "start_time": "2022-10-06T16:19:42.163173",
     "status": "completed"
    },
    "tags": []
   },
   "source": [
    "Correspondence between SisSp and Parch is high so let's group em.\n"
   ]
  },
  {
   "cell_type": "markdown",
   "id": "13753d9f",
   "metadata": {
    "papermill": {
     "duration": 0.022873,
     "end_time": "2022-10-06T16:19:42.232284",
     "exception": false,
     "start_time": "2022-10-06T16:19:42.209411",
     "status": "completed"
    },
    "tags": []
   },
   "source": [
    "In this competition, Data is already cleaned & prepared for training but I'm gonna do it anyway to deal with NaN values & for practice"
   ]
  },
  {
   "cell_type": "code",
   "execution_count": 21,
   "id": "7e9e1f4a",
   "metadata": {
    "execution": {
     "iopub.execute_input": "2022-10-06T16:19:42.280662Z",
     "iopub.status.busy": "2022-10-06T16:19:42.279912Z",
     "iopub.status.idle": "2022-10-06T16:19:42.287184Z",
     "shell.execute_reply": "2022-10-06T16:19:42.286214Z"
    },
    "papermill": {
     "duration": 0.034012,
     "end_time": "2022-10-06T16:19:42.289621",
     "exception": false,
     "start_time": "2022-10-06T16:19:42.255609",
     "status": "completed"
    },
    "tags": []
   },
   "outputs": [],
   "source": [
    "data[\"Cabin\"].fillna(\"Unknown\", inplace=True)\n",
    "\n",
    "Cabin_unit = []\n",
    "for i in data[\"Cabin\"]:\n",
    "  Cabin_unit.append(i[0])\n",
    "\n",
    "data[\"Cabin_unit\"] = Cabin_unit\n"
   ]
  },
  {
   "cell_type": "code",
   "execution_count": 22,
   "id": "2adcf112",
   "metadata": {
    "execution": {
     "iopub.execute_input": "2022-10-06T16:19:42.338787Z",
     "iopub.status.busy": "2022-10-06T16:19:42.338017Z",
     "iopub.status.idle": "2022-10-06T16:19:42.809959Z",
     "shell.execute_reply": "2022-10-06T16:19:42.808502Z"
    },
    "papermill": {
     "duration": 0.500869,
     "end_time": "2022-10-06T16:19:42.813536",
     "exception": false,
     "start_time": "2022-10-06T16:19:42.312667",
     "status": "completed"
    },
    "tags": []
   },
   "outputs": [
    {
     "data": {
      "image/png": "[encoded data removed]",
      "text/plain": [
       "<Figure size 720x720 with 1 Axes>"
      ]
     },
     "metadata": {},
     "output_type": "display_data"
    }
   ],
   "source": [
    "plt.figure(figsize=(10,10))\n",
    "sns.set(font_scale=1.5)\n",
    "plt.title(\"Cabin_unit/survived\")\n",
    "sns.barplot(x=\"Cabin_unit\",\n",
    "           y=\"Survived\",data=data)\n",
    "plt.show()"
   ]
  },
  {
   "cell_type": "code",
   "execution_count": 23,
   "id": "1278a80b",
   "metadata": {
    "execution": {
     "iopub.execute_input": "2022-10-06T16:19:42.867995Z",
     "iopub.status.busy": "2022-10-06T16:19:42.867528Z",
     "iopub.status.idle": "2022-10-06T16:19:42.916319Z",
     "shell.execute_reply": "2022-10-06T16:19:42.915034Z"
    },
    "papermill": {
     "duration": 0.078598,
     "end_time": "2022-10-06T16:19:42.919202",
     "exception": false,
     "start_time": "2022-10-06T16:19:42.840604",
     "status": "completed"
    },
    "tags": []
   },
   "outputs": [
    {
     "data": {
      "text/html": [
       "<div>\n",
       "<style scoped>\n",
       "    .dataframe tbody tr th:only-of-type {\n",
       "        vertical-align: middle;\n",
       "    }\n",
       "\n",
       "    .dataframe tbody tr th {\n",
       "        vertical-align: top;\n",
       "    }\n",
       "\n",
       "    .dataframe thead th {\n",
       "        text-align: right;\n",
       "    }\n",
       "</style>\n",
       "<table border=\"1\" class=\"dataframe\">\n",
       "  <thead>\n",
       "    <tr style=\"text-align: right;\">\n",
       "      <th></th>\n",
       "      <th>PassengerId</th>\n",
       "      <th>Survived</th>\n",
       "      <th>Pclass</th>\n",
       "      <th>Name</th>\n",
       "      <th>Sex</th>\n",
       "      <th>Age</th>\n",
       "      <th>SibSp</th>\n",
       "      <th>Parch</th>\n",
       "      <th>Ticket</th>\n",
       "      <th>Fare</th>\n",
       "      <th>Cabin</th>\n",
       "      <th>Embarked</th>\n",
       "      <th>AgeGroup</th>\n",
       "      <th>Cabin_unit</th>\n",
       "      <th>Name_re</th>\n",
       "    </tr>\n",
       "  </thead>\n",
       "  <tbody>\n",
       "    <tr>\n",
       "      <th>0</th>\n",
       "      <td>1</td>\n",
       "      <td>0</td>\n",
       "      <td>3</td>\n",
       "      <td>Braund, Mr. Owen Harris</td>\n",
       "      <td>male</td>\n",
       "      <td>22.0</td>\n",
       "      <td>1</td>\n",
       "      <td>0</td>\n",
       "      <td>A/5 21171</td>\n",
       "      <td>7.2500</td>\n",
       "      <td>Unknown</td>\n",
       "      <td>S</td>\n",
       "      <td>Adult</td>\n",
       "      <td>U</td>\n",
       "      <td>Mr</td>\n",
       "    </tr>\n",
       "    <tr>\n",
       "      <th>1</th>\n",
       "      <td>2</td>\n",
       "      <td>1</td>\n",
       "      <td>1</td>\n",
       "      <td>Cumings, Mrs. John Bradley (Florence Briggs Th...</td>\n",
       "      <td>female</td>\n",
       "      <td>38.0</td>\n",
       "      <td>1</td>\n",
       "      <td>0</td>\n",
       "      <td>PC 17599</td>\n",
       "      <td>71.2833</td>\n",
       "      <td>C85</td>\n",
       "      <td>C</td>\n",
       "      <td>Adult</td>\n",
       "      <td>C</td>\n",
       "      <td>Mrs</td>\n",
       "    </tr>\n",
       "    <tr>\n",
       "      <th>2</th>\n",
       "      <td>3</td>\n",
       "      <td>1</td>\n",
       "      <td>3</td>\n",
       "      <td>Heikkinen, Miss. Laina</td>\n",
       "      <td>female</td>\n",
       "      <td>26.0</td>\n",
       "      <td>0</td>\n",
       "      <td>0</td>\n",
       "      <td>STON/O2. 3101282</td>\n",
       "      <td>7.9250</td>\n",
       "      <td>Unknown</td>\n",
       "      <td>S</td>\n",
       "      <td>Adult</td>\n",
       "      <td>U</td>\n",
       "      <td>Miss</td>\n",
       "    </tr>\n",
       "    <tr>\n",
       "      <th>3</th>\n",
       "      <td>4</td>\n",
       "      <td>1</td>\n",
       "      <td>1</td>\n",
       "      <td>Futrelle, Mrs. Jacques Heath (Lily May Peel)</td>\n",
       "      <td>female</td>\n",
       "      <td>35.0</td>\n",
       "      <td>1</td>\n",
       "      <td>0</td>\n",
       "      <td>113803</td>\n",
       "      <td>53.1000</td>\n",
       "      <td>C123</td>\n",
       "      <td>S</td>\n",
       "      <td>Adult</td>\n",
       "      <td>C</td>\n",
       "      <td>Mrs</td>\n",
       "    </tr>\n",
       "    <tr>\n",
       "      <th>4</th>\n",
       "      <td>5</td>\n",
       "      <td>0</td>\n",
       "      <td>3</td>\n",
       "      <td>Allen, Mr. William Henry</td>\n",
       "      <td>male</td>\n",
       "      <td>35.0</td>\n",
       "      <td>0</td>\n",
       "      <td>0</td>\n",
       "      <td>373450</td>\n",
       "      <td>8.0500</td>\n",
       "      <td>Unknown</td>\n",
       "      <td>S</td>\n",
       "      <td>Adult</td>\n",
       "      <td>U</td>\n",
       "      <td>Mr</td>\n",
       "    </tr>\n",
       "    <tr>\n",
       "      <th>...</th>\n",
       "      <td>...</td>\n",
       "      <td>...</td>\n",
       "      <td>...</td>\n",
       "      <td>...</td>\n",
       "      <td>...</td>\n",
       "      <td>...</td>\n",
       "      <td>...</td>\n",
       "      <td>...</td>\n",
       "      <td>...</td>\n",
       "      <td>...</td>\n",
       "      <td>...</td>\n",
       "      <td>...</td>\n",
       "      <td>...</td>\n",
       "      <td>...</td>\n",
       "      <td>...</td>\n",
       "    </tr>\n",
       "    <tr>\n",
       "      <th>886</th>\n",
       "      <td>887</td>\n",
       "      <td>0</td>\n",
       "      <td>2</td>\n",
       "      <td>Montvila, Rev. Juozas</td>\n",
       "      <td>male</td>\n",
       "      <td>27.0</td>\n",
       "      <td>0</td>\n",
       "      <td>0</td>\n",
       "      <td>211536</td>\n",
       "      <td>13.0000</td>\n",
       "      <td>Unknown</td>\n",
       "      <td>S</td>\n",
       "      <td>Adult</td>\n",
       "      <td>U</td>\n",
       "      <td>Mr</td>\n",
       "    </tr>\n",
       "    <tr>\n",
       "      <th>887</th>\n",
       "      <td>888</td>\n",
       "      <td>1</td>\n",
       "      <td>1</td>\n",
       "      <td>Graham, Miss. Margaret Edith</td>\n",
       "      <td>female</td>\n",
       "      <td>19.0</td>\n",
       "      <td>0</td>\n",
       "      <td>0</td>\n",
       "      <td>112053</td>\n",
       "      <td>30.0000</td>\n",
       "      <td>B42</td>\n",
       "      <td>S</td>\n",
       "      <td>Adult</td>\n",
       "      <td>B</td>\n",
       "      <td>Miss</td>\n",
       "    </tr>\n",
       "    <tr>\n",
       "      <th>888</th>\n",
       "      <td>889</td>\n",
       "      <td>0</td>\n",
       "      <td>3</td>\n",
       "      <td>Johnston, Miss. Catherine Helen \"Carrie\"</td>\n",
       "      <td>female</td>\n",
       "      <td>NaN</td>\n",
       "      <td>1</td>\n",
       "      <td>2</td>\n",
       "      <td>W./C. 6607</td>\n",
       "      <td>23.4500</td>\n",
       "      <td>Unknown</td>\n",
       "      <td>S</td>\n",
       "      <td>NaN</td>\n",
       "      <td>U</td>\n",
       "      <td>Miss</td>\n",
       "    </tr>\n",
       "    <tr>\n",
       "      <th>889</th>\n",
       "      <td>890</td>\n",
       "      <td>1</td>\n",
       "      <td>1</td>\n",
       "      <td>Behr, Mr. Karl Howell</td>\n",
       "      <td>male</td>\n",
       "      <td>26.0</td>\n",
       "      <td>0</td>\n",
       "      <td>0</td>\n",
       "      <td>111369</td>\n",
       "      <td>30.0000</td>\n",
       "      <td>C148</td>\n",
       "      <td>C</td>\n",
       "      <td>Adult</td>\n",
       "      <td>C</td>\n",
       "      <td>Mr</td>\n",
       "    </tr>\n",
       "    <tr>\n",
       "      <th>890</th>\n",
       "      <td>891</td>\n",
       "      <td>0</td>\n",
       "      <td>3</td>\n",
       "      <td>Dooley, Mr. Patrick</td>\n",
       "      <td>male</td>\n",
       "      <td>32.0</td>\n",
       "      <td>0</td>\n",
       "      <td>0</td>\n",
       "      <td>370376</td>\n",
       "      <td>7.7500</td>\n",
       "      <td>Unknown</td>\n",
       "      <td>Q</td>\n",
       "      <td>Adult</td>\n",
       "      <td>U</td>\n",
       "      <td>Mr</td>\n",
       "    </tr>\n",
       "  </tbody>\n",
       "</table>\n",
       "<p>891 rows × 15 columns</p>\n",
       "</div>"
      ],
      "text/plain": [
       "     PassengerId  Survived  Pclass  \\\n",
       "0              1         0       3   \n",
       "1              2         1       1   \n",
       "2              3         1       3   \n",
       "3              4         1       1   \n",
       "4              5         0       3   \n",
       "..           ...       ...     ...   \n",
       "886          887         0       2   \n",
       "887          888         1       1   \n",
       "888          889         0       3   \n",
       "889          890         1       1   \n",
       "890          891         0       3   \n",
       "\n",
       "                                                  Name     Sex   Age  SibSp  \\\n",
       "0                              Braund, Mr. Owen Harris    male  22.0      1   \n",
       "1    Cumings, Mrs. John Bradley (Florence Briggs Th...  female  38.0      1   \n",
       "2                               Heikkinen, Miss. Laina  female  26.0      0   \n",
       "3         Futrelle, Mrs. Jacques Heath (Lily May Peel)  female  35.0      1   \n",
       "4                             Allen, Mr. William Henry    male  35.0      0   \n",
       "..                                                 ...     ...   ...    ...   \n",
       "886                              Montvila, Rev. Juozas    male  27.0      0   \n",
       "887                       Graham, Miss. Margaret Edith  female  19.0      0   \n",
       "888           Johnston, Miss. Catherine Helen \"Carrie\"  female   NaN      1   \n",
       "889                              Behr, Mr. Karl Howell    male  26.0      0   \n",
       "890                                Dooley, Mr. Patrick    male  32.0      0   \n",
       "\n",
       "     Parch            Ticket     Fare    Cabin Embarked AgeGroup Cabin_unit  \\\n",
       "0        0         A/5 21171   7.2500  Unknown        S    Adult          U   \n",
       "1        0          PC 17599  71.2833      C85        C    Adult          C   \n",
       "2        0  STON/O2. 3101282   7.9250  Unknown        S    Adult          U   \n",
       "3        0            113803  53.1000     C123        S    Adult          C   \n",
       "4        0            373450   8.0500  Unknown        S    Adult          U   \n",
       "..     ...               ...      ...      ...      ...      ...        ...   \n",
       "886      0            211536  13.0000  Unknown        S    Adult          U   \n",
       "887      0            112053  30.0000      B42        S    Adult          B   \n",
       "888      2        W./C. 6607  23.4500  Unknown        S      NaN          U   \n",
       "889      0            111369  30.0000     C148        C    Adult          C   \n",
       "890      0            370376   7.7500  Unknown        Q    Adult          U   \n",
       "\n",
       "    Name_re  \n",
       "0        Mr  \n",
       "1       Mrs  \n",
       "2      Miss  \n",
       "3       Mrs  \n",
       "4        Mr  \n",
       "..      ...  \n",
       "886      Mr  \n",
       "887    Miss  \n",
       "888    Miss  \n",
       "889      Mr  \n",
       "890      Mr  \n",
       "\n",
       "[891 rows x 15 columns]"
      ]
     },
     "execution_count": 23,
     "metadata": {},
     "output_type": "execute_result"
    }
   ],
   "source": [
    "data.Name.str.split(',', expand=True)[1].str.split('.', expand=True)[0].str.strip().value_counts()\n",
    "\n",
    "data['Name_re'] = data.Name.str.split(',', expand=True)[1].str.split('.', expand=True)[0].str.strip().replace({'Mlle': 'Miss', 'Ms': 'Miss', 'Lady': 'Uncommon', 'Don': 'Uncommon', 'Jonkheer': 'Uncommon', 'the Countess': 'Uncommon', 'Sir': 'Uncommon', 'Mme': 'Uncommon', 'Capt': 'Mr', 'Major': 'Mr', 'Col': 'Mr', 'Rev': 'Mr', 'Dr': 'Mr'})\n",
    "\n",
    "data[\"Name_re\"].value_counts()\n",
    "\n",
    "data                 "
   ]
  },
  {
   "cell_type": "markdown",
   "id": "8a714a93",
   "metadata": {
    "papermill": {
     "duration": 0.023945,
     "end_time": "2022-10-06T16:19:42.968551",
     "exception": false,
     "start_time": "2022-10-06T16:19:42.944606",
     "status": "completed"
    },
    "tags": []
   },
   "source": [
    "Dropping Name since it's useless data & a memory leak"
   ]
  },
  {
   "cell_type": "code",
   "execution_count": 24,
   "id": "81b7345d",
   "metadata": {
    "execution": {
     "iopub.execute_input": "2022-10-06T16:19:43.020001Z",
     "iopub.status.busy": "2022-10-06T16:19:43.019512Z",
     "iopub.status.idle": "2022-10-06T16:19:43.027975Z",
     "shell.execute_reply": "2022-10-06T16:19:43.026999Z"
    },
    "papermill": {
     "duration": 0.0378,
     "end_time": "2022-10-06T16:19:43.030349",
     "exception": false,
     "start_time": "2022-10-06T16:19:42.992549",
     "status": "completed"
    },
    "tags": []
   },
   "outputs": [],
   "source": [
    "data.drop(\"Name\", axis=1, inplace=True)"
   ]
  },
  {
   "cell_type": "code",
   "execution_count": 25,
   "id": "88a3494b",
   "metadata": {
    "execution": {
     "iopub.execute_input": "2022-10-06T16:19:43.082665Z",
     "iopub.status.busy": "2022-10-06T16:19:43.082179Z",
     "iopub.status.idle": "2022-10-06T16:19:43.088751Z",
     "shell.execute_reply": "2022-10-06T16:19:43.087682Z"
    },
    "papermill": {
     "duration": 0.036212,
     "end_time": "2022-10-06T16:19:43.091506",
     "exception": false,
     "start_time": "2022-10-06T16:19:43.055294",
     "status": "completed"
    },
    "tags": []
   },
   "outputs": [],
   "source": [
    "data[\"Age\"].fillna(data[\"Age\"].mean(), inplace=True)"
   ]
  },
  {
   "cell_type": "code",
   "execution_count": 26,
   "id": "09c61a78",
   "metadata": {
    "execution": {
     "iopub.execute_input": "2022-10-06T16:19:43.142006Z",
     "iopub.status.busy": "2022-10-06T16:19:43.141545Z",
     "iopub.status.idle": "2022-10-06T16:19:43.151672Z",
     "shell.execute_reply": "2022-10-06T16:19:43.150470Z"
    },
    "papermill": {
     "duration": 0.038585,
     "end_time": "2022-10-06T16:19:43.154214",
     "exception": false,
     "start_time": "2022-10-06T16:19:43.115629",
     "status": "completed"
    },
    "tags": []
   },
   "outputs": [
    {
     "data": {
      "text/plain": [
       "S    644\n",
       "C    168\n",
       "Q     77\n",
       "Name: Embarked, dtype: int64"
      ]
     },
     "execution_count": 26,
     "metadata": {},
     "output_type": "execute_result"
    }
   ],
   "source": [
    "data[\"Embarked\"].value_counts()"
   ]
  },
  {
   "cell_type": "code",
   "execution_count": 27,
   "id": "cb6233e4",
   "metadata": {
    "execution": {
     "iopub.execute_input": "2022-10-06T16:19:43.204381Z",
     "iopub.status.busy": "2022-10-06T16:19:43.203928Z",
     "iopub.status.idle": "2022-10-06T16:19:43.214529Z",
     "shell.execute_reply": "2022-10-06T16:19:43.213203Z"
    },
    "papermill": {
     "duration": 0.038844,
     "end_time": "2022-10-06T16:19:43.217076",
     "exception": false,
     "start_time": "2022-10-06T16:19:43.178232",
     "status": "completed"
    },
    "tags": []
   },
   "outputs": [
    {
     "data": {
      "text/plain": [
       "S    646\n",
       "C    168\n",
       "Q     77\n",
       "Name: Embarked, dtype: int64"
      ]
     },
     "execution_count": 27,
     "metadata": {},
     "output_type": "execute_result"
    }
   ],
   "source": [
    "data[\"Embarked\"].fillna(\"S\",inplace=True)\n",
    "data[\"Embarked\"].value_counts()\n",
    "#2 values added"
   ]
  },
  {
   "cell_type": "code",
   "execution_count": 28,
   "id": "df290003",
   "metadata": {
    "execution": {
     "iopub.execute_input": "2022-10-06T16:19:43.268217Z",
     "iopub.status.busy": "2022-10-06T16:19:43.267747Z",
     "iopub.status.idle": "2022-10-06T16:19:43.276949Z",
     "shell.execute_reply": "2022-10-06T16:19:43.275589Z"
    },
    "papermill": {
     "duration": 0.037955,
     "end_time": "2022-10-06T16:19:43.279602",
     "exception": false,
     "start_time": "2022-10-06T16:19:43.241647",
     "status": "completed"
    },
    "tags": []
   },
   "outputs": [],
   "source": [
    "#Grouping sibsp & Parch into family\n",
    "data[\"Family\"] = data[\"SibSp\"] + data[\"Parch\"]\n",
    "\n",
    "data.drop([\"SibSp\", \"Parch\"], axis=1, inplace=True)\n"
   ]
  },
  {
   "cell_type": "code",
   "execution_count": 29,
   "id": "667ebfb6",
   "metadata": {
    "execution": {
     "iopub.execute_input": "2022-10-06T16:19:43.330916Z",
     "iopub.status.busy": "2022-10-06T16:19:43.329935Z",
     "iopub.status.idle": "2022-10-06T16:19:43.826480Z",
     "shell.execute_reply": "2022-10-06T16:19:43.824921Z"
    },
    "papermill": {
     "duration": 0.525661,
     "end_time": "2022-10-06T16:19:43.829293",
     "exception": false,
     "start_time": "2022-10-06T16:19:43.303632",
     "status": "completed"
    },
    "tags": []
   },
   "outputs": [
    {
     "data": {
      "image/png": "[encoded data removed]",
      "text/plain": [
       "<Figure size 720x720 with 1 Axes>"
      ]
     },
     "metadata": {},
     "output_type": "display_data"
    }
   ],
   "source": [
    "plt.figure(figsize=(10,10))\n",
    "sns.set(font_scale=1.5)\n",
    "plt.title(\"Family Size / Survived\")\n",
    "sns.lineplot(x=\"Family\",y=\"Survived\"\n",
    "            ,data=data)\n",
    "plt.show()"
   ]
  },
  {
   "cell_type": "code",
   "execution_count": 30,
   "id": "cedfa5ca",
   "metadata": {
    "execution": {
     "iopub.execute_input": "2022-10-06T16:19:43.884096Z",
     "iopub.status.busy": "2022-10-06T16:19:43.883638Z",
     "iopub.status.idle": "2022-10-06T16:19:43.916200Z",
     "shell.execute_reply": "2022-10-06T16:19:43.914919Z"
    },
    "papermill": {
     "duration": 0.062752,
     "end_time": "2022-10-06T16:19:43.918982",
     "exception": false,
     "start_time": "2022-10-06T16:19:43.856230",
     "status": "completed"
    },
    "tags": []
   },
   "outputs": [
    {
     "data": {
      "text/html": [
       "<div>\n",
       "<style scoped>\n",
       "    .dataframe tbody tr th:only-of-type {\n",
       "        vertical-align: middle;\n",
       "    }\n",
       "\n",
       "    .dataframe tbody tr th {\n",
       "        vertical-align: top;\n",
       "    }\n",
       "\n",
       "    .dataframe thead th {\n",
       "        text-align: right;\n",
       "    }\n",
       "</style>\n",
       "<table border=\"1\" class=\"dataframe\">\n",
       "  <thead>\n",
       "    <tr style=\"text-align: right;\">\n",
       "      <th></th>\n",
       "      <th>PassengerId</th>\n",
       "      <th>Survived</th>\n",
       "      <th>Pclass</th>\n",
       "      <th>Sex</th>\n",
       "      <th>Age</th>\n",
       "      <th>Ticket</th>\n",
       "      <th>Fare</th>\n",
       "      <th>Cabin</th>\n",
       "      <th>Embarked</th>\n",
       "      <th>AgeGroup</th>\n",
       "      <th>Cabin_unit</th>\n",
       "      <th>Name_re</th>\n",
       "      <th>Family</th>\n",
       "      <th>Alone</th>\n",
       "    </tr>\n",
       "  </thead>\n",
       "  <tbody>\n",
       "    <tr>\n",
       "      <th>0</th>\n",
       "      <td>1</td>\n",
       "      <td>0</td>\n",
       "      <td>3</td>\n",
       "      <td>male</td>\n",
       "      <td>22.000000</td>\n",
       "      <td>A/5 21171</td>\n",
       "      <td>7.2500</td>\n",
       "      <td>Unknown</td>\n",
       "      <td>S</td>\n",
       "      <td>Adult</td>\n",
       "      <td>U</td>\n",
       "      <td>Mr</td>\n",
       "      <td>1</td>\n",
       "      <td>0</td>\n",
       "    </tr>\n",
       "    <tr>\n",
       "      <th>1</th>\n",
       "      <td>2</td>\n",
       "      <td>1</td>\n",
       "      <td>1</td>\n",
       "      <td>female</td>\n",
       "      <td>38.000000</td>\n",
       "      <td>PC 17599</td>\n",
       "      <td>71.2833</td>\n",
       "      <td>C85</td>\n",
       "      <td>C</td>\n",
       "      <td>Adult</td>\n",
       "      <td>C</td>\n",
       "      <td>Mrs</td>\n",
       "      <td>1</td>\n",
       "      <td>0</td>\n",
       "    </tr>\n",
       "    <tr>\n",
       "      <th>2</th>\n",
       "      <td>3</td>\n",
       "      <td>1</td>\n",
       "      <td>3</td>\n",
       "      <td>female</td>\n",
       "      <td>26.000000</td>\n",
       "      <td>STON/O2. 3101282</td>\n",
       "      <td>7.9250</td>\n",
       "      <td>Unknown</td>\n",
       "      <td>S</td>\n",
       "      <td>Adult</td>\n",
       "      <td>U</td>\n",
       "      <td>Miss</td>\n",
       "      <td>0</td>\n",
       "      <td>1</td>\n",
       "    </tr>\n",
       "    <tr>\n",
       "      <th>3</th>\n",
       "      <td>4</td>\n",
       "      <td>1</td>\n",
       "      <td>1</td>\n",
       "      <td>female</td>\n",
       "      <td>35.000000</td>\n",
       "      <td>113803</td>\n",
       "      <td>53.1000</td>\n",
       "      <td>C123</td>\n",
       "      <td>S</td>\n",
       "      <td>Adult</td>\n",
       "      <td>C</td>\n",
       "      <td>Mrs</td>\n",
       "      <td>1</td>\n",
       "      <td>0</td>\n",
       "    </tr>\n",
       "    <tr>\n",
       "      <th>4</th>\n",
       "      <td>5</td>\n",
       "      <td>0</td>\n",
       "      <td>3</td>\n",
       "      <td>male</td>\n",
       "      <td>35.000000</td>\n",
       "      <td>373450</td>\n",
       "      <td>8.0500</td>\n",
       "      <td>Unknown</td>\n",
       "      <td>S</td>\n",
       "      <td>Adult</td>\n",
       "      <td>U</td>\n",
       "      <td>Mr</td>\n",
       "      <td>0</td>\n",
       "      <td>1</td>\n",
       "    </tr>\n",
       "    <tr>\n",
       "      <th>...</th>\n",
       "      <td>...</td>\n",
       "      <td>...</td>\n",
       "      <td>...</td>\n",
       "      <td>...</td>\n",
       "      <td>...</td>\n",
       "      <td>...</td>\n",
       "      <td>...</td>\n",
       "      <td>...</td>\n",
       "      <td>...</td>\n",
       "      <td>...</td>\n",
       "      <td>...</td>\n",
       "      <td>...</td>\n",
       "      <td>...</td>\n",
       "      <td>...</td>\n",
       "    </tr>\n",
       "    <tr>\n",
       "      <th>886</th>\n",
       "      <td>887</td>\n",
       "      <td>0</td>\n",
       "      <td>2</td>\n",
       "      <td>male</td>\n",
       "      <td>27.000000</td>\n",
       "      <td>211536</td>\n",
       "      <td>13.0000</td>\n",
       "      <td>Unknown</td>\n",
       "      <td>S</td>\n",
       "      <td>Adult</td>\n",
       "      <td>U</td>\n",
       "      <td>Mr</td>\n",
       "      <td>0</td>\n",
       "      <td>1</td>\n",
       "    </tr>\n",
       "    <tr>\n",
       "      <th>887</th>\n",
       "      <td>888</td>\n",
       "      <td>1</td>\n",
       "      <td>1</td>\n",
       "      <td>female</td>\n",
       "      <td>19.000000</td>\n",
       "      <td>112053</td>\n",
       "      <td>30.0000</td>\n",
       "      <td>B42</td>\n",
       "      <td>S</td>\n",
       "      <td>Adult</td>\n",
       "      <td>B</td>\n",
       "      <td>Miss</td>\n",
       "      <td>0</td>\n",
       "      <td>1</td>\n",
       "    </tr>\n",
       "    <tr>\n",
       "      <th>888</th>\n",
       "      <td>889</td>\n",
       "      <td>0</td>\n",
       "      <td>3</td>\n",
       "      <td>female</td>\n",
       "      <td>29.699118</td>\n",
       "      <td>W./C. 6607</td>\n",
       "      <td>23.4500</td>\n",
       "      <td>Unknown</td>\n",
       "      <td>S</td>\n",
       "      <td>NaN</td>\n",
       "      <td>U</td>\n",
       "      <td>Miss</td>\n",
       "      <td>3</td>\n",
       "      <td>0</td>\n",
       "    </tr>\n",
       "    <tr>\n",
       "      <th>889</th>\n",
       "      <td>890</td>\n",
       "      <td>1</td>\n",
       "      <td>1</td>\n",
       "      <td>male</td>\n",
       "      <td>26.000000</td>\n",
       "      <td>111369</td>\n",
       "      <td>30.0000</td>\n",
       "      <td>C148</td>\n",
       "      <td>C</td>\n",
       "      <td>Adult</td>\n",
       "      <td>C</td>\n",
       "      <td>Mr</td>\n",
       "      <td>0</td>\n",
       "      <td>1</td>\n",
       "    </tr>\n",
       "    <tr>\n",
       "      <th>890</th>\n",
       "      <td>891</td>\n",
       "      <td>0</td>\n",
       "      <td>3</td>\n",
       "      <td>male</td>\n",
       "      <td>32.000000</td>\n",
       "      <td>370376</td>\n",
       "      <td>7.7500</td>\n",
       "      <td>Unknown</td>\n",
       "      <td>Q</td>\n",
       "      <td>Adult</td>\n",
       "      <td>U</td>\n",
       "      <td>Mr</td>\n",
       "      <td>0</td>\n",
       "      <td>1</td>\n",
       "    </tr>\n",
       "  </tbody>\n",
       "</table>\n",
       "<p>891 rows × 14 columns</p>\n",
       "</div>"
      ],
      "text/plain": [
       "     PassengerId  Survived  Pclass     Sex        Age            Ticket  \\\n",
       "0              1         0       3    male  22.000000         A/5 21171   \n",
       "1              2         1       1  female  38.000000          PC 17599   \n",
       "2              3         1       3  female  26.000000  STON/O2. 3101282   \n",
       "3              4         1       1  female  35.000000            113803   \n",
       "4              5         0       3    male  35.000000            373450   \n",
       "..           ...       ...     ...     ...        ...               ...   \n",
       "886          887         0       2    male  27.000000            211536   \n",
       "887          888         1       1  female  19.000000            112053   \n",
       "888          889         0       3  female  29.699118        W./C. 6607   \n",
       "889          890         1       1    male  26.000000            111369   \n",
       "890          891         0       3    male  32.000000            370376   \n",
       "\n",
       "        Fare    Cabin Embarked AgeGroup Cabin_unit Name_re  Family  Alone  \n",
       "0     7.2500  Unknown        S    Adult          U      Mr       1      0  \n",
       "1    71.2833      C85        C    Adult          C     Mrs       1      0  \n",
       "2     7.9250  Unknown        S    Adult          U    Miss       0      1  \n",
       "3    53.1000     C123        S    Adult          C     Mrs       1      0  \n",
       "4     8.0500  Unknown        S    Adult          U      Mr       0      1  \n",
       "..       ...      ...      ...      ...        ...     ...     ...    ...  \n",
       "886  13.0000  Unknown        S    Adult          U      Mr       0      1  \n",
       "887  30.0000      B42        S    Adult          B    Miss       0      1  \n",
       "888  23.4500  Unknown        S      NaN          U    Miss       3      0  \n",
       "889  30.0000     C148        C    Adult          C      Mr       0      1  \n",
       "890   7.7500  Unknown        Q    Adult          U      Mr       0      1  \n",
       "\n",
       "[891 rows x 14 columns]"
      ]
     },
     "execution_count": 30,
     "metadata": {},
     "output_type": "execute_result"
    }
   ],
   "source": [
    "Alone = []\n",
    "for i in data[\"Family\"]:\n",
    "  if i == 0:\n",
    "    Alone.append(True)\n",
    "  else:\n",
    "    Alone.append(False)\n",
    "\n",
    "data[\"Alone\"] = Alone\n",
    "\n",
    "data[\"Alone\"] =data[\"Alone\"].astype(\"int\")\n",
    "\n",
    "data"
   ]
  },
  {
   "cell_type": "code",
   "execution_count": 31,
   "id": "0efaea90",
   "metadata": {
    "execution": {
     "iopub.execute_input": "2022-10-06T16:19:43.975132Z",
     "iopub.status.busy": "2022-10-06T16:19:43.974643Z",
     "iopub.status.idle": "2022-10-06T16:19:44.360407Z",
     "shell.execute_reply": "2022-10-06T16:19:44.359369Z"
    },
    "papermill": {
     "duration": 0.416454,
     "end_time": "2022-10-06T16:19:44.363045",
     "exception": false,
     "start_time": "2022-10-06T16:19:43.946591",
     "status": "completed"
    },
    "tags": []
   },
   "outputs": [
    {
     "data": {
      "image/png": "[encoded data removed]",
      "text/plain": [
       "<Figure size 720x504 with 1 Axes>"
      ]
     },
     "metadata": {},
     "output_type": "display_data"
    }
   ],
   "source": [
    "plt.figure(figsize=(10,7))\n",
    "sns.set(font_scale=1.5)\n",
    "plt.title(\"Alone / Survived\")\n",
    "sns.barplot(x=\"Alone\",y=\"Survived\"\n",
    "           ,hue=\"Sex\", data=data)\n",
    "plt.show()"
   ]
  },
  {
   "cell_type": "markdown",
   "id": "586804d7",
   "metadata": {
    "papermill": {
     "duration": 0.028582,
     "end_time": "2022-10-06T16:19:44.420092",
     "exception": false,
     "start_time": "2022-10-06T16:19:44.391510",
     "status": "completed"
    },
    "tags": []
   },
   "source": [
    "Valuable data & link's here :p"
   ]
  },
  {
   "cell_type": "code",
   "execution_count": 32,
   "id": "baa96d2e",
   "metadata": {
    "execution": {
     "iopub.execute_input": "2022-10-06T16:19:44.481371Z",
     "iopub.status.busy": "2022-10-06T16:19:44.480637Z",
     "iopub.status.idle": "2022-10-06T16:19:44.486816Z",
     "shell.execute_reply": "2022-10-06T16:19:44.485780Z"
    },
    "papermill": {
     "duration": 0.039753,
     "end_time": "2022-10-06T16:19:44.489912",
     "exception": false,
     "start_time": "2022-10-06T16:19:44.450159",
     "status": "completed"
    },
    "tags": []
   },
   "outputs": [],
   "source": [
    "data[\"Cabin_unit\"].replace({\"T\":\"U\"}, inplace=True)"
   ]
  },
  {
   "cell_type": "code",
   "execution_count": 33,
   "id": "2c103c0b",
   "metadata": {
    "execution": {
     "iopub.execute_input": "2022-10-06T16:19:44.546915Z",
     "iopub.status.busy": "2022-10-06T16:19:44.546456Z",
     "iopub.status.idle": "2022-10-06T16:19:44.554534Z",
     "shell.execute_reply": "2022-10-06T16:19:44.553218Z"
    },
    "papermill": {
     "duration": 0.038578,
     "end_time": "2022-10-06T16:19:44.557352",
     "exception": false,
     "start_time": "2022-10-06T16:19:44.518774",
     "status": "completed"
    },
    "tags": []
   },
   "outputs": [],
   "source": [
    "data.drop([\"Ticket\", \"Cabin\"], axis=1, inplace=True)"
   ]
  },
  {
   "cell_type": "code",
   "execution_count": 34,
   "id": "58e02da2",
   "metadata": {
    "execution": {
     "iopub.execute_input": "2022-10-06T16:19:44.612162Z",
     "iopub.status.busy": "2022-10-06T16:19:44.611247Z",
     "iopub.status.idle": "2022-10-06T16:19:44.645341Z",
     "shell.execute_reply": "2022-10-06T16:19:44.644119Z"
    },
    "papermill": {
     "duration": 0.064906,
     "end_time": "2022-10-06T16:19:44.648137",
     "exception": false,
     "start_time": "2022-10-06T16:19:44.583231",
     "status": "completed"
    },
    "tags": []
   },
   "outputs": [
    {
     "data": {
      "text/html": [
       "<div>\n",
       "<style scoped>\n",
       "    .dataframe tbody tr th:only-of-type {\n",
       "        vertical-align: middle;\n",
       "    }\n",
       "\n",
       "    .dataframe tbody tr th {\n",
       "        vertical-align: top;\n",
       "    }\n",
       "\n",
       "    .dataframe thead th {\n",
       "        text-align: right;\n",
       "    }\n",
       "</style>\n",
       "<table border=\"1\" class=\"dataframe\">\n",
       "  <thead>\n",
       "    <tr style=\"text-align: right;\">\n",
       "      <th></th>\n",
       "      <th>PassengerId</th>\n",
       "      <th>Survived</th>\n",
       "      <th>Pclass</th>\n",
       "      <th>Age</th>\n",
       "      <th>Fare</th>\n",
       "      <th>AgeGroup</th>\n",
       "      <th>Family</th>\n",
       "      <th>Alone</th>\n",
       "      <th>Sex_male</th>\n",
       "      <th>Embarked_Q</th>\n",
       "      <th>...</th>\n",
       "      <th>Cabin_unit_C</th>\n",
       "      <th>Cabin_unit_D</th>\n",
       "      <th>Cabin_unit_E</th>\n",
       "      <th>Cabin_unit_F</th>\n",
       "      <th>Cabin_unit_G</th>\n",
       "      <th>Cabin_unit_U</th>\n",
       "      <th>Name_re_Miss</th>\n",
       "      <th>Name_re_Mr</th>\n",
       "      <th>Name_re_Mrs</th>\n",
       "      <th>Name_re_Uncommon</th>\n",
       "    </tr>\n",
       "  </thead>\n",
       "  <tbody>\n",
       "    <tr>\n",
       "      <th>0</th>\n",
       "      <td>1</td>\n",
       "      <td>0</td>\n",
       "      <td>3</td>\n",
       "      <td>22.000000</td>\n",
       "      <td>7.2500</td>\n",
       "      <td>Adult</td>\n",
       "      <td>1</td>\n",
       "      <td>0</td>\n",
       "      <td>1</td>\n",
       "      <td>0</td>\n",
       "      <td>...</td>\n",
       "      <td>0</td>\n",
       "      <td>0</td>\n",
       "      <td>0</td>\n",
       "      <td>0</td>\n",
       "      <td>0</td>\n",
       "      <td>1</td>\n",
       "      <td>0</td>\n",
       "      <td>1</td>\n",
       "      <td>0</td>\n",
       "      <td>0</td>\n",
       "    </tr>\n",
       "    <tr>\n",
       "      <th>1</th>\n",
       "      <td>2</td>\n",
       "      <td>1</td>\n",
       "      <td>1</td>\n",
       "      <td>38.000000</td>\n",
       "      <td>71.2833</td>\n",
       "      <td>Adult</td>\n",
       "      <td>1</td>\n",
       "      <td>0</td>\n",
       "      <td>0</td>\n",
       "      <td>0</td>\n",
       "      <td>...</td>\n",
       "      <td>1</td>\n",
       "      <td>0</td>\n",
       "      <td>0</td>\n",
       "      <td>0</td>\n",
       "      <td>0</td>\n",
       "      <td>0</td>\n",
       "      <td>0</td>\n",
       "      <td>0</td>\n",
       "      <td>1</td>\n",
       "      <td>0</td>\n",
       "    </tr>\n",
       "    <tr>\n",
       "      <th>2</th>\n",
       "      <td>3</td>\n",
       "      <td>1</td>\n",
       "      <td>3</td>\n",
       "      <td>26.000000</td>\n",
       "      <td>7.9250</td>\n",
       "      <td>Adult</td>\n",
       "      <td>0</td>\n",
       "      <td>1</td>\n",
       "      <td>0</td>\n",
       "      <td>0</td>\n",
       "      <td>...</td>\n",
       "      <td>0</td>\n",
       "      <td>0</td>\n",
       "      <td>0</td>\n",
       "      <td>0</td>\n",
       "      <td>0</td>\n",
       "      <td>1</td>\n",
       "      <td>1</td>\n",
       "      <td>0</td>\n",
       "      <td>0</td>\n",
       "      <td>0</td>\n",
       "    </tr>\n",
       "    <tr>\n",
       "      <th>3</th>\n",
       "      <td>4</td>\n",
       "      <td>1</td>\n",
       "      <td>1</td>\n",
       "      <td>35.000000</td>\n",
       "      <td>53.1000</td>\n",
       "      <td>Adult</td>\n",
       "      <td>1</td>\n",
       "      <td>0</td>\n",
       "      <td>0</td>\n",
       "      <td>0</td>\n",
       "      <td>...</td>\n",
       "      <td>1</td>\n",
       "      <td>0</td>\n",
       "      <td>0</td>\n",
       "      <td>0</td>\n",
       "      <td>0</td>\n",
       "      <td>0</td>\n",
       "      <td>0</td>\n",
       "      <td>0</td>\n",
       "      <td>1</td>\n",
       "      <td>0</td>\n",
       "    </tr>\n",
       "    <tr>\n",
       "      <th>4</th>\n",
       "      <td>5</td>\n",
       "      <td>0</td>\n",
       "      <td>3</td>\n",
       "      <td>35.000000</td>\n",
       "      <td>8.0500</td>\n",
       "      <td>Adult</td>\n",
       "      <td>0</td>\n",
       "      <td>1</td>\n",
       "      <td>1</td>\n",
       "      <td>0</td>\n",
       "      <td>...</td>\n",
       "      <td>0</td>\n",
       "      <td>0</td>\n",
       "      <td>0</td>\n",
       "      <td>0</td>\n",
       "      <td>0</td>\n",
       "      <td>1</td>\n",
       "      <td>0</td>\n",
       "      <td>1</td>\n",
       "      <td>0</td>\n",
       "      <td>0</td>\n",
       "    </tr>\n",
       "    <tr>\n",
       "      <th>...</th>\n",
       "      <td>...</td>\n",
       "      <td>...</td>\n",
       "      <td>...</td>\n",
       "      <td>...</td>\n",
       "      <td>...</td>\n",
       "      <td>...</td>\n",
       "      <td>...</td>\n",
       "      <td>...</td>\n",
       "      <td>...</td>\n",
       "      <td>...</td>\n",
       "      <td>...</td>\n",
       "      <td>...</td>\n",
       "      <td>...</td>\n",
       "      <td>...</td>\n",
       "      <td>...</td>\n",
       "      <td>...</td>\n",
       "      <td>...</td>\n",
       "      <td>...</td>\n",
       "      <td>...</td>\n",
       "      <td>...</td>\n",
       "      <td>...</td>\n",
       "    </tr>\n",
       "    <tr>\n",
       "      <th>886</th>\n",
       "      <td>887</td>\n",
       "      <td>0</td>\n",
       "      <td>2</td>\n",
       "      <td>27.000000</td>\n",
       "      <td>13.0000</td>\n",
       "      <td>Adult</td>\n",
       "      <td>0</td>\n",
       "      <td>1</td>\n",
       "      <td>1</td>\n",
       "      <td>0</td>\n",
       "      <td>...</td>\n",
       "      <td>0</td>\n",
       "      <td>0</td>\n",
       "      <td>0</td>\n",
       "      <td>0</td>\n",
       "      <td>0</td>\n",
       "      <td>1</td>\n",
       "      <td>0</td>\n",
       "      <td>1</td>\n",
       "      <td>0</td>\n",
       "      <td>0</td>\n",
       "    </tr>\n",
       "    <tr>\n",
       "      <th>887</th>\n",
       "      <td>888</td>\n",
       "      <td>1</td>\n",
       "      <td>1</td>\n",
       "      <td>19.000000</td>\n",
       "      <td>30.0000</td>\n",
       "      <td>Adult</td>\n",
       "      <td>0</td>\n",
       "      <td>1</td>\n",
       "      <td>0</td>\n",
       "      <td>0</td>\n",
       "      <td>...</td>\n",
       "      <td>0</td>\n",
       "      <td>0</td>\n",
       "      <td>0</td>\n",
       "      <td>0</td>\n",
       "      <td>0</td>\n",
       "      <td>0</td>\n",
       "      <td>1</td>\n",
       "      <td>0</td>\n",
       "      <td>0</td>\n",
       "      <td>0</td>\n",
       "    </tr>\n",
       "    <tr>\n",
       "      <th>888</th>\n",
       "      <td>889</td>\n",
       "      <td>0</td>\n",
       "      <td>3</td>\n",
       "      <td>29.699118</td>\n",
       "      <td>23.4500</td>\n",
       "      <td>NaN</td>\n",
       "      <td>3</td>\n",
       "      <td>0</td>\n",
       "      <td>0</td>\n",
       "      <td>0</td>\n",
       "      <td>...</td>\n",
       "      <td>0</td>\n",
       "      <td>0</td>\n",
       "      <td>0</td>\n",
       "      <td>0</td>\n",
       "      <td>0</td>\n",
       "      <td>1</td>\n",
       "      <td>1</td>\n",
       "      <td>0</td>\n",
       "      <td>0</td>\n",
       "      <td>0</td>\n",
       "    </tr>\n",
       "    <tr>\n",
       "      <th>889</th>\n",
       "      <td>890</td>\n",
       "      <td>1</td>\n",
       "      <td>1</td>\n",
       "      <td>26.000000</td>\n",
       "      <td>30.0000</td>\n",
       "      <td>Adult</td>\n",
       "      <td>0</td>\n",
       "      <td>1</td>\n",
       "      <td>1</td>\n",
       "      <td>0</td>\n",
       "      <td>...</td>\n",
       "      <td>1</td>\n",
       "      <td>0</td>\n",
       "      <td>0</td>\n",
       "      <td>0</td>\n",
       "      <td>0</td>\n",
       "      <td>0</td>\n",
       "      <td>0</td>\n",
       "      <td>1</td>\n",
       "      <td>0</td>\n",
       "      <td>0</td>\n",
       "    </tr>\n",
       "    <tr>\n",
       "      <th>890</th>\n",
       "      <td>891</td>\n",
       "      <td>0</td>\n",
       "      <td>3</td>\n",
       "      <td>32.000000</td>\n",
       "      <td>7.7500</td>\n",
       "      <td>Adult</td>\n",
       "      <td>0</td>\n",
       "      <td>1</td>\n",
       "      <td>1</td>\n",
       "      <td>1</td>\n",
       "      <td>...</td>\n",
       "      <td>0</td>\n",
       "      <td>0</td>\n",
       "      <td>0</td>\n",
       "      <td>0</td>\n",
       "      <td>0</td>\n",
       "      <td>1</td>\n",
       "      <td>0</td>\n",
       "      <td>1</td>\n",
       "      <td>0</td>\n",
       "      <td>0</td>\n",
       "    </tr>\n",
       "  </tbody>\n",
       "</table>\n",
       "<p>891 rows × 22 columns</p>\n",
       "</div>"
      ],
      "text/plain": [
       "     PassengerId  Survived  Pclass        Age     Fare AgeGroup  Family  \\\n",
       "0              1         0       3  22.000000   7.2500    Adult       1   \n",
       "1              2         1       1  38.000000  71.2833    Adult       1   \n",
       "2              3         1       3  26.000000   7.9250    Adult       0   \n",
       "3              4         1       1  35.000000  53.1000    Adult       1   \n",
       "4              5         0       3  35.000000   8.0500    Adult       0   \n",
       "..           ...       ...     ...        ...      ...      ...     ...   \n",
       "886          887         0       2  27.000000  13.0000    Adult       0   \n",
       "887          888         1       1  19.000000  30.0000    Adult       0   \n",
       "888          889         0       3  29.699118  23.4500      NaN       3   \n",
       "889          890         1       1  26.000000  30.0000    Adult       0   \n",
       "890          891         0       3  32.000000   7.7500    Adult       0   \n",
       "\n",
       "     Alone  Sex_male  Embarked_Q  ...  Cabin_unit_C  Cabin_unit_D  \\\n",
       "0        0         1           0  ...             0             0   \n",
       "1        0         0           0  ...             1             0   \n",
       "2        1         0           0  ...             0             0   \n",
       "3        0         0           0  ...             1             0   \n",
       "4        1         1           0  ...             0             0   \n",
       "..     ...       ...         ...  ...           ...           ...   \n",
       "886      1         1           0  ...             0             0   \n",
       "887      1         0           0  ...             0             0   \n",
       "888      0         0           0  ...             0             0   \n",
       "889      1         1           0  ...             1             0   \n",
       "890      1         1           1  ...             0             0   \n",
       "\n",
       "     Cabin_unit_E  Cabin_unit_F  Cabin_unit_G  Cabin_unit_U  Name_re_Miss  \\\n",
       "0               0             0             0             1             0   \n",
       "1               0             0             0             0             0   \n",
       "2               0             0             0             1             1   \n",
       "3               0             0             0             0             0   \n",
       "4               0             0             0             1             0   \n",
       "..            ...           ...           ...           ...           ...   \n",
       "886             0             0             0             1             0   \n",
       "887             0             0             0             0             1   \n",
       "888             0             0             0             1             1   \n",
       "889             0             0             0             0             0   \n",
       "890             0             0             0             1             0   \n",
       "\n",
       "     Name_re_Mr  Name_re_Mrs  Name_re_Uncommon  \n",
       "0             1            0                 0  \n",
       "1             0            1                 0  \n",
       "2             0            0                 0  \n",
       "3             0            1                 0  \n",
       "4             1            0                 0  \n",
       "..          ...          ...               ...  \n",
       "886           1            0                 0  \n",
       "887           0            0                 0  \n",
       "888           0            0                 0  \n",
       "889           1            0                 0  \n",
       "890           1            0                 0  \n",
       "\n",
       "[891 rows x 22 columns]"
      ]
     },
     "execution_count": 34,
     "metadata": {},
     "output_type": "execute_result"
    }
   ],
   "source": [
    "data = pd.get_dummies(data, columns=[\"Sex\", \"Embarked\", \"Cabin_unit\", \"Name_re\"], drop_first=True)\n",
    "\n",
    "data\n"
   ]
  },
  {
   "cell_type": "code",
   "execution_count": 35,
   "id": "74696777",
   "metadata": {
    "execution": {
     "iopub.execute_input": "2022-10-06T16:19:44.704381Z",
     "iopub.status.busy": "2022-10-06T16:19:44.703913Z",
     "iopub.status.idle": "2022-10-06T16:19:44.713388Z",
     "shell.execute_reply": "2022-10-06T16:19:44.712406Z"
    },
    "papermill": {
     "duration": 0.039878,
     "end_time": "2022-10-06T16:19:44.715597",
     "exception": false,
     "start_time": "2022-10-06T16:19:44.675719",
     "status": "completed"
    },
    "tags": []
   },
   "outputs": [
    {
     "data": {
      "text/plain": [
       "((891, 19), (891,))"
      ]
     },
     "execution_count": 35,
     "metadata": {},
     "output_type": "execute_result"
    }
   ],
   "source": [
    "x = data.drop([\"PassengerId\", \"Survived\", \"AgeGroup\"], axis=1)\n",
    "y = data[\"Survived\"]\n",
    "x.shape, y.shape"
   ]
  },
  {
   "cell_type": "markdown",
   "id": "d1c703ff",
   "metadata": {
    "papermill": {
     "duration": 0.026937,
     "end_time": "2022-10-06T16:19:44.768954",
     "exception": false,
     "start_time": "2022-10-06T16:19:44.742017",
     "status": "completed"
    },
    "tags": []
   },
   "source": [
    "Data cleaned & we got what we need as well as the links with survival rate, time for the modeling for the machine"
   ]
  },
  {
   "cell_type": "code",
   "execution_count": 36,
   "id": "0d44da37",
   "metadata": {
    "execution": {
     "iopub.execute_input": "2022-10-06T16:19:44.826995Z",
     "iopub.status.busy": "2022-10-06T16:19:44.825850Z",
     "iopub.status.idle": "2022-10-06T16:19:45.358343Z",
     "shell.execute_reply": "2022-10-06T16:19:45.356231Z"
    },
    "papermill": {
     "duration": 0.565909,
     "end_time": "2022-10-06T16:19:45.361457",
     "exception": false,
     "start_time": "2022-10-06T16:19:44.795548",
     "status": "completed"
    },
    "tags": []
   },
   "outputs": [],
   "source": [
    "# Importing Modeling libraired, in this case its XGBoost\n",
    "import xgboost as xgb\n",
    "pre_model = xgb.XGBClassifier()\n"
   ]
  },
  {
   "cell_type": "code",
   "execution_count": 37,
   "id": "2bb4da53",
   "metadata": {
    "execution": {
     "iopub.execute_input": "2022-10-06T16:19:45.417794Z",
     "iopub.status.busy": "2022-10-06T16:19:45.417266Z",
     "iopub.status.idle": "2022-10-06T16:19:45.424400Z",
     "shell.execute_reply": "2022-10-06T16:19:45.422946Z"
    },
    "papermill": {
     "duration": 0.03978,
     "end_time": "2022-10-06T16:19:45.427407",
     "exception": false,
     "start_time": "2022-10-06T16:19:45.387627",
     "status": "completed"
    },
    "tags": []
   },
   "outputs": [],
   "source": [
    "params = {\n",
    "    \"n_estimators\": [3, 5, 10, 50, 100, 200],\n",
    "    \"learning_rate\": [0.01, 0.05, 0.1, 0.3],\n",
    "    \"max_depth\": [1, 3, 5, 10, 15],\n",
    "    \"subsample\": [0.6, 0.8, 1]\n",
    "}"
   ]
  },
  {
   "cell_type": "code",
   "execution_count": 38,
   "id": "91a90e7e",
   "metadata": {
    "execution": {
     "iopub.execute_input": "2022-10-06T16:19:45.491374Z",
     "iopub.status.busy": "2022-10-06T16:19:45.490920Z",
     "iopub.status.idle": "2022-10-06T16:19:45.497051Z",
     "shell.execute_reply": "2022-10-06T16:19:45.495646Z"
    },
    "papermill": {
     "duration": 0.038796,
     "end_time": "2022-10-06T16:19:45.499559",
     "exception": false,
     "start_time": "2022-10-06T16:19:45.460763",
     "status": "completed"
    },
    "tags": []
   },
   "outputs": [],
   "source": [
    "from sklearn.model_selection import train_test_split, GridSearchCV\n",
    "model = GridSearchCV(pre_model, params, n_jobs=-1, cv=5)"
   ]
  },
  {
   "cell_type": "code",
   "execution_count": 39,
   "id": "7278b02c",
   "metadata": {
    "execution": {
     "iopub.execute_input": "2022-10-06T16:19:45.554879Z",
     "iopub.status.busy": "2022-10-06T16:19:45.554459Z",
     "iopub.status.idle": "2022-10-06T16:19:45.562196Z",
     "shell.execute_reply": "2022-10-06T16:19:45.561192Z"
    },
    "papermill": {
     "duration": 0.038324,
     "end_time": "2022-10-06T16:19:45.564766",
     "exception": false,
     "start_time": "2022-10-06T16:19:45.526442",
     "status": "completed"
    },
    "tags": []
   },
   "outputs": [],
   "source": [
    "x_train, x_test, y_train, y_test = train_test_split(x, y, test_size=0.2)\n"
   ]
  },
  {
   "cell_type": "code",
   "execution_count": 40,
   "id": "9cfee057",
   "metadata": {
    "execution": {
     "iopub.execute_input": "2022-10-06T16:19:45.620388Z",
     "iopub.status.busy": "2022-10-06T16:19:45.619934Z",
     "iopub.status.idle": "2022-10-06T16:22:13.286686Z",
     "shell.execute_reply": "2022-10-06T16:22:13.284435Z"
    },
    "papermill": {
     "duration": 147.731052,
     "end_time": "2022-10-06T16:22:13.322379",
     "exception": false,
     "start_time": "2022-10-06T16:19:45.591327",
     "status": "completed"
    },
    "tags": []
   },
   "outputs": [
    {
     "data": {
      "text/plain": [
       "GridSearchCV(cv=5,\n",
       "             estimator=XGBClassifier(base_score=None, booster=None,\n",
       "                                     callbacks=None, colsample_bylevel=None,\n",
       "                                     colsample_bynode=None,\n",
       "                                     colsample_bytree=None,\n",
       "                                     early_stopping_rounds=None,\n",
       "                                     enable_categorical=False, eval_metric=None,\n",
       "                                     gamma=None, gpu_id=None, grow_policy=None,\n",
       "                                     importance_type=None,\n",
       "                                     interaction_constraints=None,\n",
       "                                     learning_rate=None, max_bin=None,\n",
       "                                     max_ca...\n",
       "                                     max_delta_step=None, max_depth=None,\n",
       "                                     max_leaves=None, min_child_weight=None,\n",
       "                                     missing=nan, monotone_constraints=None,\n",
       "                                     n_estimators=100, n_jobs=None,\n",
       "                                     num_parallel_tree=None, predictor=None,\n",
       "                                     random_state=None, reg_alpha=None,\n",
       "                                     reg_lambda=None, ...),\n",
       "             n_jobs=-1,\n",
       "             param_grid={'learning_rate': [0.01, 0.05, 0.1, 0.3],\n",
       "                         'max_depth': [1, 3, 5, 10, 15],\n",
       "                         'n_estimators': [3, 5, 10, 50, 100, 200],\n",
       "                         'subsample': [0.6, 0.8, 1]})"
      ]
     },
     "execution_count": 40,
     "metadata": {},
     "output_type": "execute_result"
    }
   ],
   "source": [
    "model.fit(x_train, y_train)"
   ]
  },
  {
   "cell_type": "markdown",
   "id": "199760cf",
   "metadata": {
    "papermill": {
     "duration": 0.0276,
     "end_time": "2022-10-06T16:22:13.377089",
     "exception": false,
     "start_time": "2022-10-06T16:22:13.349489",
     "status": "completed"
    },
    "tags": []
   },
   "source": [
    "Now our Machine has it's algorythm ready, and gave us the best parameters to work with"
   ]
  },
  {
   "cell_type": "markdown",
   "id": "9b0c29c8",
   "metadata": {
    "papermill": {
     "duration": 0.028469,
     "end_time": "2022-10-06T16:22:13.433986",
     "exception": false,
     "start_time": "2022-10-06T16:22:13.405517",
     "status": "completed"
    },
    "tags": []
   },
   "source": [
    "Let's print those out and as well as the estimator it uses."
   ]
  },
  {
   "cell_type": "code",
   "execution_count": 41,
   "id": "59647023",
   "metadata": {
    "execution": {
     "iopub.execute_input": "2022-10-06T16:22:13.493268Z",
     "iopub.status.busy": "2022-10-06T16:22:13.492221Z",
     "iopub.status.idle": "2022-10-06T16:22:13.501571Z",
     "shell.execute_reply": "2022-10-06T16:22:13.499611Z"
    },
    "papermill": {
     "duration": 0.042673,
     "end_time": "2022-10-06T16:22:13.504198",
     "exception": false,
     "start_time": "2022-10-06T16:22:13.461525",
     "status": "completed"
    },
    "tags": []
   },
   "outputs": [
    {
     "name": "stdout",
     "output_type": "stream",
     "text": [
      "{'learning_rate': 0.05, 'max_depth': 3, 'n_estimators': 50, 'subsample': 1}\n"
     ]
    }
   ],
   "source": [
    "#Best parameters\n",
    "print(model.best_params_)"
   ]
  },
  {
   "cell_type": "code",
   "execution_count": 42,
   "id": "ce558ab3",
   "metadata": {
    "execution": {
     "iopub.execute_input": "2022-10-06T16:22:13.561693Z",
     "iopub.status.busy": "2022-10-06T16:22:13.560790Z",
     "iopub.status.idle": "2022-10-06T16:22:13.573065Z",
     "shell.execute_reply": "2022-10-06T16:22:13.571811Z"
    },
    "papermill": {
     "duration": 0.043659,
     "end_time": "2022-10-06T16:22:13.575730",
     "exception": false,
     "start_time": "2022-10-06T16:22:13.532071",
     "status": "completed"
    },
    "tags": []
   },
   "outputs": [
    {
     "data": {
      "text/plain": [
       "array([0.13187167, 0.02549652, 0.03068767, 0.09830285, 0.        ,\n",
       "       0.01865882, 0.        , 0.03566892, 0.        , 0.        ,\n",
       "       0.02608903, 0.0278445 , 0.        , 0.        , 0.09415001,\n",
       "       0.        , 0.50013435, 0.        , 0.01109573], dtype=float32)"
      ]
     },
     "execution_count": 42,
     "metadata": {},
     "output_type": "execute_result"
    }
   ],
   "source": [
    "#estimator\n",
    "model.best_estimator_.feature_importances_"
   ]
  },
  {
   "cell_type": "code",
   "execution_count": 43,
   "id": "ba81e8b3",
   "metadata": {
    "execution": {
     "iopub.execute_input": "2022-10-06T16:22:13.634309Z",
     "iopub.status.busy": "2022-10-06T16:22:13.633838Z",
     "iopub.status.idle": "2022-10-06T16:22:14.093526Z",
     "shell.execute_reply": "2022-10-06T16:22:14.092449Z"
    },
    "papermill": {
     "duration": 0.492684,
     "end_time": "2022-10-06T16:22:14.096872",
     "exception": false,
     "start_time": "2022-10-06T16:22:13.604188",
     "status": "completed"
    },
    "tags": []
   },
   "outputs": [
    {
     "data": {
      "image/png": "[encoded data removed]",
      "text/plain": [
       "<Figure size 1080x720 with 1 Axes>"
      ]
     },
     "metadata": {},
     "output_type": "display_data"
    }
   ],
   "source": [
    "F_imp = pd.DataFrame({\"Feature\": x_train.columns, \"importance\": model.best_estimator_.feature_importances_}).sort_values(\"importance\", ascending=False)\n",
    "\n",
    "plt.figure(figsize=(15,10))\n",
    "sns.set(font_scale=1.5)\n",
    "plt.title(\"Feature Importance\")\n",
    "sns.barplot(x=\"importance\", y=\"Feature\", data=F_imp)\n",
    "plt.show()"
   ]
  },
  {
   "cell_type": "markdown",
   "id": "1b5d2bca",
   "metadata": {
    "papermill": {
     "duration": 0.028973,
     "end_time": "2022-10-06T16:22:14.155612",
     "exception": false,
     "start_time": "2022-10-06T16:22:14.126639",
     "status": "completed"
    },
    "tags": []
   },
   "source": [
    "Now our machine is ready to go, all we have to do is put it in the test data to start with predictions, but before that we have to prepare said data."
   ]
  },
  {
   "cell_type": "code",
   "execution_count": 44,
   "id": "0d165637",
   "metadata": {
    "execution": {
     "iopub.execute_input": "2022-10-06T16:22:14.216571Z",
     "iopub.status.busy": "2022-10-06T16:22:14.216050Z",
     "iopub.status.idle": "2022-10-06T16:22:14.227481Z",
     "shell.execute_reply": "2022-10-06T16:22:14.226019Z"
    },
    "papermill": {
     "duration": 0.044803,
     "end_time": "2022-10-06T16:22:14.230053",
     "exception": false,
     "start_time": "2022-10-06T16:22:14.185250",
     "status": "completed"
    },
    "tags": []
   },
   "outputs": [
    {
     "data": {
      "text/plain": [
       "PassengerId      0\n",
       "Pclass           0\n",
       "Name             0\n",
       "Sex              0\n",
       "Age             86\n",
       "SibSp            0\n",
       "Parch            0\n",
       "Ticket           0\n",
       "Fare             1\n",
       "Cabin          327\n",
       "Embarked         0\n",
       "dtype: int64"
      ]
     },
     "execution_count": 44,
     "metadata": {},
     "output_type": "execute_result"
    }
   ],
   "source": [
    "test_data.isna().sum()"
   ]
  },
  {
   "cell_type": "code",
   "execution_count": 45,
   "id": "db6b809b",
   "metadata": {
    "execution": {
     "iopub.execute_input": "2022-10-06T16:22:14.289954Z",
     "iopub.status.busy": "2022-10-06T16:22:14.289146Z",
     "iopub.status.idle": "2022-10-06T16:22:14.321811Z",
     "shell.execute_reply": "2022-10-06T16:22:14.320373Z"
    },
    "papermill": {
     "duration": 0.066839,
     "end_time": "2022-10-06T16:22:14.324977",
     "exception": false,
     "start_time": "2022-10-06T16:22:14.258138",
     "status": "completed"
    },
    "tags": []
   },
   "outputs": [],
   "source": [
    "test_data[\"Age\"].fillna(test_data[\"Age\"].median(), inplace=True)\n",
    "\n",
    "test_data[\"Fare\"].fillna(test_data[\"Fare\"].median(), inplace=True)\n",
    "\n",
    "test_data[\"Cabin\"].fillna(\"Unknown\", inplace=True)\n",
    "\n",
    "Cabin_unit = []\n",
    "for i in test_data[\"Cabin\"]:\n",
    "  Cabin_unit.append(i[0])\n",
    "\n",
    "test_data[\"Cabin_unit\"] = Cabin_unit\n",
    "\n",
    "test_data.Name.str.split(',', expand=True)[1].str.split('.', expand=True)[0].str.strip().value_counts()\n",
    "\n",
    "test_data['Name_re'] = test_data.Name.str.split(',', expand=True)[1].str.split('.', expand=True)[0].str.strip().replace({'Mlle': 'Miss', 'Ms': 'Miss', 'Lady': 'Uncommon', 'Don': 'Uncommon', 'Jonkheer': 'Uncommon', 'the Countess': 'Uncommon', 'Sir': 'Uncommon', 'Mme': 'Uncommon', 'Capt': 'Mr', 'Major': 'Mr', 'Col': 'Mr', 'Rev': 'Mr', 'Dr': 'Mr', \"Dona\": \"Uncommon\"})\n",
    "\n",
    "test_data.drop([\"Name\", \"Cabin\", \"Ticket\"], axis=1, inplace=True)"
   ]
  },
  {
   "cell_type": "code",
   "execution_count": 46,
   "id": "7b4c11a1",
   "metadata": {
    "execution": {
     "iopub.execute_input": "2022-10-06T16:22:14.388465Z",
     "iopub.status.busy": "2022-10-06T16:22:14.387612Z",
     "iopub.status.idle": "2022-10-06T16:22:14.431029Z",
     "shell.execute_reply": "2022-10-06T16:22:14.429644Z"
    },
    "papermill": {
     "duration": 0.079019,
     "end_time": "2022-10-06T16:22:14.433883",
     "exception": false,
     "start_time": "2022-10-06T16:22:14.354864",
     "status": "completed"
    },
    "tags": []
   },
   "outputs": [
    {
     "data": {
      "text/html": [
       "<div>\n",
       "<style scoped>\n",
       "    .dataframe tbody tr th:only-of-type {\n",
       "        vertical-align: middle;\n",
       "    }\n",
       "\n",
       "    .dataframe tbody tr th {\n",
       "        vertical-align: top;\n",
       "    }\n",
       "\n",
       "    .dataframe thead th {\n",
       "        text-align: right;\n",
       "    }\n",
       "</style>\n",
       "<table border=\"1\" class=\"dataframe\">\n",
       "  <thead>\n",
       "    <tr style=\"text-align: right;\">\n",
       "      <th></th>\n",
       "      <th>PassengerId</th>\n",
       "      <th>Pclass</th>\n",
       "      <th>Sex</th>\n",
       "      <th>Age</th>\n",
       "      <th>Fare</th>\n",
       "      <th>Embarked</th>\n",
       "      <th>Cabin_unit</th>\n",
       "      <th>Name_re</th>\n",
       "      <th>Family</th>\n",
       "      <th>Alone</th>\n",
       "    </tr>\n",
       "  </thead>\n",
       "  <tbody>\n",
       "    <tr>\n",
       "      <th>0</th>\n",
       "      <td>892</td>\n",
       "      <td>3</td>\n",
       "      <td>male</td>\n",
       "      <td>34.5</td>\n",
       "      <td>7.8292</td>\n",
       "      <td>Q</td>\n",
       "      <td>U</td>\n",
       "      <td>Mr</td>\n",
       "      <td>0</td>\n",
       "      <td>1</td>\n",
       "    </tr>\n",
       "    <tr>\n",
       "      <th>1</th>\n",
       "      <td>893</td>\n",
       "      <td>3</td>\n",
       "      <td>female</td>\n",
       "      <td>47.0</td>\n",
       "      <td>7.0000</td>\n",
       "      <td>S</td>\n",
       "      <td>U</td>\n",
       "      <td>Mrs</td>\n",
       "      <td>1</td>\n",
       "      <td>0</td>\n",
       "    </tr>\n",
       "    <tr>\n",
       "      <th>2</th>\n",
       "      <td>894</td>\n",
       "      <td>2</td>\n",
       "      <td>male</td>\n",
       "      <td>62.0</td>\n",
       "      <td>9.6875</td>\n",
       "      <td>Q</td>\n",
       "      <td>U</td>\n",
       "      <td>Mr</td>\n",
       "      <td>0</td>\n",
       "      <td>1</td>\n",
       "    </tr>\n",
       "    <tr>\n",
       "      <th>3</th>\n",
       "      <td>895</td>\n",
       "      <td>3</td>\n",
       "      <td>male</td>\n",
       "      <td>27.0</td>\n",
       "      <td>8.6625</td>\n",
       "      <td>S</td>\n",
       "      <td>U</td>\n",
       "      <td>Mr</td>\n",
       "      <td>0</td>\n",
       "      <td>1</td>\n",
       "    </tr>\n",
       "    <tr>\n",
       "      <th>4</th>\n",
       "      <td>896</td>\n",
       "      <td>3</td>\n",
       "      <td>female</td>\n",
       "      <td>22.0</td>\n",
       "      <td>12.2875</td>\n",
       "      <td>S</td>\n",
       "      <td>U</td>\n",
       "      <td>Mrs</td>\n",
       "      <td>2</td>\n",
       "      <td>0</td>\n",
       "    </tr>\n",
       "    <tr>\n",
       "      <th>...</th>\n",
       "      <td>...</td>\n",
       "      <td>...</td>\n",
       "      <td>...</td>\n",
       "      <td>...</td>\n",
       "      <td>...</td>\n",
       "      <td>...</td>\n",
       "      <td>...</td>\n",
       "      <td>...</td>\n",
       "      <td>...</td>\n",
       "      <td>...</td>\n",
       "    </tr>\n",
       "    <tr>\n",
       "      <th>413</th>\n",
       "      <td>1305</td>\n",
       "      <td>3</td>\n",
       "      <td>male</td>\n",
       "      <td>27.0</td>\n",
       "      <td>8.0500</td>\n",
       "      <td>S</td>\n",
       "      <td>U</td>\n",
       "      <td>Mr</td>\n",
       "      <td>0</td>\n",
       "      <td>1</td>\n",
       "    </tr>\n",
       "    <tr>\n",
       "      <th>414</th>\n",
       "      <td>1306</td>\n",
       "      <td>1</td>\n",
       "      <td>female</td>\n",
       "      <td>39.0</td>\n",
       "      <td>108.9000</td>\n",
       "      <td>C</td>\n",
       "      <td>C</td>\n",
       "      <td>Uncommon</td>\n",
       "      <td>0</td>\n",
       "      <td>1</td>\n",
       "    </tr>\n",
       "    <tr>\n",
       "      <th>415</th>\n",
       "      <td>1307</td>\n",
       "      <td>3</td>\n",
       "      <td>male</td>\n",
       "      <td>38.5</td>\n",
       "      <td>7.2500</td>\n",
       "      <td>S</td>\n",
       "      <td>U</td>\n",
       "      <td>Mr</td>\n",
       "      <td>0</td>\n",
       "      <td>1</td>\n",
       "    </tr>\n",
       "    <tr>\n",
       "      <th>416</th>\n",
       "      <td>1308</td>\n",
       "      <td>3</td>\n",
       "      <td>male</td>\n",
       "      <td>27.0</td>\n",
       "      <td>8.0500</td>\n",
       "      <td>S</td>\n",
       "      <td>U</td>\n",
       "      <td>Mr</td>\n",
       "      <td>0</td>\n",
       "      <td>1</td>\n",
       "    </tr>\n",
       "    <tr>\n",
       "      <th>417</th>\n",
       "      <td>1309</td>\n",
       "      <td>3</td>\n",
       "      <td>male</td>\n",
       "      <td>27.0</td>\n",
       "      <td>22.3583</td>\n",
       "      <td>C</td>\n",
       "      <td>U</td>\n",
       "      <td>Master</td>\n",
       "      <td>2</td>\n",
       "      <td>0</td>\n",
       "    </tr>\n",
       "  </tbody>\n",
       "</table>\n",
       "<p>418 rows × 10 columns</p>\n",
       "</div>"
      ],
      "text/plain": [
       "     PassengerId  Pclass     Sex   Age      Fare Embarked Cabin_unit  \\\n",
       "0            892       3    male  34.5    7.8292        Q          U   \n",
       "1            893       3  female  47.0    7.0000        S          U   \n",
       "2            894       2    male  62.0    9.6875        Q          U   \n",
       "3            895       3    male  27.0    8.6625        S          U   \n",
       "4            896       3  female  22.0   12.2875        S          U   \n",
       "..           ...     ...     ...   ...       ...      ...        ...   \n",
       "413         1305       3    male  27.0    8.0500        S          U   \n",
       "414         1306       1  female  39.0  108.9000        C          C   \n",
       "415         1307       3    male  38.5    7.2500        S          U   \n",
       "416         1308       3    male  27.0    8.0500        S          U   \n",
       "417         1309       3    male  27.0   22.3583        C          U   \n",
       "\n",
       "      Name_re  Family  Alone  \n",
       "0          Mr       0      1  \n",
       "1         Mrs       1      0  \n",
       "2          Mr       0      1  \n",
       "3          Mr       0      1  \n",
       "4         Mrs       2      0  \n",
       "..        ...     ...    ...  \n",
       "413        Mr       0      1  \n",
       "414  Uncommon       0      1  \n",
       "415        Mr       0      1  \n",
       "416        Mr       0      1  \n",
       "417    Master       2      0  \n",
       "\n",
       "[418 rows x 10 columns]"
      ]
     },
     "execution_count": 46,
     "metadata": {},
     "output_type": "execute_result"
    }
   ],
   "source": [
    "test_data.isna().sum()\n",
    "\n",
    "test_data[\"Family\"] = test_data[\"SibSp\"] + test_data[\"Parch\"]\n",
    "\n",
    "test_data.drop([\"SibSp\", \"Parch\"], axis=1, inplace=True)\n",
    "\n",
    "Alone = []\n",
    "for i in test_data[\"Family\"]:\n",
    "  if i == 0:\n",
    "    Alone.append(True)\n",
    "  else:\n",
    "    Alone.append(False)\n",
    "\n",
    "test_data[\"Alone\"] = Alone\n",
    "\n",
    "test_data[\"Alone\"] =test_data[\"Alone\"].astype(\"int\")\n",
    "\n",
    "test_data"
   ]
  },
  {
   "cell_type": "code",
   "execution_count": 47,
   "id": "d97bbc5d",
   "metadata": {
    "execution": {
     "iopub.execute_input": "2022-10-06T16:22:14.498676Z",
     "iopub.status.busy": "2022-10-06T16:22:14.497793Z",
     "iopub.status.idle": "2022-10-06T16:22:14.513516Z",
     "shell.execute_reply": "2022-10-06T16:22:14.512392Z"
    },
    "papermill": {
     "duration": 0.050348,
     "end_time": "2022-10-06T16:22:14.516361",
     "exception": false,
     "start_time": "2022-10-06T16:22:14.466013",
     "status": "completed"
    },
    "tags": []
   },
   "outputs": [],
   "source": [
    "test_data = pd.get_dummies(test_data, columns=[\"Sex\", \"Embarked\", \"Cabin_unit\", \"Name_re\"], drop_first=True)"
   ]
  },
  {
   "cell_type": "markdown",
   "id": "56a3f24c",
   "metadata": {
    "papermill": {
     "duration": 0.029181,
     "end_time": "2022-10-06T16:22:14.575699",
     "exception": false,
     "start_time": "2022-10-06T16:22:14.546518",
     "status": "completed"
    },
    "tags": []
   },
   "source": [
    "Well, Training Data was cleaned & prepped!\n",
    "Model is trained! \n",
    "Now all that's left is to start the prediction & submit our results.\n",
    "\n"
   ]
  },
  {
   "cell_type": "code",
   "execution_count": 48,
   "id": "e3117e93",
   "metadata": {
    "execution": {
     "iopub.execute_input": "2022-10-06T16:22:14.636394Z",
     "iopub.status.busy": "2022-10-06T16:22:14.635946Z",
     "iopub.status.idle": "2022-10-06T16:22:14.660122Z",
     "shell.execute_reply": "2022-10-06T16:22:14.658858Z"
    },
    "papermill": {
     "duration": 0.059313,
     "end_time": "2022-10-06T16:22:14.663379",
     "exception": false,
     "start_time": "2022-10-06T16:22:14.604066",
     "status": "completed"
    },
    "tags": []
   },
   "outputs": [],
   "source": [
    "test = test_data.drop(\"PassengerId\", axis=1)\n",
    "\n",
    "pred = model.predict(test)\n",
    "\n",
    "test_data[\"Survived\"] = pred\n",
    "\n",
    "submission = test_data[[\"PassengerId\", \"Survived\"]]\n",
    "submission.to_csv(\"submission.csv\", index=False)"
   ]
  },
  {
   "cell_type": "markdown",
   "id": "bda79627",
   "metadata": {
    "papermill": {
     "duration": 0.028746,
     "end_time": "2022-10-06T16:22:14.722698",
     "exception": false,
     "start_time": "2022-10-06T16:22:14.693952",
     "status": "completed"
    },
    "tags": []
   },
   "source": [
    "Submission Done! Now to save the notebook & submit ! \n",
    "Note 1: Do not try to run the cells multiple times since the model predictions reset & you get multiple errors. Once the Cell shows a number i.e it ran, just save and submit!\n",
    "Hope this was informative, for any questions here's my e-mail for a more direct response: \n",
    "aziztaktak27@gmail.com\n",
    ":)"
   ]
  }
 ],
 "metadata": {
  "kernelspec": {
   "display_name": "Python 3",
   "language": "python",
   "name": "python3"
  },
  "language_info": {
   "codemirror_mode": {
    "name": "ipython",
    "version": 3
   },
   "file_extension": ".py",
   "mimetype": "text/x-python",
   "name": "python",
   "nbconvert_exporter": "python",
   "pygments_lexer": "ipython3",
   "version": "3.7.12"
  },
  "papermill": {
   "default_parameters": {},
   "duration": 173.499055,
   "end_time": "2022-10-06T16:22:17.380225",
   "environment_variables": {},
   "exception": null,
   "input_path": "__notebook__.ipynb",
   "output_path": "__notebook__.ipynb",
   "parameters": {},
   "start_time": "2022-10-06T16:19:23.881170",
   "version": "2.3.4"
  }
 },
 "nbformat": 4,
 "nbformat_minor": 5
}
