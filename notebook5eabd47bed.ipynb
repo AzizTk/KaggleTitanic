{
 "cells": [
  {
   "cell_type": "code",
   "execution_count": 1,
   "id": "caa5662f",
   "metadata": {
    "_cell_guid": "b1076dfc-b9ad-4769-8c92-a6c4dae69d19",
    "_uuid": "8f2839f25d086af736a60e9eeb907d3b93b6e0e5",
    "execution": {
     "iopub.execute_input": "2022-10-05T19:51:06.890455Z",
     "iopub.status.busy": "2022-10-05T19:51:06.889969Z",
     "iopub.status.idle": "2022-10-05T19:51:06.903733Z",
     "shell.execute_reply": "2022-10-05T19:51:06.902321Z"
    },
    "papermill": {
     "duration": 0.034531,
     "end_time": "2022-10-05T19:51:06.907283",
     "exception": false,
     "start_time": "2022-10-05T19:51:06.872752",
     "status": "completed"
    },
    "tags": []
   },
   "outputs": [
    {
     "name": "stdout",
     "output_type": "stream",
     "text": [
      "/kaggle/input/titanic/train.csv\n",
      "/kaggle/input/titanic/test.csv\n",
      "/kaggle/input/titanic/gender_submission.csv\n"
     ]
    }
   ],
   "source": [
    "# This Python 3 environment comes with many helpful analytics libraries installed\n",
    "# It is defined by the kaggle/python Docker image: https://github.com/kaggle/docker-python\n",
    "# For example, here's several helpful packages to load\n",
    "\n",
    "import numpy as np # linear algebra\n",
    "import pandas as pd # data processing, CSV file I/O (e.g. pd.read_csv)\n",
    "\n",
    "# Input data files are available in the read-only \"../input/\" directory\n",
    "# For example, running this (by clicking run or pressing Shift+Enter) will list all files under the input directory\n",
    "\n",
    "import os\n",
    "for dirname, _, filenames in os.walk('/kaggle/input'):\n",
    "    for filename in filenames:\n",
    "        print(os.path.join(dirname, filename))\n",
    "\n",
    "# You can write up to 20GB to the current directory (/kaggle/working/) that gets preserved as output when you create a version using \"Save & Run All\" \n",
    "# You can also write temporary files to /kaggle/temp/, but they won't be saved outside of the current session"
   ]
  },
  {
   "cell_type": "code",
   "execution_count": 2,
   "id": "aa3e7394",
   "metadata": {
    "execution": {
     "iopub.execute_input": "2022-10-05T19:51:06.934690Z",
     "iopub.status.busy": "2022-10-05T19:51:06.934002Z",
     "iopub.status.idle": "2022-10-05T19:51:06.986175Z",
     "shell.execute_reply": "2022-10-05T19:51:06.984872Z"
    },
    "papermill": {
     "duration": 0.068598,
     "end_time": "2022-10-05T19:51:06.988614",
     "exception": false,
     "start_time": "2022-10-05T19:51:06.920016",
     "status": "completed"
    },
    "tags": []
   },
   "outputs": [
    {
     "data": {
      "text/html": [
       "<div>\n",
       "<style scoped>\n",
       "    .dataframe tbody tr th:only-of-type {\n",
       "        vertical-align: middle;\n",
       "    }\n",
       "\n",
       "    .dataframe tbody tr th {\n",
       "        vertical-align: top;\n",
       "    }\n",
       "\n",
       "    .dataframe thead th {\n",
       "        text-align: right;\n",
       "    }\n",
       "</style>\n",
       "<table border=\"1\" class=\"dataframe\">\n",
       "  <thead>\n",
       "    <tr style=\"text-align: right;\">\n",
       "      <th></th>\n",
       "      <th>PassengerId</th>\n",
       "      <th>Survived</th>\n",
       "      <th>Pclass</th>\n",
       "      <th>Name</th>\n",
       "      <th>Sex</th>\n",
       "      <th>Age</th>\n",
       "      <th>SibSp</th>\n",
       "      <th>Parch</th>\n",
       "      <th>Ticket</th>\n",
       "      <th>Fare</th>\n",
       "      <th>Cabin</th>\n",
       "      <th>Embarked</th>\n",
       "    </tr>\n",
       "  </thead>\n",
       "  <tbody>\n",
       "    <tr>\n",
       "      <th>0</th>\n",
       "      <td>1</td>\n",
       "      <td>0</td>\n",
       "      <td>3</td>\n",
       "      <td>Braund, Mr. Owen Harris</td>\n",
       "      <td>male</td>\n",
       "      <td>22.0</td>\n",
       "      <td>1</td>\n",
       "      <td>0</td>\n",
       "      <td>A/5 21171</td>\n",
       "      <td>7.2500</td>\n",
       "      <td>NaN</td>\n",
       "      <td>S</td>\n",
       "    </tr>\n",
       "    <tr>\n",
       "      <th>1</th>\n",
       "      <td>2</td>\n",
       "      <td>1</td>\n",
       "      <td>1</td>\n",
       "      <td>Cumings, Mrs. John Bradley (Florence Briggs Th...</td>\n",
       "      <td>female</td>\n",
       "      <td>38.0</td>\n",
       "      <td>1</td>\n",
       "      <td>0</td>\n",
       "      <td>PC 17599</td>\n",
       "      <td>71.2833</td>\n",
       "      <td>C85</td>\n",
       "      <td>C</td>\n",
       "    </tr>\n",
       "    <tr>\n",
       "      <th>2</th>\n",
       "      <td>3</td>\n",
       "      <td>1</td>\n",
       "      <td>3</td>\n",
       "      <td>Heikkinen, Miss. Laina</td>\n",
       "      <td>female</td>\n",
       "      <td>26.0</td>\n",
       "      <td>0</td>\n",
       "      <td>0</td>\n",
       "      <td>STON/O2. 3101282</td>\n",
       "      <td>7.9250</td>\n",
       "      <td>NaN</td>\n",
       "      <td>S</td>\n",
       "    </tr>\n",
       "    <tr>\n",
       "      <th>3</th>\n",
       "      <td>4</td>\n",
       "      <td>1</td>\n",
       "      <td>1</td>\n",
       "      <td>Futrelle, Mrs. Jacques Heath (Lily May Peel)</td>\n",
       "      <td>female</td>\n",
       "      <td>35.0</td>\n",
       "      <td>1</td>\n",
       "      <td>0</td>\n",
       "      <td>113803</td>\n",
       "      <td>53.1000</td>\n",
       "      <td>C123</td>\n",
       "      <td>S</td>\n",
       "    </tr>\n",
       "    <tr>\n",
       "      <th>4</th>\n",
       "      <td>5</td>\n",
       "      <td>0</td>\n",
       "      <td>3</td>\n",
       "      <td>Allen, Mr. William Henry</td>\n",
       "      <td>male</td>\n",
       "      <td>35.0</td>\n",
       "      <td>0</td>\n",
       "      <td>0</td>\n",
       "      <td>373450</td>\n",
       "      <td>8.0500</td>\n",
       "      <td>NaN</td>\n",
       "      <td>S</td>\n",
       "    </tr>\n",
       "  </tbody>\n",
       "</table>\n",
       "</div>"
      ],
      "text/plain": [
       "   PassengerId  Survived  Pclass  \\\n",
       "0            1         0       3   \n",
       "1            2         1       1   \n",
       "2            3         1       3   \n",
       "3            4         1       1   \n",
       "4            5         0       3   \n",
       "\n",
       "                                                Name     Sex   Age  SibSp  \\\n",
       "0                            Braund, Mr. Owen Harris    male  22.0      1   \n",
       "1  Cumings, Mrs. John Bradley (Florence Briggs Th...  female  38.0      1   \n",
       "2                             Heikkinen, Miss. Laina  female  26.0      0   \n",
       "3       Futrelle, Mrs. Jacques Heath (Lily May Peel)  female  35.0      1   \n",
       "4                           Allen, Mr. William Henry    male  35.0      0   \n",
       "\n",
       "   Parch            Ticket     Fare Cabin Embarked  \n",
       "0      0         A/5 21171   7.2500   NaN        S  \n",
       "1      0          PC 17599  71.2833   C85        C  \n",
       "2      0  STON/O2. 3101282   7.9250   NaN        S  \n",
       "3      0            113803  53.1000  C123        S  \n",
       "4      0            373450   8.0500   NaN        S  "
      ]
     },
     "execution_count": 2,
     "metadata": {},
     "output_type": "execute_result"
    }
   ],
   "source": [
    "data= pd.read_csv(\"/kaggle/input/titanic/train.csv\")\n",
    "data.head()"
   ]
  },
  {
   "cell_type": "code",
   "execution_count": 3,
   "id": "0405307c",
   "metadata": {
    "execution": {
     "iopub.execute_input": "2022-10-05T19:51:07.017229Z",
     "iopub.status.busy": "2022-10-05T19:51:07.016451Z",
     "iopub.status.idle": "2022-10-05T19:51:07.041849Z",
     "shell.execute_reply": "2022-10-05T19:51:07.040416Z"
    },
    "papermill": {
     "duration": 0.043703,
     "end_time": "2022-10-05T19:51:07.044717",
     "exception": false,
     "start_time": "2022-10-05T19:51:07.001014",
     "status": "completed"
    },
    "tags": []
   },
   "outputs": [
    {
     "data": {
      "text/html": [
       "<div>\n",
       "<style scoped>\n",
       "    .dataframe tbody tr th:only-of-type {\n",
       "        vertical-align: middle;\n",
       "    }\n",
       "\n",
       "    .dataframe tbody tr th {\n",
       "        vertical-align: top;\n",
       "    }\n",
       "\n",
       "    .dataframe thead th {\n",
       "        text-align: right;\n",
       "    }\n",
       "</style>\n",
       "<table border=\"1\" class=\"dataframe\">\n",
       "  <thead>\n",
       "    <tr style=\"text-align: right;\">\n",
       "      <th></th>\n",
       "      <th>PassengerId</th>\n",
       "      <th>Pclass</th>\n",
       "      <th>Name</th>\n",
       "      <th>Sex</th>\n",
       "      <th>Age</th>\n",
       "      <th>SibSp</th>\n",
       "      <th>Parch</th>\n",
       "      <th>Ticket</th>\n",
       "      <th>Fare</th>\n",
       "      <th>Cabin</th>\n",
       "      <th>Embarked</th>\n",
       "    </tr>\n",
       "  </thead>\n",
       "  <tbody>\n",
       "    <tr>\n",
       "      <th>0</th>\n",
       "      <td>892</td>\n",
       "      <td>3</td>\n",
       "      <td>Kelly, Mr. James</td>\n",
       "      <td>male</td>\n",
       "      <td>34.5</td>\n",
       "      <td>0</td>\n",
       "      <td>0</td>\n",
       "      <td>330911</td>\n",
       "      <td>7.8292</td>\n",
       "      <td>NaN</td>\n",
       "      <td>Q</td>\n",
       "    </tr>\n",
       "    <tr>\n",
       "      <th>1</th>\n",
       "      <td>893</td>\n",
       "      <td>3</td>\n",
       "      <td>Wilkes, Mrs. James (Ellen Needs)</td>\n",
       "      <td>female</td>\n",
       "      <td>47.0</td>\n",
       "      <td>1</td>\n",
       "      <td>0</td>\n",
       "      <td>363272</td>\n",
       "      <td>7.0000</td>\n",
       "      <td>NaN</td>\n",
       "      <td>S</td>\n",
       "    </tr>\n",
       "    <tr>\n",
       "      <th>2</th>\n",
       "      <td>894</td>\n",
       "      <td>2</td>\n",
       "      <td>Myles, Mr. Thomas Francis</td>\n",
       "      <td>male</td>\n",
       "      <td>62.0</td>\n",
       "      <td>0</td>\n",
       "      <td>0</td>\n",
       "      <td>240276</td>\n",
       "      <td>9.6875</td>\n",
       "      <td>NaN</td>\n",
       "      <td>Q</td>\n",
       "    </tr>\n",
       "    <tr>\n",
       "      <th>3</th>\n",
       "      <td>895</td>\n",
       "      <td>3</td>\n",
       "      <td>Wirz, Mr. Albert</td>\n",
       "      <td>male</td>\n",
       "      <td>27.0</td>\n",
       "      <td>0</td>\n",
       "      <td>0</td>\n",
       "      <td>315154</td>\n",
       "      <td>8.6625</td>\n",
       "      <td>NaN</td>\n",
       "      <td>S</td>\n",
       "    </tr>\n",
       "    <tr>\n",
       "      <th>4</th>\n",
       "      <td>896</td>\n",
       "      <td>3</td>\n",
       "      <td>Hirvonen, Mrs. Alexander (Helga E Lindqvist)</td>\n",
       "      <td>female</td>\n",
       "      <td>22.0</td>\n",
       "      <td>1</td>\n",
       "      <td>1</td>\n",
       "      <td>3101298</td>\n",
       "      <td>12.2875</td>\n",
       "      <td>NaN</td>\n",
       "      <td>S</td>\n",
       "    </tr>\n",
       "  </tbody>\n",
       "</table>\n",
       "</div>"
      ],
      "text/plain": [
       "   PassengerId  Pclass                                          Name     Sex  \\\n",
       "0          892       3                              Kelly, Mr. James    male   \n",
       "1          893       3              Wilkes, Mrs. James (Ellen Needs)  female   \n",
       "2          894       2                     Myles, Mr. Thomas Francis    male   \n",
       "3          895       3                              Wirz, Mr. Albert    male   \n",
       "4          896       3  Hirvonen, Mrs. Alexander (Helga E Lindqvist)  female   \n",
       "\n",
       "    Age  SibSp  Parch   Ticket     Fare Cabin Embarked  \n",
       "0  34.5      0      0   330911   7.8292   NaN        Q  \n",
       "1  47.0      1      0   363272   7.0000   NaN        S  \n",
       "2  62.0      0      0   240276   9.6875   NaN        Q  \n",
       "3  27.0      0      0   315154   8.6625   NaN        S  \n",
       "4  22.0      1      1  3101298  12.2875   NaN        S  "
      ]
     },
     "execution_count": 3,
     "metadata": {},
     "output_type": "execute_result"
    }
   ],
   "source": [
    "test_data= pd.read_csv(\"/kaggle/input/titanic/test.csv\")\n",
    "test_data.head()"
   ]
  },
  {
   "cell_type": "code",
   "execution_count": 4,
   "id": "b8b56d87",
   "metadata": {
    "execution": {
     "iopub.execute_input": "2022-10-05T19:51:07.072370Z",
     "iopub.status.busy": "2022-10-05T19:51:07.071698Z",
     "iopub.status.idle": "2022-10-05T19:51:07.085724Z",
     "shell.execute_reply": "2022-10-05T19:51:07.084047Z"
    },
    "papermill": {
     "duration": 0.03096,
     "end_time": "2022-10-05T19:51:07.088499",
     "exception": false,
     "start_time": "2022-10-05T19:51:07.057539",
     "status": "completed"
    },
    "tags": []
   },
   "outputs": [
    {
     "name": "stdout",
     "output_type": "stream",
     "text": [
      "% of women that survived: 0.7420382165605095\n"
     ]
    }
   ],
   "source": [
    "women = data.loc[data.Sex == 'female'][\"Survived\"]\n",
    "rate_women = sum(women)/len(women)\n",
    "print(\"% of women that survived:\",rate_women)"
   ]
  },
  {
   "cell_type": "code",
   "execution_count": 5,
   "id": "fb4f97d6",
   "metadata": {
    "execution": {
     "iopub.execute_input": "2022-10-05T19:51:07.117145Z",
     "iopub.status.busy": "2022-10-05T19:51:07.115959Z",
     "iopub.status.idle": "2022-10-05T19:51:07.124616Z",
     "shell.execute_reply": "2022-10-05T19:51:07.123332Z"
    },
    "papermill": {
     "duration": 0.025935,
     "end_time": "2022-10-05T19:51:07.127731",
     "exception": false,
     "start_time": "2022-10-05T19:51:07.101796",
     "status": "completed"
    },
    "tags": []
   },
   "outputs": [
    {
     "name": "stdout",
     "output_type": "stream",
     "text": [
      "% of men that survived: 0.18890814558058924\n"
     ]
    }
   ],
   "source": [
    "men = data.loc[data.Sex=='male'][\"Survived\"]\n",
    "rate_men = sum(men)/len(men)\n",
    "print(\"% of men that survived:\",rate_men)"
   ]
  },
  {
   "cell_type": "code",
   "execution_count": 6,
   "id": "f0c2dd5f",
   "metadata": {
    "execution": {
     "iopub.execute_input": "2022-10-05T19:51:07.154705Z",
     "iopub.status.busy": "2022-10-05T19:51:07.154272Z",
     "iopub.status.idle": "2022-10-05T19:51:08.699564Z",
     "shell.execute_reply": "2022-10-05T19:51:08.698117Z"
    },
    "papermill": {
     "duration": 1.561755,
     "end_time": "2022-10-05T19:51:08.702123",
     "exception": false,
     "start_time": "2022-10-05T19:51:07.140368",
     "status": "completed"
    },
    "tags": []
   },
   "outputs": [
    {
     "name": "stdout",
     "output_type": "stream",
     "text": [
      "Your submission was successfully saved!\n"
     ]
    }
   ],
   "source": [
    "from sklearn.ensemble import RandomForestClassifier\n",
    "\n",
    "y= data[\"Survived\"]\n",
    "\n",
    "features = [\"Pclass\", \"Sex\", \"SibSp\", \"Parch\"]\n",
    "X=pd.get_dummies(data[features])\n",
    "X_test=pd.get_dummies(test_data[features])\n",
    "\n",
    "model= RandomForestClassifier(n_estimators=100,max_depth=5,random_state=1)\n",
    "model.fit(X,y)\n",
    "predictions=model.predict(X_test)\n",
    "\n",
    "output=pd.DataFrame({'PassengerId': test_data.PassengerId,'Survived' : predictions})\n",
    "output.to_csv('submussion.csv', index=False)\n",
    "print(\"Your submission was successfully saved!\")"
   ]
  },
  {
   "cell_type": "markdown",
   "id": "6c69633d",
   "metadata": {
    "papermill": {
     "duration": 0.012492,
     "end_time": "2022-10-05T19:51:08.727080",
     "exception": false,
     "start_time": "2022-10-05T19:51:08.714588",
     "status": "completed"
    },
    "tags": []
   },
   "source": [
    "Now I'm gonna go more in depth into the data, trying to find the link between Sex and other factors that could vary the survival rate but first we wanna take a look at the graphic data that we have and try to understand it better."
   ]
  },
  {
   "cell_type": "code",
   "execution_count": 7,
   "id": "86033be9",
   "metadata": {
    "execution": {
     "iopub.execute_input": "2022-10-05T19:51:08.754595Z",
     "iopub.status.busy": "2022-10-05T19:51:08.754193Z",
     "iopub.status.idle": "2022-10-05T19:51:08.937739Z",
     "shell.execute_reply": "2022-10-05T19:51:08.936428Z"
    },
    "papermill": {
     "duration": 0.200773,
     "end_time": "2022-10-05T19:51:08.940718",
     "exception": false,
     "start_time": "2022-10-05T19:51:08.739945",
     "status": "completed"
    },
    "tags": []
   },
   "outputs": [],
   "source": [
    "import pandas as pd\n",
    "import numpy as np\n",
    "import matplotlib.pyplot as plt\n",
    "import seaborn as sns"
   ]
  },
  {
   "cell_type": "code",
   "execution_count": 8,
   "id": "a3b00c80",
   "metadata": {
    "execution": {
     "iopub.execute_input": "2022-10-05T19:51:08.967470Z",
     "iopub.status.busy": "2022-10-05T19:51:08.967055Z",
     "iopub.status.idle": "2022-10-05T19:51:08.972278Z",
     "shell.execute_reply": "2022-10-05T19:51:08.971265Z"
    },
    "papermill": {
     "duration": 0.021661,
     "end_time": "2022-10-05T19:51:08.974940",
     "exception": false,
     "start_time": "2022-10-05T19:51:08.953279",
     "status": "completed"
    },
    "tags": []
   },
   "outputs": [],
   "source": [
    "data_rows = data.shape[0]\n",
    "test_data_rows = test_data.shape[0]"
   ]
  },
  {
   "cell_type": "code",
   "execution_count": 9,
   "id": "c309d0c8",
   "metadata": {
    "execution": {
     "iopub.execute_input": "2022-10-05T19:51:09.001539Z",
     "iopub.status.busy": "2022-10-05T19:51:09.001142Z",
     "iopub.status.idle": "2022-10-05T19:51:09.263573Z",
     "shell.execute_reply": "2022-10-05T19:51:09.262297Z"
    },
    "papermill": {
     "duration": 0.278847,
     "end_time": "2022-10-05T19:51:09.266173",
     "exception": false,
     "start_time": "2022-10-05T19:51:08.987326",
     "status": "completed"
    },
    "tags": []
   },
   "outputs": [
    {
     "data": {
      "image/png": "[encoded data removed]",
      "text/plain": [
       "<Figure size 720x720 with 1 Axes>"
      ]
     },
     "metadata": {
      "needs_background": "light"
     },
     "output_type": "display_data"
    }
   ],
   "source": [
    "plt.figure(figsize=(10,10))\n",
    "plt.bar(0, data_rows,label=\"train data rows\")\n",
    "plt.bar(1, test_data_rows,label=\"test data rows\")\n",
    "plt.xlabel(\"train data / test data\",fontsize=15)\n",
    "plt.ylabel(\"rows count\",fontsize=15)\n",
    "plt.legend()\n",
    "plt.title(\"data rows count\",fontsize=20)\n",
    "plt.show()"
   ]
  },
  {
   "cell_type": "code",
   "execution_count": 10,
   "id": "20e36186",
   "metadata": {
    "execution": {
     "iopub.execute_input": "2022-10-05T19:51:09.293430Z",
     "iopub.status.busy": "2022-10-05T19:51:09.292977Z",
     "iopub.status.idle": "2022-10-05T19:51:09.310725Z",
     "shell.execute_reply": "2022-10-05T19:51:09.309275Z"
    },
    "papermill": {
     "duration": 0.035031,
     "end_time": "2022-10-05T19:51:09.313989",
     "exception": false,
     "start_time": "2022-10-05T19:51:09.278958",
     "status": "completed"
    },
    "tags": []
   },
   "outputs": [
    {
     "name": "stdout",
     "output_type": "stream",
     "text": [
      "<class 'pandas.core.frame.DataFrame'>\n",
      "RangeIndex: 891 entries, 0 to 890\n",
      "Data columns (total 12 columns):\n",
      " #   Column       Non-Null Count  Dtype  \n",
      "---  ------       --------------  -----  \n",
      " 0   PassengerId  891 non-null    int64  \n",
      " 1   Survived     891 non-null    int64  \n",
      " 2   Pclass       891 non-null    int64  \n",
      " 3   Name         891 non-null    object \n",
      " 4   Sex          891 non-null    object \n",
      " 5   Age          714 non-null    float64\n",
      " 6   SibSp        891 non-null    int64  \n",
      " 7   Parch        891 non-null    int64  \n",
      " 8   Ticket       891 non-null    object \n",
      " 9   Fare         891 non-null    float64\n",
      " 10  Cabin        204 non-null    object \n",
      " 11  Embarked     889 non-null    object \n",
      "dtypes: float64(2), int64(5), object(5)\n",
      "memory usage: 83.7+ KB\n"
     ]
    }
   ],
   "source": [
    "\n",
    "data.info()"
   ]
  },
  {
   "cell_type": "code",
   "execution_count": 11,
   "id": "5646a04f",
   "metadata": {
    "execution": {
     "iopub.execute_input": "2022-10-05T19:51:09.342995Z",
     "iopub.status.busy": "2022-10-05T19:51:09.342608Z",
     "iopub.status.idle": "2022-10-05T19:51:09.388047Z",
     "shell.execute_reply": "2022-10-05T19:51:09.386855Z"
    },
    "papermill": {
     "duration": 0.062764,
     "end_time": "2022-10-05T19:51:09.390552",
     "exception": false,
     "start_time": "2022-10-05T19:51:09.327788",
     "status": "completed"
    },
    "tags": []
   },
   "outputs": [
    {
     "data": {
      "text/html": [
       "<div>\n",
       "<style scoped>\n",
       "    .dataframe tbody tr th:only-of-type {\n",
       "        vertical-align: middle;\n",
       "    }\n",
       "\n",
       "    .dataframe tbody tr th {\n",
       "        vertical-align: top;\n",
       "    }\n",
       "\n",
       "    .dataframe thead th {\n",
       "        text-align: right;\n",
       "    }\n",
       "</style>\n",
       "<table border=\"1\" class=\"dataframe\">\n",
       "  <thead>\n",
       "    <tr style=\"text-align: right;\">\n",
       "      <th></th>\n",
       "      <th>PassengerId</th>\n",
       "      <th>Survived</th>\n",
       "      <th>Pclass</th>\n",
       "      <th>Name</th>\n",
       "      <th>Sex</th>\n",
       "      <th>Age</th>\n",
       "      <th>SibSp</th>\n",
       "      <th>Parch</th>\n",
       "      <th>Ticket</th>\n",
       "      <th>Fare</th>\n",
       "      <th>Cabin</th>\n",
       "      <th>Embarked</th>\n",
       "    </tr>\n",
       "  </thead>\n",
       "  <tbody>\n",
       "    <tr>\n",
       "      <th>count</th>\n",
       "      <td>891.000000</td>\n",
       "      <td>891.000000</td>\n",
       "      <td>891.000000</td>\n",
       "      <td>891</td>\n",
       "      <td>891</td>\n",
       "      <td>714.000000</td>\n",
       "      <td>891.000000</td>\n",
       "      <td>891.000000</td>\n",
       "      <td>891</td>\n",
       "      <td>891.000000</td>\n",
       "      <td>204</td>\n",
       "      <td>889</td>\n",
       "    </tr>\n",
       "    <tr>\n",
       "      <th>unique</th>\n",
       "      <td>NaN</td>\n",
       "      <td>NaN</td>\n",
       "      <td>NaN</td>\n",
       "      <td>891</td>\n",
       "      <td>2</td>\n",
       "      <td>NaN</td>\n",
       "      <td>NaN</td>\n",
       "      <td>NaN</td>\n",
       "      <td>681</td>\n",
       "      <td>NaN</td>\n",
       "      <td>147</td>\n",
       "      <td>3</td>\n",
       "    </tr>\n",
       "    <tr>\n",
       "      <th>top</th>\n",
       "      <td>NaN</td>\n",
       "      <td>NaN</td>\n",
       "      <td>NaN</td>\n",
       "      <td>Braund, Mr. Owen Harris</td>\n",
       "      <td>male</td>\n",
       "      <td>NaN</td>\n",
       "      <td>NaN</td>\n",
       "      <td>NaN</td>\n",
       "      <td>347082</td>\n",
       "      <td>NaN</td>\n",
       "      <td>B96 B98</td>\n",
       "      <td>S</td>\n",
       "    </tr>\n",
       "    <tr>\n",
       "      <th>freq</th>\n",
       "      <td>NaN</td>\n",
       "      <td>NaN</td>\n",
       "      <td>NaN</td>\n",
       "      <td>1</td>\n",
       "      <td>577</td>\n",
       "      <td>NaN</td>\n",
       "      <td>NaN</td>\n",
       "      <td>NaN</td>\n",
       "      <td>7</td>\n",
       "      <td>NaN</td>\n",
       "      <td>4</td>\n",
       "      <td>644</td>\n",
       "    </tr>\n",
       "    <tr>\n",
       "      <th>mean</th>\n",
       "      <td>446.000000</td>\n",
       "      <td>0.383838</td>\n",
       "      <td>2.308642</td>\n",
       "      <td>NaN</td>\n",
       "      <td>NaN</td>\n",
       "      <td>29.699118</td>\n",
       "      <td>0.523008</td>\n",
       "      <td>0.381594</td>\n",
       "      <td>NaN</td>\n",
       "      <td>32.204208</td>\n",
       "      <td>NaN</td>\n",
       "      <td>NaN</td>\n",
       "    </tr>\n",
       "    <tr>\n",
       "      <th>std</th>\n",
       "      <td>257.353842</td>\n",
       "      <td>0.486592</td>\n",
       "      <td>0.836071</td>\n",
       "      <td>NaN</td>\n",
       "      <td>NaN</td>\n",
       "      <td>14.526497</td>\n",
       "      <td>1.102743</td>\n",
       "      <td>0.806057</td>\n",
       "      <td>NaN</td>\n",
       "      <td>49.693429</td>\n",
       "      <td>NaN</td>\n",
       "      <td>NaN</td>\n",
       "    </tr>\n",
       "    <tr>\n",
       "      <th>min</th>\n",
       "      <td>1.000000</td>\n",
       "      <td>0.000000</td>\n",
       "      <td>1.000000</td>\n",
       "      <td>NaN</td>\n",
       "      <td>NaN</td>\n",
       "      <td>0.420000</td>\n",
       "      <td>0.000000</td>\n",
       "      <td>0.000000</td>\n",
       "      <td>NaN</td>\n",
       "      <td>0.000000</td>\n",
       "      <td>NaN</td>\n",
       "      <td>NaN</td>\n",
       "    </tr>\n",
       "    <tr>\n",
       "      <th>25%</th>\n",
       "      <td>223.500000</td>\n",
       "      <td>0.000000</td>\n",
       "      <td>2.000000</td>\n",
       "      <td>NaN</td>\n",
       "      <td>NaN</td>\n",
       "      <td>20.125000</td>\n",
       "      <td>0.000000</td>\n",
       "      <td>0.000000</td>\n",
       "      <td>NaN</td>\n",
       "      <td>7.910400</td>\n",
       "      <td>NaN</td>\n",
       "      <td>NaN</td>\n",
       "    </tr>\n",
       "    <tr>\n",
       "      <th>50%</th>\n",
       "      <td>446.000000</td>\n",
       "      <td>0.000000</td>\n",
       "      <td>3.000000</td>\n",
       "      <td>NaN</td>\n",
       "      <td>NaN</td>\n",
       "      <td>28.000000</td>\n",
       "      <td>0.000000</td>\n",
       "      <td>0.000000</td>\n",
       "      <td>NaN</td>\n",
       "      <td>14.454200</td>\n",
       "      <td>NaN</td>\n",
       "      <td>NaN</td>\n",
       "    </tr>\n",
       "    <tr>\n",
       "      <th>75%</th>\n",
       "      <td>668.500000</td>\n",
       "      <td>1.000000</td>\n",
       "      <td>3.000000</td>\n",
       "      <td>NaN</td>\n",
       "      <td>NaN</td>\n",
       "      <td>38.000000</td>\n",
       "      <td>1.000000</td>\n",
       "      <td>0.000000</td>\n",
       "      <td>NaN</td>\n",
       "      <td>31.000000</td>\n",
       "      <td>NaN</td>\n",
       "      <td>NaN</td>\n",
       "    </tr>\n",
       "    <tr>\n",
       "      <th>max</th>\n",
       "      <td>891.000000</td>\n",
       "      <td>1.000000</td>\n",
       "      <td>3.000000</td>\n",
       "      <td>NaN</td>\n",
       "      <td>NaN</td>\n",
       "      <td>80.000000</td>\n",
       "      <td>8.000000</td>\n",
       "      <td>6.000000</td>\n",
       "      <td>NaN</td>\n",
       "      <td>512.329200</td>\n",
       "      <td>NaN</td>\n",
       "      <td>NaN</td>\n",
       "    </tr>\n",
       "  </tbody>\n",
       "</table>\n",
       "</div>"
      ],
      "text/plain": [
       "        PassengerId    Survived      Pclass                     Name   Sex  \\\n",
       "count    891.000000  891.000000  891.000000                      891   891   \n",
       "unique          NaN         NaN         NaN                      891     2   \n",
       "top             NaN         NaN         NaN  Braund, Mr. Owen Harris  male   \n",
       "freq            NaN         NaN         NaN                        1   577   \n",
       "mean     446.000000    0.383838    2.308642                      NaN   NaN   \n",
       "std      257.353842    0.486592    0.836071                      NaN   NaN   \n",
       "min        1.000000    0.000000    1.000000                      NaN   NaN   \n",
       "25%      223.500000    0.000000    2.000000                      NaN   NaN   \n",
       "50%      446.000000    0.000000    3.000000                      NaN   NaN   \n",
       "75%      668.500000    1.000000    3.000000                      NaN   NaN   \n",
       "max      891.000000    1.000000    3.000000                      NaN   NaN   \n",
       "\n",
       "               Age       SibSp       Parch  Ticket        Fare    Cabin  \\\n",
       "count   714.000000  891.000000  891.000000     891  891.000000      204   \n",
       "unique         NaN         NaN         NaN     681         NaN      147   \n",
       "top            NaN         NaN         NaN  347082         NaN  B96 B98   \n",
       "freq           NaN         NaN         NaN       7         NaN        4   \n",
       "mean     29.699118    0.523008    0.381594     NaN   32.204208      NaN   \n",
       "std      14.526497    1.102743    0.806057     NaN   49.693429      NaN   \n",
       "min       0.420000    0.000000    0.000000     NaN    0.000000      NaN   \n",
       "25%      20.125000    0.000000    0.000000     NaN    7.910400      NaN   \n",
       "50%      28.000000    0.000000    0.000000     NaN   14.454200      NaN   \n",
       "75%      38.000000    1.000000    0.000000     NaN   31.000000      NaN   \n",
       "max      80.000000    8.000000    6.000000     NaN  512.329200      NaN   \n",
       "\n",
       "       Embarked  \n",
       "count       889  \n",
       "unique        3  \n",
       "top           S  \n",
       "freq        644  \n",
       "mean        NaN  \n",
       "std         NaN  \n",
       "min         NaN  \n",
       "25%         NaN  \n",
       "50%         NaN  \n",
       "75%         NaN  \n",
       "max         NaN  "
      ]
     },
     "execution_count": 11,
     "metadata": {},
     "output_type": "execute_result"
    }
   ],
   "source": [
    "data.describe(include=\"all\")"
   ]
  },
  {
   "cell_type": "markdown",
   "id": "9d5480e1",
   "metadata": {
    "papermill": {
     "duration": 0.01271,
     "end_time": "2022-10-05T19:51:09.416898",
     "exception": false,
     "start_time": "2022-10-05T19:51:09.404188",
     "status": "completed"
    },
    "tags": []
   },
   "source": [
    "Checking for missing values"
   ]
  },
  {
   "cell_type": "code",
   "execution_count": 12,
   "id": "fb46ba3e",
   "metadata": {
    "execution": {
     "iopub.execute_input": "2022-10-05T19:51:09.445102Z",
     "iopub.status.busy": "2022-10-05T19:51:09.444652Z",
     "iopub.status.idle": "2022-10-05T19:51:09.455459Z",
     "shell.execute_reply": "2022-10-05T19:51:09.454058Z"
    },
    "papermill": {
     "duration": 0.02765,
     "end_time": "2022-10-05T19:51:09.457643",
     "exception": false,
     "start_time": "2022-10-05T19:51:09.429993",
     "status": "completed"
    },
    "tags": []
   },
   "outputs": [
    {
     "data": {
      "text/plain": [
       "PassengerId      0\n",
       "Survived         0\n",
       "Pclass           0\n",
       "Name             0\n",
       "Sex              0\n",
       "Age            177\n",
       "SibSp            0\n",
       "Parch            0\n",
       "Ticket           0\n",
       "Fare             0\n",
       "Cabin          687\n",
       "Embarked         2\n",
       "dtype: int64"
      ]
     },
     "execution_count": 12,
     "metadata": {},
     "output_type": "execute_result"
    }
   ],
   "source": [
    "data.isna().sum()"
   ]
  },
  {
   "cell_type": "markdown",
   "id": "106b975e",
   "metadata": {
    "papermill": {
     "duration": 0.013005,
     "end_time": "2022-10-05T19:51:09.483954",
     "exception": false,
     "start_time": "2022-10-05T19:51:09.470949",
     "status": "completed"
    },
    "tags": []
   },
   "source": [
    "Lets redo the same for the test data we were given."
   ]
  },
  {
   "cell_type": "code",
   "execution_count": 13,
   "id": "16d6d1c2",
   "metadata": {
    "execution": {
     "iopub.execute_input": "2022-10-05T19:51:09.512562Z",
     "iopub.status.busy": "2022-10-05T19:51:09.511705Z",
     "iopub.status.idle": "2022-10-05T19:51:09.542408Z",
     "shell.execute_reply": "2022-10-05T19:51:09.541021Z"
    },
    "papermill": {
     "duration": 0.047859,
     "end_time": "2022-10-05T19:51:09.545092",
     "exception": false,
     "start_time": "2022-10-05T19:51:09.497233",
     "status": "completed"
    },
    "tags": []
   },
   "outputs": [
    {
     "data": {
      "text/html": [
       "<div>\n",
       "<style scoped>\n",
       "    .dataframe tbody tr th:only-of-type {\n",
       "        vertical-align: middle;\n",
       "    }\n",
       "\n",
       "    .dataframe tbody tr th {\n",
       "        vertical-align: top;\n",
       "    }\n",
       "\n",
       "    .dataframe thead th {\n",
       "        text-align: right;\n",
       "    }\n",
       "</style>\n",
       "<table border=\"1\" class=\"dataframe\">\n",
       "  <thead>\n",
       "    <tr style=\"text-align: right;\">\n",
       "      <th></th>\n",
       "      <th>PassengerId</th>\n",
       "      <th>Pclass</th>\n",
       "      <th>Age</th>\n",
       "      <th>SibSp</th>\n",
       "      <th>Parch</th>\n",
       "      <th>Fare</th>\n",
       "    </tr>\n",
       "  </thead>\n",
       "  <tbody>\n",
       "    <tr>\n",
       "      <th>count</th>\n",
       "      <td>418.000000</td>\n",
       "      <td>418.000000</td>\n",
       "      <td>332.000000</td>\n",
       "      <td>418.000000</td>\n",
       "      <td>418.000000</td>\n",
       "      <td>417.000000</td>\n",
       "    </tr>\n",
       "    <tr>\n",
       "      <th>mean</th>\n",
       "      <td>1100.500000</td>\n",
       "      <td>2.265550</td>\n",
       "      <td>30.272590</td>\n",
       "      <td>0.447368</td>\n",
       "      <td>0.392344</td>\n",
       "      <td>35.627188</td>\n",
       "    </tr>\n",
       "    <tr>\n",
       "      <th>std</th>\n",
       "      <td>120.810458</td>\n",
       "      <td>0.841838</td>\n",
       "      <td>14.181209</td>\n",
       "      <td>0.896760</td>\n",
       "      <td>0.981429</td>\n",
       "      <td>55.907576</td>\n",
       "    </tr>\n",
       "    <tr>\n",
       "      <th>min</th>\n",
       "      <td>892.000000</td>\n",
       "      <td>1.000000</td>\n",
       "      <td>0.170000</td>\n",
       "      <td>0.000000</td>\n",
       "      <td>0.000000</td>\n",
       "      <td>0.000000</td>\n",
       "    </tr>\n",
       "    <tr>\n",
       "      <th>25%</th>\n",
       "      <td>996.250000</td>\n",
       "      <td>1.000000</td>\n",
       "      <td>21.000000</td>\n",
       "      <td>0.000000</td>\n",
       "      <td>0.000000</td>\n",
       "      <td>7.895800</td>\n",
       "    </tr>\n",
       "    <tr>\n",
       "      <th>50%</th>\n",
       "      <td>1100.500000</td>\n",
       "      <td>3.000000</td>\n",
       "      <td>27.000000</td>\n",
       "      <td>0.000000</td>\n",
       "      <td>0.000000</td>\n",
       "      <td>14.454200</td>\n",
       "    </tr>\n",
       "    <tr>\n",
       "      <th>75%</th>\n",
       "      <td>1204.750000</td>\n",
       "      <td>3.000000</td>\n",
       "      <td>39.000000</td>\n",
       "      <td>1.000000</td>\n",
       "      <td>0.000000</td>\n",
       "      <td>31.500000</td>\n",
       "    </tr>\n",
       "    <tr>\n",
       "      <th>max</th>\n",
       "      <td>1309.000000</td>\n",
       "      <td>3.000000</td>\n",
       "      <td>76.000000</td>\n",
       "      <td>8.000000</td>\n",
       "      <td>9.000000</td>\n",
       "      <td>512.329200</td>\n",
       "    </tr>\n",
       "  </tbody>\n",
       "</table>\n",
       "</div>"
      ],
      "text/plain": [
       "       PassengerId      Pclass         Age       SibSp       Parch        Fare\n",
       "count   418.000000  418.000000  332.000000  418.000000  418.000000  417.000000\n",
       "mean   1100.500000    2.265550   30.272590    0.447368    0.392344   35.627188\n",
       "std     120.810458    0.841838   14.181209    0.896760    0.981429   55.907576\n",
       "min     892.000000    1.000000    0.170000    0.000000    0.000000    0.000000\n",
       "25%     996.250000    1.000000   21.000000    0.000000    0.000000    7.895800\n",
       "50%    1100.500000    3.000000   27.000000    0.000000    0.000000   14.454200\n",
       "75%    1204.750000    3.000000   39.000000    1.000000    0.000000   31.500000\n",
       "max    1309.000000    3.000000   76.000000    8.000000    9.000000  512.329200"
      ]
     },
     "execution_count": 13,
     "metadata": {},
     "output_type": "execute_result"
    }
   ],
   "source": [
    "test_data.describe()\n"
   ]
  },
  {
   "cell_type": "markdown",
   "id": "d71c7025",
   "metadata": {
    "papermill": {
     "duration": 0.013485,
     "end_time": "2022-10-05T19:51:09.572574",
     "exception": false,
     "start_time": "2022-10-05T19:51:09.559089",
     "status": "completed"
    },
    "tags": []
   },
   "source": [
    "Now It's time to do some EDA, Seeing if we can find a link between Sex & Survival rate"
   ]
  },
  {
   "cell_type": "code",
   "execution_count": 14,
   "id": "9caaab54",
   "metadata": {
    "execution": {
     "iopub.execute_input": "2022-10-05T19:51:09.601808Z",
     "iopub.status.busy": "2022-10-05T19:51:09.601398Z",
     "iopub.status.idle": "2022-10-05T19:51:09.998050Z",
     "shell.execute_reply": "2022-10-05T19:51:09.996699Z"
    },
    "papermill": {
     "duration": 0.414599,
     "end_time": "2022-10-05T19:51:10.000905",
     "exception": false,
     "start_time": "2022-10-05T19:51:09.586306",
     "status": "completed"
    },
    "tags": []
   },
   "outputs": [
    {
     "data": {
      "image/png": "[encoded data removed]",
      "text/plain": [
       "<Figure size 720x720 with 1 Axes>"
      ]
     },
     "metadata": {
      "needs_background": "light"
     },
     "output_type": "display_data"
    }
   ],
   "source": [
    "plt.figure(figsize=(10,10))\n",
    "sns.set(font_scale=1.5)\n",
    "plt.title(\"Sex & Survived\")\n",
    "sns.barplot(x=\"Sex\",y=\"Survived\",hue=\"Pclass\", data=data)\n",
    "plt.show()"
   ]
  },
  {
   "cell_type": "markdown",
   "id": "e15b7082",
   "metadata": {
    "papermill": {
     "duration": 0.013614,
     "end_time": "2022-10-05T19:51:10.028528",
     "exception": false,
     "start_time": "2022-10-05T19:51:10.014914",
     "status": "completed"
    },
    "tags": []
   },
   "source": [
    "We can conclude from this graph that:\n",
    "\n",
    "\n",
    "1-Female passengers survival rate>Male passengers survival \n",
    "rate\n",
    "\n",
    "\n",
    "2-Survival rate varies with the Pclass\n",
    "\n",
    "We're gonna try & go more in depth into the sex part of this equation, see if it's really important."
   ]
  },
  {
   "cell_type": "code",
   "execution_count": 15,
   "id": "1226c3d8",
   "metadata": {
    "execution": {
     "iopub.execute_input": "2022-10-05T19:51:10.058998Z",
     "iopub.status.busy": "2022-10-05T19:51:10.058224Z",
     "iopub.status.idle": "2022-10-05T19:51:10.446040Z",
     "shell.execute_reply": "2022-10-05T19:51:10.444706Z"
    },
    "papermill": {
     "duration": 0.405828,
     "end_time": "2022-10-05T19:51:10.448529",
     "exception": false,
     "start_time": "2022-10-05T19:51:10.042701",
     "status": "completed"
    },
    "tags": []
   },
   "outputs": [
    {
     "data": {
      "image/png": "[encoded data removed]",
      "text/plain": [
       "<Figure size 720x720 with 1 Axes>"
      ]
     },
     "metadata": {},
     "output_type": "display_data"
    }
   ],
   "source": [
    "plt.figure(figsize=(10,10))\n",
    "sns.set(font_scale=1.5)\n",
    "plt.title(\"Embarked & Survived\")\n",
    "sns.barplot(x=\"Embarked\",y=\"Survived\",hue=\"Sex\",\n",
    "           data=data)\n",
    "plt.show()"
   ]
  },
  {
   "cell_type": "markdown",
   "id": "9367c6ab",
   "metadata": {
    "papermill": {
     "duration": 0.01408,
     "end_time": "2022-10-05T19:51:10.477339",
     "exception": false,
     "start_time": "2022-10-05T19:51:10.463259",
     "status": "completed"
    },
    "tags": []
   },
   "source": [
    "2 conclusions we can come out with:\n",
    "1- Sex is definitly a factor here, Since the number of females are significantly higher than those of the males.\n",
    "\n",
    "\n",
    "2- The  Port of Embarkation (C = Cherbourg; Q = Queenstown; S = Southampton)\n",
    "is also a factor, as the data shows: C > S > Q"
   ]
  },
  {
   "cell_type": "markdown",
   "id": "dc82e442",
   "metadata": {
    "papermill": {
     "duration": 0.014213,
     "end_time": "2022-10-05T19:51:10.506005",
     "exception": false,
     "start_time": "2022-10-05T19:51:10.491792",
     "status": "completed"
    },
    "tags": []
   },
   "source": [
    "Now let's go even more in depth into the data we have. One label certainly peaked my interest: SibSp(Number of Siblings/Spouses on board), Let's see if there's a link with the probability of suvival\n"
   ]
  },
  {
   "cell_type": "code",
   "execution_count": 16,
   "id": "7bce8179",
   "metadata": {
    "execution": {
     "iopub.execute_input": "2022-10-05T19:51:10.536545Z",
     "iopub.status.busy": "2022-10-05T19:51:10.536135Z",
     "iopub.status.idle": "2022-10-05T19:51:11.156810Z",
     "shell.execute_reply": "2022-10-05T19:51:11.155472Z"
    },
    "papermill": {
     "duration": 0.638896,
     "end_time": "2022-10-05T19:51:11.159332",
     "exception": false,
     "start_time": "2022-10-05T19:51:10.520436",
     "status": "completed"
    },
    "tags": []
   },
   "outputs": [
    {
     "data": {
      "image/png": "[encoded data removed]",
      "text/plain": [
       "<Figure size 720x720 with 1 Axes>"
      ]
     },
     "metadata": {},
     "output_type": "display_data"
    }
   ],
   "source": [
    "plt.figure(figsize=(10,10))\n",
    "sns.set(font_scale=1.5)\n",
    "plt.title(\"SibSp & Survived\")\n",
    "sns.lineplot(x=\"SibSp\",y=\"Survived\",\n",
    "            hue=\"Sex\",data=data)\n",
    "plt.show()"
   ]
  },
  {
   "cell_type": "markdown",
   "id": "c5e4d5a3",
   "metadata": {
    "papermill": {
     "duration": 0.015052,
     "end_time": "2022-10-05T19:51:11.189931",
     "exception": false,
     "start_time": "2022-10-05T19:51:11.174879",
     "status": "completed"
    },
    "tags": []
   },
   "source": [
    "As Usual, 2 conclusions:\n",
    "1- The Higher the SibSp value is, the Lower the probability of survival is.\n",
    "2- Female survival is still higher than male, But if the number of SibSp>= 5, No one survives."
   ]
  },
  {
   "cell_type": "markdown",
   "id": "a7fa34f1",
   "metadata": {
    "papermill": {
     "duration": 0.015028,
     "end_time": "2022-10-05T19:51:11.220375",
     "exception": false,
     "start_time": "2022-10-05T19:51:11.205347",
     "status": "completed"
    },
    "tags": []
   },
   "source": [
    "Let's Keep going with every label that exists in the data to see if there's a clear link while still keeping sex as a factor."
   ]
  },
  {
   "cell_type": "code",
   "execution_count": 17,
   "id": "00f6c831",
   "metadata": {
    "execution": {
     "iopub.execute_input": "2022-10-05T19:51:11.252989Z",
     "iopub.status.busy": "2022-10-05T19:51:11.252544Z",
     "iopub.status.idle": "2022-10-05T19:51:11.834425Z",
     "shell.execute_reply": "2022-10-05T19:51:11.832982Z"
    },
    "papermill": {
     "duration": 0.601449,
     "end_time": "2022-10-05T19:51:11.837262",
     "exception": false,
     "start_time": "2022-10-05T19:51:11.235813",
     "status": "completed"
    },
    "tags": []
   },
   "outputs": [
    {
     "data": {
      "image/png": "[encoded data removed]",
      "text/plain": [
       "<Figure size 720x720 with 1 Axes>"
      ]
     },
     "metadata": {},
     "output_type": "display_data"
    }
   ],
   "source": [
    "plt.figure(figsize=(10,10))\n",
    "sns.set(font_scale=1.5)\n",
    "plt.title(\"Parch & Survived\")\n",
    "sns.lineplot(x=\"Parch\",y=\"Survived\",\n",
    "             hue=\"Sex\",data=data)\n",
    "plt.show()"
   ]
  },
  {
   "cell_type": "markdown",
   "id": "c8834d39",
   "metadata": {
    "papermill": {
     "duration": 0.016474,
     "end_time": "2022-10-05T19:51:11.870943",
     "exception": false,
     "start_time": "2022-10-05T19:51:11.854469",
     "status": "completed"
    },
    "tags": []
   },
   "source": [
    "Parch=Number of Parent/children on board\n",
    "\n",
    "One common thing with SibSp, other than sex, is the higher the value of Parch, the lower the rate of survival.\n",
    "\n",
    "However no new link with the survival rate."
   ]
  },
  {
   "cell_type": "code",
   "execution_count": 18,
   "id": "8948ef54",
   "metadata": {
    "execution": {
     "iopub.execute_input": "2022-10-05T19:51:11.906829Z",
     "iopub.status.busy": "2022-10-05T19:51:11.906430Z",
     "iopub.status.idle": "2022-10-05T19:51:12.207431Z",
     "shell.execute_reply": "2022-10-05T19:51:12.206236Z"
    },
    "papermill": {
     "duration": 0.322241,
     "end_time": "2022-10-05T19:51:12.210141",
     "exception": false,
     "start_time": "2022-10-05T19:51:11.887900",
     "status": "completed"
    },
    "tags": []
   },
   "outputs": [
    {
     "data": {
      "image/png": "[encoded data removed]",
      "text/plain": [
       "<Figure size 720x720 with 1 Axes>"
      ]
     },
     "metadata": {},
     "output_type": "display_data"
    }
   ],
   "source": [
    "plt.figure(figsize=(10,10))\n",
    "sns.set(font_scale=1.5)\n",
    "plt.title(\"Pclass / Survived\")\n",
    "sns.violinplot(x=\"Pclass\",y=\"Survived\"\n",
    "              ,hue=\"Sex\",data=data,\n",
    "              split=True)\n",
    "plt.show()"
   ]
  },
  {
   "cell_type": "markdown",
   "id": "ebfe3210",
   "metadata": {
    "papermill": {
     "duration": 0.016857,
     "end_time": "2022-10-05T19:51:12.244398",
     "exception": false,
     "start_time": "2022-10-05T19:51:12.227541",
     "status": "completed"
    },
    "tags": []
   },
   "source": [
    "No clear link with the Pclass & survival rate, Other than the fact that Male in 3rd Pclass have a very low probability of survival and females in 1st & 2nd Pclass have high probabilites, Which I think is related to sex & not to Pclass."
   ]
  },
  {
   "cell_type": "markdown",
   "id": "72cfee1c",
   "metadata": {
    "papermill": {
     "duration": 0.016644,
     "end_time": "2022-10-05T19:51:12.278104",
     "exception": false,
     "start_time": "2022-10-05T19:51:12.261460",
     "status": "completed"
    },
    "tags": []
   },
   "source": [
    "Let's dive into the age of the passengers, Lets see the age distribution on board & try to find a link."
   ]
  },
  {
   "cell_type": "code",
   "execution_count": 19,
   "id": "1d800a2f",
   "metadata": {
    "execution": {
     "iopub.execute_input": "2022-10-05T19:51:12.314092Z",
     "iopub.status.busy": "2022-10-05T19:51:12.313683Z",
     "iopub.status.idle": "2022-10-05T19:51:12.635275Z",
     "shell.execute_reply": "2022-10-05T19:51:12.634069Z"
    },
    "papermill": {
     "duration": 0.342605,
     "end_time": "2022-10-05T19:51:12.637718",
     "exception": false,
     "start_time": "2022-10-05T19:51:12.295113",
     "status": "completed"
    },
    "tags": []
   },
   "outputs": [
    {
     "data": {
      "text/plain": [
       "<Figure size 720x720 with 0 Axes>"
      ]
     },
     "metadata": {},
     "output_type": "display_data"
    },
    {
     "data": {
      "image/png": "[encoded data removed]",
      "text/plain": [
       "<Figure size 360x360 with 1 Axes>"
      ]
     },
     "metadata": {},
     "output_type": "display_data"
    }
   ],
   "source": [
    "plt.figure(figsize=(10,10))\n",
    "sns.set(font_scale=1.5)\n",
    "sns.displot(x=\"Age\",data=data\n",
    "           ,kde=True)\n",
    "plt.show()"
   ]
  },
  {
   "cell_type": "code",
   "execution_count": 20,
   "id": "a425094b",
   "metadata": {
    "execution": {
     "iopub.execute_input": "2022-10-05T19:51:12.676161Z",
     "iopub.status.busy": "2022-10-05T19:51:12.675696Z",
     "iopub.status.idle": "2022-10-05T19:51:12.682972Z",
     "shell.execute_reply": "2022-10-05T19:51:12.681661Z"
    },
    "papermill": {
     "duration": 0.029429,
     "end_time": "2022-10-05T19:51:12.685502",
     "exception": false,
     "start_time": "2022-10-05T19:51:12.656073",
     "status": "completed"
    },
    "tags": []
   },
   "outputs": [],
   "source": [
    "AgeGroup = []\n",
    "for i in data[\"Age\"]:\n",
    "    if i<=4:\n",
    "        AgeGroup.append(\"Baby\")\n",
    "    elif 4 < i <= 15:\n",
    "        AgeGroup.append(\"Child\")\n",
    "    elif 15 < i <= 60: \n",
    "        AgeGroup.append(\"Adult\")\n",
    "    elif 60 <= i:\n",
    "        AgeGroup.append(\"Elder\")\n",
    "    else: \n",
    "        AgeGroup.append(np.NaN)\n",
    "        \n"
   ]
  },
  {
   "cell_type": "code",
   "execution_count": 21,
   "id": "13b7185f",
   "metadata": {
    "execution": {
     "iopub.execute_input": "2022-10-05T19:51:12.724228Z",
     "iopub.status.busy": "2022-10-05T19:51:12.723395Z",
     "iopub.status.idle": "2022-10-05T19:51:12.729647Z",
     "shell.execute_reply": "2022-10-05T19:51:12.728665Z"
    },
    "papermill": {
     "duration": 0.028463,
     "end_time": "2022-10-05T19:51:12.732066",
     "exception": false,
     "start_time": "2022-10-05T19:51:12.703603",
     "status": "completed"
    },
    "tags": []
   },
   "outputs": [],
   "source": [
    "data[\"AgeGroup\"]= AgeGroup"
   ]
  },
  {
   "cell_type": "code",
   "execution_count": 22,
   "id": "8e7aabd8",
   "metadata": {
    "execution": {
     "iopub.execute_input": "2022-10-05T19:51:12.769795Z",
     "iopub.status.busy": "2022-10-05T19:51:12.768979Z",
     "iopub.status.idle": "2022-10-05T19:51:13.050260Z",
     "shell.execute_reply": "2022-10-05T19:51:13.049232Z"
    },
    "papermill": {
     "duration": 0.302929,
     "end_time": "2022-10-05T19:51:13.052673",
     "exception": false,
     "start_time": "2022-10-05T19:51:12.749744",
     "status": "completed"
    },
    "tags": []
   },
   "outputs": [
    {
     "data": {
      "image/png": "[encoded data removed]",
      "text/plain": [
       "<Figure size 720x720 with 1 Axes>"
      ]
     },
     "metadata": {},
     "output_type": "display_data"
    }
   ],
   "source": [
    "plt.figure(figsize=(10,10))\n",
    "sns.set(font_scale=1.5)\n",
    "plt.title(\"Age Group / Survived\")\n",
    "sns.barplot(x=\"AgeGroup\",y=\"Survived\"\n",
    "            ,data=data)\n",
    "plt.show()"
   ]
  },
  {
   "cell_type": "markdown",
   "id": "d9add34c",
   "metadata": {
    "papermill": {
     "duration": 0.018141,
     "end_time": "2022-10-05T19:51:13.089316",
     "exception": false,
     "start_time": "2022-10-05T19:51:13.071175",
     "status": "completed"
    },
    "tags": []
   },
   "source": [
    "After that last graph We can conclude that the lower the age is the higher the probability of survival"
   ]
  },
  {
   "cell_type": "markdown",
   "id": "77af4e48",
   "metadata": {
    "papermill": {
     "duration": 0.017586,
     "end_time": "2022-10-05T19:51:13.124963",
     "exception": false,
     "start_time": "2022-10-05T19:51:13.107377",
     "status": "completed"
    },
    "tags": []
   },
   "source": [
    "Let's make a heatmap to try to find links between labels"
   ]
  },
  {
   "cell_type": "code",
   "execution_count": 23,
   "id": "45157d79",
   "metadata": {
    "execution": {
     "iopub.execute_input": "2022-10-05T19:51:13.163715Z",
     "iopub.status.busy": "2022-10-05T19:51:13.162896Z",
     "iopub.status.idle": "2022-10-05T19:51:13.645795Z",
     "shell.execute_reply": "2022-10-05T19:51:13.644595Z"
    },
    "papermill": {
     "duration": 0.505171,
     "end_time": "2022-10-05T19:51:13.648335",
     "exception": false,
     "start_time": "2022-10-05T19:51:13.143164",
     "status": "completed"
    },
    "tags": []
   },
   "outputs": [
    {
     "data": {
      "image/png": "[encoded data removed]",
      "text/plain": [
       "<Figure size 720x720 with 2 Axes>"
      ]
     },
     "metadata": {},
     "output_type": "display_data"
    }
   ],
   "source": [
    "plt.figure(figsize=(10,10))\n",
    "sns.set(font_scale=1.5)\n",
    "sns.heatmap(data.corr(),annot=True)\n",
    "plt.show()"
   ]
  },
  {
   "cell_type": "markdown",
   "id": "d66b7700",
   "metadata": {
    "papermill": {
     "duration": 0.019247,
     "end_time": "2022-10-05T19:51:13.687066",
     "exception": false,
     "start_time": "2022-10-05T19:51:13.667819",
     "status": "completed"
    },
    "tags": []
   },
   "source": [
    "Correspondence between SisSp and Parch is high so let's group em.\n"
   ]
  },
  {
   "cell_type": "markdown",
   "id": "e1708867",
   "metadata": {
    "papermill": {
     "duration": 0.019113,
     "end_time": "2022-10-05T19:51:13.725465",
     "exception": false,
     "start_time": "2022-10-05T19:51:13.706352",
     "status": "completed"
    },
    "tags": []
   },
   "source": [
    "In this competition, Data is already cleaned & prepared for training but I'm gonna do it anyway to deal with NaN values & for practice"
   ]
  },
  {
   "cell_type": "code",
   "execution_count": 24,
   "id": "714b27a8",
   "metadata": {
    "execution": {
     "iopub.execute_input": "2022-10-05T19:51:13.767250Z",
     "iopub.status.busy": "2022-10-05T19:51:13.766015Z",
     "iopub.status.idle": "2022-10-05T19:51:13.774317Z",
     "shell.execute_reply": "2022-10-05T19:51:13.773149Z"
    },
    "papermill": {
     "duration": 0.031944,
     "end_time": "2022-10-05T19:51:13.776704",
     "exception": false,
     "start_time": "2022-10-05T19:51:13.744760",
     "status": "completed"
    },
    "tags": []
   },
   "outputs": [],
   "source": [
    "data[\"Cabin\"].fillna(\"Unknown\",\n",
    "                    inplace=True)\n",
    "Cabin_unit = []\n",
    "for i in data[\"Cabin\"]:\n",
    "    Cabin_unit.append(i[0])\n",
    "data[\"Cabin_unit\"] = Cabin_unit\n"
   ]
  },
  {
   "cell_type": "code",
   "execution_count": 25,
   "id": "efc17d17",
   "metadata": {
    "execution": {
     "iopub.execute_input": "2022-10-05T19:51:13.818773Z",
     "iopub.status.busy": "2022-10-05T19:51:13.817592Z",
     "iopub.status.idle": "2022-10-05T19:51:14.223003Z",
     "shell.execute_reply": "2022-10-05T19:51:14.222075Z"
    },
    "papermill": {
     "duration": 0.428711,
     "end_time": "2022-10-05T19:51:14.225388",
     "exception": false,
     "start_time": "2022-10-05T19:51:13.796677",
     "status": "completed"
    },
    "tags": []
   },
   "outputs": [
    {
     "data": {
      "image/png": "[encoded data removed]",
      "text/plain": [
       "<Figure size 720x720 with 1 Axes>"
      ]
     },
     "metadata": {},
     "output_type": "display_data"
    }
   ],
   "source": [
    "plt.figure(figsize=(10,10))\n",
    "sns.set(font_scale=1.5)\n",
    "plt.title(\"Cabin_unit/survived\")\n",
    "sns.barplot(x=\"Cabin_unit\",\n",
    "           y=\"Survived\",data=data)\n",
    "plt.show()"
   ]
  },
  {
   "cell_type": "code",
   "execution_count": 26,
   "id": "bdd65bb6",
   "metadata": {
    "execution": {
     "iopub.execute_input": "2022-10-05T19:51:14.267737Z",
     "iopub.status.busy": "2022-10-05T19:51:14.266960Z",
     "iopub.status.idle": "2022-10-05T19:51:14.447397Z",
     "shell.execute_reply": "2022-10-05T19:51:14.446202Z"
    },
    "papermill": {
     "duration": 0.20462,
     "end_time": "2022-10-05T19:51:14.449726",
     "exception": false,
     "start_time": "2022-10-05T19:51:14.245106",
     "status": "completed"
    },
    "tags": []
   },
   "outputs": [
    {
     "data": {
      "text/html": [
       "<div>\n",
       "<style scoped>\n",
       "    .dataframe tbody tr th:only-of-type {\n",
       "        vertical-align: middle;\n",
       "    }\n",
       "\n",
       "    .dataframe tbody tr th {\n",
       "        vertical-align: top;\n",
       "    }\n",
       "\n",
       "    .dataframe thead th {\n",
       "        text-align: right;\n",
       "    }\n",
       "</style>\n",
       "<table border=\"1\" class=\"dataframe\">\n",
       "  <thead>\n",
       "    <tr style=\"text-align: right;\">\n",
       "      <th></th>\n",
       "      <th>PassengerId</th>\n",
       "      <th>Survived</th>\n",
       "      <th>Pclass</th>\n",
       "      <th>Name</th>\n",
       "      <th>Sex</th>\n",
       "      <th>Age</th>\n",
       "      <th>SibSp</th>\n",
       "      <th>Parch</th>\n",
       "      <th>Ticket</th>\n",
       "      <th>Fare</th>\n",
       "      <th>Cabin</th>\n",
       "      <th>Embarked</th>\n",
       "      <th>AgeGroup</th>\n",
       "      <th>Cabin_unit</th>\n",
       "      <th>Name_re</th>\n",
       "    </tr>\n",
       "  </thead>\n",
       "  <tbody>\n",
       "    <tr>\n",
       "      <th>0</th>\n",
       "      <td>1</td>\n",
       "      <td>0</td>\n",
       "      <td>3</td>\n",
       "      <td>Braund, Mr. Owen Harris</td>\n",
       "      <td>male</td>\n",
       "      <td>22.0</td>\n",
       "      <td>1</td>\n",
       "      <td>0</td>\n",
       "      <td>A/5 21171</td>\n",
       "      <td>7.2500</td>\n",
       "      <td>Unknown</td>\n",
       "      <td>S</td>\n",
       "      <td>Adult</td>\n",
       "      <td>U</td>\n",
       "      <td>Mr</td>\n",
       "    </tr>\n",
       "    <tr>\n",
       "      <th>1</th>\n",
       "      <td>2</td>\n",
       "      <td>1</td>\n",
       "      <td>1</td>\n",
       "      <td>Cumings, Mrs. John Bradley (Florence Briggs Th...</td>\n",
       "      <td>female</td>\n",
       "      <td>38.0</td>\n",
       "      <td>1</td>\n",
       "      <td>0</td>\n",
       "      <td>PC 17599</td>\n",
       "      <td>71.2833</td>\n",
       "      <td>C85</td>\n",
       "      <td>C</td>\n",
       "      <td>Adult</td>\n",
       "      <td>C</td>\n",
       "      <td>Mrs</td>\n",
       "    </tr>\n",
       "    <tr>\n",
       "      <th>2</th>\n",
       "      <td>3</td>\n",
       "      <td>1</td>\n",
       "      <td>3</td>\n",
       "      <td>Heikkinen, Miss. Laina</td>\n",
       "      <td>female</td>\n",
       "      <td>26.0</td>\n",
       "      <td>0</td>\n",
       "      <td>0</td>\n",
       "      <td>STON/O2. 3101282</td>\n",
       "      <td>7.9250</td>\n",
       "      <td>Unknown</td>\n",
       "      <td>S</td>\n",
       "      <td>Adult</td>\n",
       "      <td>U</td>\n",
       "      <td>Miss</td>\n",
       "    </tr>\n",
       "    <tr>\n",
       "      <th>3</th>\n",
       "      <td>4</td>\n",
       "      <td>1</td>\n",
       "      <td>1</td>\n",
       "      <td>Futrelle, Mrs. Jacques Heath (Lily May Peel)</td>\n",
       "      <td>female</td>\n",
       "      <td>35.0</td>\n",
       "      <td>1</td>\n",
       "      <td>0</td>\n",
       "      <td>113803</td>\n",
       "      <td>53.1000</td>\n",
       "      <td>C123</td>\n",
       "      <td>S</td>\n",
       "      <td>Adult</td>\n",
       "      <td>C</td>\n",
       "      <td>Mrs</td>\n",
       "    </tr>\n",
       "    <tr>\n",
       "      <th>4</th>\n",
       "      <td>5</td>\n",
       "      <td>0</td>\n",
       "      <td>3</td>\n",
       "      <td>Allen, Mr. William Henry</td>\n",
       "      <td>male</td>\n",
       "      <td>35.0</td>\n",
       "      <td>0</td>\n",
       "      <td>0</td>\n",
       "      <td>373450</td>\n",
       "      <td>8.0500</td>\n",
       "      <td>Unknown</td>\n",
       "      <td>S</td>\n",
       "      <td>Adult</td>\n",
       "      <td>U</td>\n",
       "      <td>Mr</td>\n",
       "    </tr>\n",
       "    <tr>\n",
       "      <th>...</th>\n",
       "      <td>...</td>\n",
       "      <td>...</td>\n",
       "      <td>...</td>\n",
       "      <td>...</td>\n",
       "      <td>...</td>\n",
       "      <td>...</td>\n",
       "      <td>...</td>\n",
       "      <td>...</td>\n",
       "      <td>...</td>\n",
       "      <td>...</td>\n",
       "      <td>...</td>\n",
       "      <td>...</td>\n",
       "      <td>...</td>\n",
       "      <td>...</td>\n",
       "      <td>...</td>\n",
       "    </tr>\n",
       "    <tr>\n",
       "      <th>886</th>\n",
       "      <td>887</td>\n",
       "      <td>0</td>\n",
       "      <td>2</td>\n",
       "      <td>Montvila, Rev. Juozas</td>\n",
       "      <td>male</td>\n",
       "      <td>27.0</td>\n",
       "      <td>0</td>\n",
       "      <td>0</td>\n",
       "      <td>211536</td>\n",
       "      <td>13.0000</td>\n",
       "      <td>Unknown</td>\n",
       "      <td>S</td>\n",
       "      <td>Adult</td>\n",
       "      <td>U</td>\n",
       "      <td>Mr</td>\n",
       "    </tr>\n",
       "    <tr>\n",
       "      <th>887</th>\n",
       "      <td>888</td>\n",
       "      <td>1</td>\n",
       "      <td>1</td>\n",
       "      <td>Graham, Miss. Margaret Edith</td>\n",
       "      <td>female</td>\n",
       "      <td>19.0</td>\n",
       "      <td>0</td>\n",
       "      <td>0</td>\n",
       "      <td>112053</td>\n",
       "      <td>30.0000</td>\n",
       "      <td>B42</td>\n",
       "      <td>S</td>\n",
       "      <td>Adult</td>\n",
       "      <td>B</td>\n",
       "      <td>Miss</td>\n",
       "    </tr>\n",
       "    <tr>\n",
       "      <th>888</th>\n",
       "      <td>889</td>\n",
       "      <td>0</td>\n",
       "      <td>3</td>\n",
       "      <td>Johnston, Miss. Catherine Helen \"Carrie\"</td>\n",
       "      <td>female</td>\n",
       "      <td>NaN</td>\n",
       "      <td>1</td>\n",
       "      <td>2</td>\n",
       "      <td>W./C. 6607</td>\n",
       "      <td>23.4500</td>\n",
       "      <td>Unknown</td>\n",
       "      <td>S</td>\n",
       "      <td>NaN</td>\n",
       "      <td>U</td>\n",
       "      <td>Miss</td>\n",
       "    </tr>\n",
       "    <tr>\n",
       "      <th>889</th>\n",
       "      <td>890</td>\n",
       "      <td>1</td>\n",
       "      <td>1</td>\n",
       "      <td>Behr, Mr. Karl Howell</td>\n",
       "      <td>male</td>\n",
       "      <td>26.0</td>\n",
       "      <td>0</td>\n",
       "      <td>0</td>\n",
       "      <td>111369</td>\n",
       "      <td>30.0000</td>\n",
       "      <td>C148</td>\n",
       "      <td>C</td>\n",
       "      <td>Adult</td>\n",
       "      <td>C</td>\n",
       "      <td>Mr</td>\n",
       "    </tr>\n",
       "    <tr>\n",
       "      <th>890</th>\n",
       "      <td>891</td>\n",
       "      <td>0</td>\n",
       "      <td>3</td>\n",
       "      <td>Dooley, Mr. Patrick</td>\n",
       "      <td>male</td>\n",
       "      <td>32.0</td>\n",
       "      <td>0</td>\n",
       "      <td>0</td>\n",
       "      <td>370376</td>\n",
       "      <td>7.7500</td>\n",
       "      <td>Unknown</td>\n",
       "      <td>Q</td>\n",
       "      <td>Adult</td>\n",
       "      <td>U</td>\n",
       "      <td>Mr</td>\n",
       "    </tr>\n",
       "  </tbody>\n",
       "</table>\n",
       "<p>891 rows × 15 columns</p>\n",
       "</div>"
      ],
      "text/plain": [
       "     PassengerId  Survived  Pclass  \\\n",
       "0              1         0       3   \n",
       "1              2         1       1   \n",
       "2              3         1       3   \n",
       "3              4         1       1   \n",
       "4              5         0       3   \n",
       "..           ...       ...     ...   \n",
       "886          887         0       2   \n",
       "887          888         1       1   \n",
       "888          889         0       3   \n",
       "889          890         1       1   \n",
       "890          891         0       3   \n",
       "\n",
       "                                                  Name     Sex   Age  SibSp  \\\n",
       "0                              Braund, Mr. Owen Harris    male  22.0      1   \n",
       "1    Cumings, Mrs. John Bradley (Florence Briggs Th...  female  38.0      1   \n",
       "2                               Heikkinen, Miss. Laina  female  26.0      0   \n",
       "3         Futrelle, Mrs. Jacques Heath (Lily May Peel)  female  35.0      1   \n",
       "4                             Allen, Mr. William Henry    male  35.0      0   \n",
       "..                                                 ...     ...   ...    ...   \n",
       "886                              Montvila, Rev. Juozas    male  27.0      0   \n",
       "887                       Graham, Miss. Margaret Edith  female  19.0      0   \n",
       "888           Johnston, Miss. Catherine Helen \"Carrie\"  female   NaN      1   \n",
       "889                              Behr, Mr. Karl Howell    male  26.0      0   \n",
       "890                                Dooley, Mr. Patrick    male  32.0      0   \n",
       "\n",
       "     Parch            Ticket     Fare    Cabin Embarked AgeGroup Cabin_unit  \\\n",
       "0        0         A/5 21171   7.2500  Unknown        S    Adult          U   \n",
       "1        0          PC 17599  71.2833      C85        C    Adult          C   \n",
       "2        0  STON/O2. 3101282   7.9250  Unknown        S    Adult          U   \n",
       "3        0            113803  53.1000     C123        S    Adult          C   \n",
       "4        0            373450   8.0500  Unknown        S    Adult          U   \n",
       "..     ...               ...      ...      ...      ...      ...        ...   \n",
       "886      0            211536  13.0000  Unknown        S    Adult          U   \n",
       "887      0            112053  30.0000      B42        S    Adult          B   \n",
       "888      2        W./C. 6607  23.4500  Unknown        S      NaN          U   \n",
       "889      0            111369  30.0000     C148        C    Adult          C   \n",
       "890      0            370376   7.7500  Unknown        Q    Adult          U   \n",
       "\n",
       "    Name_re  \n",
       "0        Mr  \n",
       "1       Mrs  \n",
       "2      Miss  \n",
       "3       Mrs  \n",
       "4        Mr  \n",
       "..      ...  \n",
       "886      Mr  \n",
       "887    Miss  \n",
       "888    Miss  \n",
       "889      Mr  \n",
       "890      Mr  \n",
       "\n",
       "[891 rows x 15 columns]"
      ]
     },
     "execution_count": 26,
     "metadata": {},
     "output_type": "execute_result"
    }
   ],
   "source": [
    "data.Name.str.split(\",\",expand=True)[1].str.split('.',expand=True)[0].str.strip().value_counts()\n",
    "data['Name_re']=data.Name.str.split(',',expand=True)[1].str.split('.',expand=True)[0].str.strip().replace({'Mlle': \n",
    "                         'Miss', 'Ms': 'Miss', 'Lady': \n",
    "                         'Uncommon', 'Don': 'Uncommon',\n",
    "                         'Jonkheer': 'Uncommon', 'the Countess'\n",
    "                         : 'Uncommon', 'Sir': 'Uncommon', \n",
    "                         'Mme': 'Uncommon', 'Capt': 'Mr', \n",
    "                         'Major': 'Mr', 'Col':\n",
    "                         'Mr', 'Rev': 'Mr', 'Dr': 'Mr'})\n",
    "data[\"Name_re\"].value_counts()\n",
    "\n",
    "\n",
    "\n",
    "data\n",
    "                        \n",
    "                        "
   ]
  },
  {
   "cell_type": "markdown",
   "id": "c266b814",
   "metadata": {
    "papermill": {
     "duration": 0.020046,
     "end_time": "2022-10-05T19:51:14.490228",
     "exception": false,
     "start_time": "2022-10-05T19:51:14.470182",
     "status": "completed"
    },
    "tags": []
   },
   "source": [
    "Dropping Name since it's useless data & a memory leak"
   ]
  },
  {
   "cell_type": "code",
   "execution_count": 27,
   "id": "79052a00",
   "metadata": {
    "execution": {
     "iopub.execute_input": "2022-10-05T19:51:14.532760Z",
     "iopub.status.busy": "2022-10-05T19:51:14.532343Z",
     "iopub.status.idle": "2022-10-05T19:51:14.540152Z",
     "shell.execute_reply": "2022-10-05T19:51:14.539242Z"
    },
    "papermill": {
     "duration": 0.032125,
     "end_time": "2022-10-05T19:51:14.542746",
     "exception": false,
     "start_time": "2022-10-05T19:51:14.510621",
     "status": "completed"
    },
    "tags": []
   },
   "outputs": [],
   "source": [
    "data.drop(\"Name\",axis=1,inplace=True)"
   ]
  },
  {
   "cell_type": "code",
   "execution_count": 28,
   "id": "fecc6229",
   "metadata": {
    "execution": {
     "iopub.execute_input": "2022-10-05T19:51:14.586188Z",
     "iopub.status.busy": "2022-10-05T19:51:14.585379Z",
     "iopub.status.idle": "2022-10-05T19:51:14.591825Z",
     "shell.execute_reply": "2022-10-05T19:51:14.590838Z"
    },
    "papermill": {
     "duration": 0.030977,
     "end_time": "2022-10-05T19:51:14.594287",
     "exception": false,
     "start_time": "2022-10-05T19:51:14.563310",
     "status": "completed"
    },
    "tags": []
   },
   "outputs": [],
   "source": [
    "data[\"Age\"].fillna(data[\"Age\"].mean(),inplace=True)"
   ]
  },
  {
   "cell_type": "code",
   "execution_count": 29,
   "id": "7cab5e9b",
   "metadata": {
    "execution": {
     "iopub.execute_input": "2022-10-05T19:51:14.638147Z",
     "iopub.status.busy": "2022-10-05T19:51:14.637684Z",
     "iopub.status.idle": "2022-10-05T19:51:14.647005Z",
     "shell.execute_reply": "2022-10-05T19:51:14.645778Z"
    },
    "papermill": {
     "duration": 0.034304,
     "end_time": "2022-10-05T19:51:14.649483",
     "exception": false,
     "start_time": "2022-10-05T19:51:14.615179",
     "status": "completed"
    },
    "tags": []
   },
   "outputs": [
    {
     "data": {
      "text/plain": [
       "S    644\n",
       "C    168\n",
       "Q     77\n",
       "Name: Embarked, dtype: int64"
      ]
     },
     "execution_count": 29,
     "metadata": {},
     "output_type": "execute_result"
    }
   ],
   "source": [
    "data[\"Embarked\"].value_counts()"
   ]
  },
  {
   "cell_type": "code",
   "execution_count": 30,
   "id": "ef57af3b",
   "metadata": {
    "execution": {
     "iopub.execute_input": "2022-10-05T19:51:14.693687Z",
     "iopub.status.busy": "2022-10-05T19:51:14.693292Z",
     "iopub.status.idle": "2022-10-05T19:51:14.704852Z",
     "shell.execute_reply": "2022-10-05T19:51:14.703494Z"
    },
    "papermill": {
     "duration": 0.036548,
     "end_time": "2022-10-05T19:51:14.707206",
     "exception": false,
     "start_time": "2022-10-05T19:51:14.670658",
     "status": "completed"
    },
    "tags": []
   },
   "outputs": [
    {
     "data": {
      "text/plain": [
       "S    646\n",
       "C    168\n",
       "Q     77\n",
       "Name: Embarked, dtype: int64"
      ]
     },
     "execution_count": 30,
     "metadata": {},
     "output_type": "execute_result"
    }
   ],
   "source": [
    "data[\"Embarked\"].fillna(\"S\",inplace=True)\n",
    "data[\"Embarked\"].value_counts()\n",
    "#2 values added"
   ]
  },
  {
   "cell_type": "code",
   "execution_count": 31,
   "id": "490e0e0c",
   "metadata": {
    "execution": {
     "iopub.execute_input": "2022-10-05T19:51:14.751281Z",
     "iopub.status.busy": "2022-10-05T19:51:14.750483Z",
     "iopub.status.idle": "2022-10-05T19:51:14.758150Z",
     "shell.execute_reply": "2022-10-05T19:51:14.757187Z"
    },
    "papermill": {
     "duration": 0.032188,
     "end_time": "2022-10-05T19:51:14.760470",
     "exception": false,
     "start_time": "2022-10-05T19:51:14.728282",
     "status": "completed"
    },
    "tags": []
   },
   "outputs": [],
   "source": [
    "#Grouping sibsp & Parch into family\n",
    "data[\"Family\"]= data[\"SibSp\"]+data[\"Parch\"]\n",
    "data.drop([\"SibSp\",\"Parch\"],axis=1,inplace=True)\n"
   ]
  },
  {
   "cell_type": "code",
   "execution_count": 32,
   "id": "739668c1",
   "metadata": {
    "execution": {
     "iopub.execute_input": "2022-10-05T19:51:14.804750Z",
     "iopub.status.busy": "2022-10-05T19:51:14.803969Z",
     "iopub.status.idle": "2022-10-05T19:51:15.226549Z",
     "shell.execute_reply": "2022-10-05T19:51:15.225239Z"
    },
    "papermill": {
     "duration": 0.44822,
     "end_time": "2022-10-05T19:51:15.229497",
     "exception": false,
     "start_time": "2022-10-05T19:51:14.781277",
     "status": "completed"
    },
    "tags": []
   },
   "outputs": [
    {
     "data": {
      "image/png": "[encoded data removed]",
      "text/plain": [
       "<Figure size 720x720 with 1 Axes>"
      ]
     },
     "metadata": {},
     "output_type": "display_data"
    }
   ],
   "source": [
    "plt.figure(figsize=(10,10))\n",
    "sns.set(font_scale=1.5)\n",
    "plt.title(\"Family Size / Survived\")\n",
    "sns.lineplot(x=\"Family\",y=\"Survived\"\n",
    "            ,data=data)\n",
    "plt.show()"
   ]
  },
  {
   "cell_type": "code",
   "execution_count": 33,
   "id": "c7c1603e",
   "metadata": {
    "execution": {
     "iopub.execute_input": "2022-10-05T19:51:15.275564Z",
     "iopub.status.busy": "2022-10-05T19:51:15.275138Z",
     "iopub.status.idle": "2022-10-05T19:51:15.305694Z",
     "shell.execute_reply": "2022-10-05T19:51:15.304296Z"
    },
    "papermill": {
     "duration": 0.056403,
     "end_time": "2022-10-05T19:51:15.308088",
     "exception": false,
     "start_time": "2022-10-05T19:51:15.251685",
     "status": "completed"
    },
    "tags": []
   },
   "outputs": [
    {
     "data": {
      "text/html": [
       "<div>\n",
       "<style scoped>\n",
       "    .dataframe tbody tr th:only-of-type {\n",
       "        vertical-align: middle;\n",
       "    }\n",
       "\n",
       "    .dataframe tbody tr th {\n",
       "        vertical-align: top;\n",
       "    }\n",
       "\n",
       "    .dataframe thead th {\n",
       "        text-align: right;\n",
       "    }\n",
       "</style>\n",
       "<table border=\"1\" class=\"dataframe\">\n",
       "  <thead>\n",
       "    <tr style=\"text-align: right;\">\n",
       "      <th></th>\n",
       "      <th>PassengerId</th>\n",
       "      <th>Survived</th>\n",
       "      <th>Pclass</th>\n",
       "      <th>Sex</th>\n",
       "      <th>Age</th>\n",
       "      <th>Ticket</th>\n",
       "      <th>Fare</th>\n",
       "      <th>Cabin</th>\n",
       "      <th>Embarked</th>\n",
       "      <th>AgeGroup</th>\n",
       "      <th>Cabin_unit</th>\n",
       "      <th>Name_re</th>\n",
       "      <th>Family</th>\n",
       "      <th>Alone</th>\n",
       "    </tr>\n",
       "  </thead>\n",
       "  <tbody>\n",
       "    <tr>\n",
       "      <th>0</th>\n",
       "      <td>1</td>\n",
       "      <td>0</td>\n",
       "      <td>3</td>\n",
       "      <td>male</td>\n",
       "      <td>22.000000</td>\n",
       "      <td>A/5 21171</td>\n",
       "      <td>7.2500</td>\n",
       "      <td>Unknown</td>\n",
       "      <td>S</td>\n",
       "      <td>Adult</td>\n",
       "      <td>U</td>\n",
       "      <td>Mr</td>\n",
       "      <td>1</td>\n",
       "      <td>0</td>\n",
       "    </tr>\n",
       "    <tr>\n",
       "      <th>1</th>\n",
       "      <td>2</td>\n",
       "      <td>1</td>\n",
       "      <td>1</td>\n",
       "      <td>female</td>\n",
       "      <td>38.000000</td>\n",
       "      <td>PC 17599</td>\n",
       "      <td>71.2833</td>\n",
       "      <td>C85</td>\n",
       "      <td>C</td>\n",
       "      <td>Adult</td>\n",
       "      <td>C</td>\n",
       "      <td>Mrs</td>\n",
       "      <td>1</td>\n",
       "      <td>0</td>\n",
       "    </tr>\n",
       "    <tr>\n",
       "      <th>2</th>\n",
       "      <td>3</td>\n",
       "      <td>1</td>\n",
       "      <td>3</td>\n",
       "      <td>female</td>\n",
       "      <td>26.000000</td>\n",
       "      <td>STON/O2. 3101282</td>\n",
       "      <td>7.9250</td>\n",
       "      <td>Unknown</td>\n",
       "      <td>S</td>\n",
       "      <td>Adult</td>\n",
       "      <td>U</td>\n",
       "      <td>Miss</td>\n",
       "      <td>0</td>\n",
       "      <td>1</td>\n",
       "    </tr>\n",
       "    <tr>\n",
       "      <th>3</th>\n",
       "      <td>4</td>\n",
       "      <td>1</td>\n",
       "      <td>1</td>\n",
       "      <td>female</td>\n",
       "      <td>35.000000</td>\n",
       "      <td>113803</td>\n",
       "      <td>53.1000</td>\n",
       "      <td>C123</td>\n",
       "      <td>S</td>\n",
       "      <td>Adult</td>\n",
       "      <td>C</td>\n",
       "      <td>Mrs</td>\n",
       "      <td>1</td>\n",
       "      <td>0</td>\n",
       "    </tr>\n",
       "    <tr>\n",
       "      <th>4</th>\n",
       "      <td>5</td>\n",
       "      <td>0</td>\n",
       "      <td>3</td>\n",
       "      <td>male</td>\n",
       "      <td>35.000000</td>\n",
       "      <td>373450</td>\n",
       "      <td>8.0500</td>\n",
       "      <td>Unknown</td>\n",
       "      <td>S</td>\n",
       "      <td>Adult</td>\n",
       "      <td>U</td>\n",
       "      <td>Mr</td>\n",
       "      <td>0</td>\n",
       "      <td>1</td>\n",
       "    </tr>\n",
       "    <tr>\n",
       "      <th>...</th>\n",
       "      <td>...</td>\n",
       "      <td>...</td>\n",
       "      <td>...</td>\n",
       "      <td>...</td>\n",
       "      <td>...</td>\n",
       "      <td>...</td>\n",
       "      <td>...</td>\n",
       "      <td>...</td>\n",
       "      <td>...</td>\n",
       "      <td>...</td>\n",
       "      <td>...</td>\n",
       "      <td>...</td>\n",
       "      <td>...</td>\n",
       "      <td>...</td>\n",
       "    </tr>\n",
       "    <tr>\n",
       "      <th>886</th>\n",
       "      <td>887</td>\n",
       "      <td>0</td>\n",
       "      <td>2</td>\n",
       "      <td>male</td>\n",
       "      <td>27.000000</td>\n",
       "      <td>211536</td>\n",
       "      <td>13.0000</td>\n",
       "      <td>Unknown</td>\n",
       "      <td>S</td>\n",
       "      <td>Adult</td>\n",
       "      <td>U</td>\n",
       "      <td>Mr</td>\n",
       "      <td>0</td>\n",
       "      <td>1</td>\n",
       "    </tr>\n",
       "    <tr>\n",
       "      <th>887</th>\n",
       "      <td>888</td>\n",
       "      <td>1</td>\n",
       "      <td>1</td>\n",
       "      <td>female</td>\n",
       "      <td>19.000000</td>\n",
       "      <td>112053</td>\n",
       "      <td>30.0000</td>\n",
       "      <td>B42</td>\n",
       "      <td>S</td>\n",
       "      <td>Adult</td>\n",
       "      <td>B</td>\n",
       "      <td>Miss</td>\n",
       "      <td>0</td>\n",
       "      <td>1</td>\n",
       "    </tr>\n",
       "    <tr>\n",
       "      <th>888</th>\n",
       "      <td>889</td>\n",
       "      <td>0</td>\n",
       "      <td>3</td>\n",
       "      <td>female</td>\n",
       "      <td>29.699118</td>\n",
       "      <td>W./C. 6607</td>\n",
       "      <td>23.4500</td>\n",
       "      <td>Unknown</td>\n",
       "      <td>S</td>\n",
       "      <td>NaN</td>\n",
       "      <td>U</td>\n",
       "      <td>Miss</td>\n",
       "      <td>3</td>\n",
       "      <td>0</td>\n",
       "    </tr>\n",
       "    <tr>\n",
       "      <th>889</th>\n",
       "      <td>890</td>\n",
       "      <td>1</td>\n",
       "      <td>1</td>\n",
       "      <td>male</td>\n",
       "      <td>26.000000</td>\n",
       "      <td>111369</td>\n",
       "      <td>30.0000</td>\n",
       "      <td>C148</td>\n",
       "      <td>C</td>\n",
       "      <td>Adult</td>\n",
       "      <td>C</td>\n",
       "      <td>Mr</td>\n",
       "      <td>0</td>\n",
       "      <td>1</td>\n",
       "    </tr>\n",
       "    <tr>\n",
       "      <th>890</th>\n",
       "      <td>891</td>\n",
       "      <td>0</td>\n",
       "      <td>3</td>\n",
       "      <td>male</td>\n",
       "      <td>32.000000</td>\n",
       "      <td>370376</td>\n",
       "      <td>7.7500</td>\n",
       "      <td>Unknown</td>\n",
       "      <td>Q</td>\n",
       "      <td>Adult</td>\n",
       "      <td>U</td>\n",
       "      <td>Mr</td>\n",
       "      <td>0</td>\n",
       "      <td>1</td>\n",
       "    </tr>\n",
       "  </tbody>\n",
       "</table>\n",
       "<p>891 rows × 14 columns</p>\n",
       "</div>"
      ],
      "text/plain": [
       "     PassengerId  Survived  Pclass     Sex        Age            Ticket  \\\n",
       "0              1         0       3    male  22.000000         A/5 21171   \n",
       "1              2         1       1  female  38.000000          PC 17599   \n",
       "2              3         1       3  female  26.000000  STON/O2. 3101282   \n",
       "3              4         1       1  female  35.000000            113803   \n",
       "4              5         0       3    male  35.000000            373450   \n",
       "..           ...       ...     ...     ...        ...               ...   \n",
       "886          887         0       2    male  27.000000            211536   \n",
       "887          888         1       1  female  19.000000            112053   \n",
       "888          889         0       3  female  29.699118        W./C. 6607   \n",
       "889          890         1       1    male  26.000000            111369   \n",
       "890          891         0       3    male  32.000000            370376   \n",
       "\n",
       "        Fare    Cabin Embarked AgeGroup Cabin_unit Name_re  Family  Alone  \n",
       "0     7.2500  Unknown        S    Adult          U      Mr       1      0  \n",
       "1    71.2833      C85        C    Adult          C     Mrs       1      0  \n",
       "2     7.9250  Unknown        S    Adult          U    Miss       0      1  \n",
       "3    53.1000     C123        S    Adult          C     Mrs       1      0  \n",
       "4     8.0500  Unknown        S    Adult          U      Mr       0      1  \n",
       "..       ...      ...      ...      ...        ...     ...     ...    ...  \n",
       "886  13.0000  Unknown        S    Adult          U      Mr       0      1  \n",
       "887  30.0000      B42        S    Adult          B    Miss       0      1  \n",
       "888  23.4500  Unknown        S      NaN          U    Miss       3      0  \n",
       "889  30.0000     C148        C    Adult          C      Mr       0      1  \n",
       "890   7.7500  Unknown        Q    Adult          U      Mr       0      1  \n",
       "\n",
       "[891 rows x 14 columns]"
      ]
     },
     "execution_count": 33,
     "metadata": {},
     "output_type": "execute_result"
    }
   ],
   "source": [
    "Alone = []\n",
    "for i in data[\"Family\"]:\n",
    "    if i == 0:\n",
    "        Alone.append(True)\n",
    "    else: \n",
    "        Alone.append(False)\n",
    "data[\"Alone\"]=Alone\n",
    "data[\"Alone\"]=data[\"Alone\"].astype(\"int\")\n",
    "data"
   ]
  },
  {
   "cell_type": "code",
   "execution_count": 34,
   "id": "c45c8e36",
   "metadata": {
    "execution": {
     "iopub.execute_input": "2022-10-05T19:51:15.354790Z",
     "iopub.status.busy": "2022-10-05T19:51:15.354386Z",
     "iopub.status.idle": "2022-10-05T19:51:15.651577Z",
     "shell.execute_reply": "2022-10-05T19:51:15.649963Z"
    },
    "papermill": {
     "duration": 0.323964,
     "end_time": "2022-10-05T19:51:15.654167",
     "exception": false,
     "start_time": "2022-10-05T19:51:15.330203",
     "status": "completed"
    },
    "tags": []
   },
   "outputs": [
    {
     "data": {
      "image/png": "[encoded data removed]",
      "text/plain": [
       "<Figure size 720x504 with 1 Axes>"
      ]
     },
     "metadata": {},
     "output_type": "display_data"
    }
   ],
   "source": [
    "plt.figure(figsize=(10,7))\n",
    "sns.set(font_scale=1.5)\n",
    "plt.title(\"Alone / Survived\")\n",
    "sns.barplot(x=\"Alone\",y=\"Survived\"\n",
    "           ,hue=\"Sex\", data=data)\n",
    "plt.show()"
   ]
  },
  {
   "cell_type": "markdown",
   "id": "d210c6f0",
   "metadata": {
    "papermill": {
     "duration": 0.022559,
     "end_time": "2022-10-05T19:51:15.703020",
     "exception": false,
     "start_time": "2022-10-05T19:51:15.680461",
     "status": "completed"
    },
    "tags": []
   },
   "source": [
    "Valuable data & link's here :p"
   ]
  },
  {
   "cell_type": "code",
   "execution_count": 35,
   "id": "732f6283",
   "metadata": {
    "execution": {
     "iopub.execute_input": "2022-10-05T19:51:15.750761Z",
     "iopub.status.busy": "2022-10-05T19:51:15.750332Z",
     "iopub.status.idle": "2022-10-05T19:51:15.757195Z",
     "shell.execute_reply": "2022-10-05T19:51:15.755910Z"
    },
    "papermill": {
     "duration": 0.034027,
     "end_time": "2022-10-05T19:51:15.759703",
     "exception": false,
     "start_time": "2022-10-05T19:51:15.725676",
     "status": "completed"
    },
    "tags": []
   },
   "outputs": [],
   "source": [
    "data[\"Cabin_unit\"].replace({\"T\":\"U\"},inplace=True)"
   ]
  },
  {
   "cell_type": "code",
   "execution_count": 36,
   "id": "484c7bf0",
   "metadata": {
    "execution": {
     "iopub.execute_input": "2022-10-05T19:51:15.807952Z",
     "iopub.status.busy": "2022-10-05T19:51:15.807545Z",
     "iopub.status.idle": "2022-10-05T19:51:15.815683Z",
     "shell.execute_reply": "2022-10-05T19:51:15.814323Z"
    },
    "papermill": {
     "duration": 0.034974,
     "end_time": "2022-10-05T19:51:15.818183",
     "exception": false,
     "start_time": "2022-10-05T19:51:15.783209",
     "status": "completed"
    },
    "tags": []
   },
   "outputs": [],
   "source": [
    "data.drop([\"Ticket\",\"Cabin\"],axis=1,inplace=True)"
   ]
  },
  {
   "cell_type": "code",
   "execution_count": 37,
   "id": "621f1ca8",
   "metadata": {
    "execution": {
     "iopub.execute_input": "2022-10-05T19:51:15.865995Z",
     "iopub.status.busy": "2022-10-05T19:51:15.865593Z",
     "iopub.status.idle": "2022-10-05T19:51:15.897375Z",
     "shell.execute_reply": "2022-10-05T19:51:15.896212Z"
    },
    "papermill": {
     "duration": 0.05847,
     "end_time": "2022-10-05T19:51:15.899864",
     "exception": false,
     "start_time": "2022-10-05T19:51:15.841394",
     "status": "completed"
    },
    "tags": []
   },
   "outputs": [
    {
     "data": {
      "text/html": [
       "<div>\n",
       "<style scoped>\n",
       "    .dataframe tbody tr th:only-of-type {\n",
       "        vertical-align: middle;\n",
       "    }\n",
       "\n",
       "    .dataframe tbody tr th {\n",
       "        vertical-align: top;\n",
       "    }\n",
       "\n",
       "    .dataframe thead th {\n",
       "        text-align: right;\n",
       "    }\n",
       "</style>\n",
       "<table border=\"1\" class=\"dataframe\">\n",
       "  <thead>\n",
       "    <tr style=\"text-align: right;\">\n",
       "      <th></th>\n",
       "      <th>PassengerId</th>\n",
       "      <th>Survived</th>\n",
       "      <th>Pclass</th>\n",
       "      <th>Age</th>\n",
       "      <th>Fare</th>\n",
       "      <th>AgeGroup</th>\n",
       "      <th>Family</th>\n",
       "      <th>Alone</th>\n",
       "      <th>Sex_male</th>\n",
       "      <th>Embarked_Q</th>\n",
       "      <th>...</th>\n",
       "      <th>Cabin_unit_C</th>\n",
       "      <th>Cabin_unit_D</th>\n",
       "      <th>Cabin_unit_E</th>\n",
       "      <th>Cabin_unit_F</th>\n",
       "      <th>Cabin_unit_G</th>\n",
       "      <th>Cabin_unit_U</th>\n",
       "      <th>Name_re_Miss</th>\n",
       "      <th>Name_re_Mr</th>\n",
       "      <th>Name_re_Mrs</th>\n",
       "      <th>Name_re_Uncommon</th>\n",
       "    </tr>\n",
       "  </thead>\n",
       "  <tbody>\n",
       "    <tr>\n",
       "      <th>0</th>\n",
       "      <td>1</td>\n",
       "      <td>0</td>\n",
       "      <td>3</td>\n",
       "      <td>22.000000</td>\n",
       "      <td>7.2500</td>\n",
       "      <td>Adult</td>\n",
       "      <td>1</td>\n",
       "      <td>0</td>\n",
       "      <td>1</td>\n",
       "      <td>0</td>\n",
       "      <td>...</td>\n",
       "      <td>0</td>\n",
       "      <td>0</td>\n",
       "      <td>0</td>\n",
       "      <td>0</td>\n",
       "      <td>0</td>\n",
       "      <td>1</td>\n",
       "      <td>0</td>\n",
       "      <td>1</td>\n",
       "      <td>0</td>\n",
       "      <td>0</td>\n",
       "    </tr>\n",
       "    <tr>\n",
       "      <th>1</th>\n",
       "      <td>2</td>\n",
       "      <td>1</td>\n",
       "      <td>1</td>\n",
       "      <td>38.000000</td>\n",
       "      <td>71.2833</td>\n",
       "      <td>Adult</td>\n",
       "      <td>1</td>\n",
       "      <td>0</td>\n",
       "      <td>0</td>\n",
       "      <td>0</td>\n",
       "      <td>...</td>\n",
       "      <td>1</td>\n",
       "      <td>0</td>\n",
       "      <td>0</td>\n",
       "      <td>0</td>\n",
       "      <td>0</td>\n",
       "      <td>0</td>\n",
       "      <td>0</td>\n",
       "      <td>0</td>\n",
       "      <td>1</td>\n",
       "      <td>0</td>\n",
       "    </tr>\n",
       "    <tr>\n",
       "      <th>2</th>\n",
       "      <td>3</td>\n",
       "      <td>1</td>\n",
       "      <td>3</td>\n",
       "      <td>26.000000</td>\n",
       "      <td>7.9250</td>\n",
       "      <td>Adult</td>\n",
       "      <td>0</td>\n",
       "      <td>1</td>\n",
       "      <td>0</td>\n",
       "      <td>0</td>\n",
       "      <td>...</td>\n",
       "      <td>0</td>\n",
       "      <td>0</td>\n",
       "      <td>0</td>\n",
       "      <td>0</td>\n",
       "      <td>0</td>\n",
       "      <td>1</td>\n",
       "      <td>1</td>\n",
       "      <td>0</td>\n",
       "      <td>0</td>\n",
       "      <td>0</td>\n",
       "    </tr>\n",
       "    <tr>\n",
       "      <th>3</th>\n",
       "      <td>4</td>\n",
       "      <td>1</td>\n",
       "      <td>1</td>\n",
       "      <td>35.000000</td>\n",
       "      <td>53.1000</td>\n",
       "      <td>Adult</td>\n",
       "      <td>1</td>\n",
       "      <td>0</td>\n",
       "      <td>0</td>\n",
       "      <td>0</td>\n",
       "      <td>...</td>\n",
       "      <td>1</td>\n",
       "      <td>0</td>\n",
       "      <td>0</td>\n",
       "      <td>0</td>\n",
       "      <td>0</td>\n",
       "      <td>0</td>\n",
       "      <td>0</td>\n",
       "      <td>0</td>\n",
       "      <td>1</td>\n",
       "      <td>0</td>\n",
       "    </tr>\n",
       "    <tr>\n",
       "      <th>4</th>\n",
       "      <td>5</td>\n",
       "      <td>0</td>\n",
       "      <td>3</td>\n",
       "      <td>35.000000</td>\n",
       "      <td>8.0500</td>\n",
       "      <td>Adult</td>\n",
       "      <td>0</td>\n",
       "      <td>1</td>\n",
       "      <td>1</td>\n",
       "      <td>0</td>\n",
       "      <td>...</td>\n",
       "      <td>0</td>\n",
       "      <td>0</td>\n",
       "      <td>0</td>\n",
       "      <td>0</td>\n",
       "      <td>0</td>\n",
       "      <td>1</td>\n",
       "      <td>0</td>\n",
       "      <td>1</td>\n",
       "      <td>0</td>\n",
       "      <td>0</td>\n",
       "    </tr>\n",
       "    <tr>\n",
       "      <th>...</th>\n",
       "      <td>...</td>\n",
       "      <td>...</td>\n",
       "      <td>...</td>\n",
       "      <td>...</td>\n",
       "      <td>...</td>\n",
       "      <td>...</td>\n",
       "      <td>...</td>\n",
       "      <td>...</td>\n",
       "      <td>...</td>\n",
       "      <td>...</td>\n",
       "      <td>...</td>\n",
       "      <td>...</td>\n",
       "      <td>...</td>\n",
       "      <td>...</td>\n",
       "      <td>...</td>\n",
       "      <td>...</td>\n",
       "      <td>...</td>\n",
       "      <td>...</td>\n",
       "      <td>...</td>\n",
       "      <td>...</td>\n",
       "      <td>...</td>\n",
       "    </tr>\n",
       "    <tr>\n",
       "      <th>886</th>\n",
       "      <td>887</td>\n",
       "      <td>0</td>\n",
       "      <td>2</td>\n",
       "      <td>27.000000</td>\n",
       "      <td>13.0000</td>\n",
       "      <td>Adult</td>\n",
       "      <td>0</td>\n",
       "      <td>1</td>\n",
       "      <td>1</td>\n",
       "      <td>0</td>\n",
       "      <td>...</td>\n",
       "      <td>0</td>\n",
       "      <td>0</td>\n",
       "      <td>0</td>\n",
       "      <td>0</td>\n",
       "      <td>0</td>\n",
       "      <td>1</td>\n",
       "      <td>0</td>\n",
       "      <td>1</td>\n",
       "      <td>0</td>\n",
       "      <td>0</td>\n",
       "    </tr>\n",
       "    <tr>\n",
       "      <th>887</th>\n",
       "      <td>888</td>\n",
       "      <td>1</td>\n",
       "      <td>1</td>\n",
       "      <td>19.000000</td>\n",
       "      <td>30.0000</td>\n",
       "      <td>Adult</td>\n",
       "      <td>0</td>\n",
       "      <td>1</td>\n",
       "      <td>0</td>\n",
       "      <td>0</td>\n",
       "      <td>...</td>\n",
       "      <td>0</td>\n",
       "      <td>0</td>\n",
       "      <td>0</td>\n",
       "      <td>0</td>\n",
       "      <td>0</td>\n",
       "      <td>0</td>\n",
       "      <td>1</td>\n",
       "      <td>0</td>\n",
       "      <td>0</td>\n",
       "      <td>0</td>\n",
       "    </tr>\n",
       "    <tr>\n",
       "      <th>888</th>\n",
       "      <td>889</td>\n",
       "      <td>0</td>\n",
       "      <td>3</td>\n",
       "      <td>29.699118</td>\n",
       "      <td>23.4500</td>\n",
       "      <td>NaN</td>\n",
       "      <td>3</td>\n",
       "      <td>0</td>\n",
       "      <td>0</td>\n",
       "      <td>0</td>\n",
       "      <td>...</td>\n",
       "      <td>0</td>\n",
       "      <td>0</td>\n",
       "      <td>0</td>\n",
       "      <td>0</td>\n",
       "      <td>0</td>\n",
       "      <td>1</td>\n",
       "      <td>1</td>\n",
       "      <td>0</td>\n",
       "      <td>0</td>\n",
       "      <td>0</td>\n",
       "    </tr>\n",
       "    <tr>\n",
       "      <th>889</th>\n",
       "      <td>890</td>\n",
       "      <td>1</td>\n",
       "      <td>1</td>\n",
       "      <td>26.000000</td>\n",
       "      <td>30.0000</td>\n",
       "      <td>Adult</td>\n",
       "      <td>0</td>\n",
       "      <td>1</td>\n",
       "      <td>1</td>\n",
       "      <td>0</td>\n",
       "      <td>...</td>\n",
       "      <td>1</td>\n",
       "      <td>0</td>\n",
       "      <td>0</td>\n",
       "      <td>0</td>\n",
       "      <td>0</td>\n",
       "      <td>0</td>\n",
       "      <td>0</td>\n",
       "      <td>1</td>\n",
       "      <td>0</td>\n",
       "      <td>0</td>\n",
       "    </tr>\n",
       "    <tr>\n",
       "      <th>890</th>\n",
       "      <td>891</td>\n",
       "      <td>0</td>\n",
       "      <td>3</td>\n",
       "      <td>32.000000</td>\n",
       "      <td>7.7500</td>\n",
       "      <td>Adult</td>\n",
       "      <td>0</td>\n",
       "      <td>1</td>\n",
       "      <td>1</td>\n",
       "      <td>1</td>\n",
       "      <td>...</td>\n",
       "      <td>0</td>\n",
       "      <td>0</td>\n",
       "      <td>0</td>\n",
       "      <td>0</td>\n",
       "      <td>0</td>\n",
       "      <td>1</td>\n",
       "      <td>0</td>\n",
       "      <td>1</td>\n",
       "      <td>0</td>\n",
       "      <td>0</td>\n",
       "    </tr>\n",
       "  </tbody>\n",
       "</table>\n",
       "<p>891 rows × 22 columns</p>\n",
       "</div>"
      ],
      "text/plain": [
       "     PassengerId  Survived  Pclass        Age     Fare AgeGroup  Family  \\\n",
       "0              1         0       3  22.000000   7.2500    Adult       1   \n",
       "1              2         1       1  38.000000  71.2833    Adult       1   \n",
       "2              3         1       3  26.000000   7.9250    Adult       0   \n",
       "3              4         1       1  35.000000  53.1000    Adult       1   \n",
       "4              5         0       3  35.000000   8.0500    Adult       0   \n",
       "..           ...       ...     ...        ...      ...      ...     ...   \n",
       "886          887         0       2  27.000000  13.0000    Adult       0   \n",
       "887          888         1       1  19.000000  30.0000    Adult       0   \n",
       "888          889         0       3  29.699118  23.4500      NaN       3   \n",
       "889          890         1       1  26.000000  30.0000    Adult       0   \n",
       "890          891         0       3  32.000000   7.7500    Adult       0   \n",
       "\n",
       "     Alone  Sex_male  Embarked_Q  ...  Cabin_unit_C  Cabin_unit_D  \\\n",
       "0        0         1           0  ...             0             0   \n",
       "1        0         0           0  ...             1             0   \n",
       "2        1         0           0  ...             0             0   \n",
       "3        0         0           0  ...             1             0   \n",
       "4        1         1           0  ...             0             0   \n",
       "..     ...       ...         ...  ...           ...           ...   \n",
       "886      1         1           0  ...             0             0   \n",
       "887      1         0           0  ...             0             0   \n",
       "888      0         0           0  ...             0             0   \n",
       "889      1         1           0  ...             1             0   \n",
       "890      1         1           1  ...             0             0   \n",
       "\n",
       "     Cabin_unit_E  Cabin_unit_F  Cabin_unit_G  Cabin_unit_U  Name_re_Miss  \\\n",
       "0               0             0             0             1             0   \n",
       "1               0             0             0             0             0   \n",
       "2               0             0             0             1             1   \n",
       "3               0             0             0             0             0   \n",
       "4               0             0             0             1             0   \n",
       "..            ...           ...           ...           ...           ...   \n",
       "886             0             0             0             1             0   \n",
       "887             0             0             0             0             1   \n",
       "888             0             0             0             1             1   \n",
       "889             0             0             0             0             0   \n",
       "890             0             0             0             1             0   \n",
       "\n",
       "     Name_re_Mr  Name_re_Mrs  Name_re_Uncommon  \n",
       "0             1            0                 0  \n",
       "1             0            1                 0  \n",
       "2             0            0                 0  \n",
       "3             0            1                 0  \n",
       "4             1            0                 0  \n",
       "..          ...          ...               ...  \n",
       "886           1            0                 0  \n",
       "887           0            0                 0  \n",
       "888           0            0                 0  \n",
       "889           1            0                 0  \n",
       "890           1            0                 0  \n",
       "\n",
       "[891 rows x 22 columns]"
      ]
     },
     "execution_count": 37,
     "metadata": {},
     "output_type": "execute_result"
    }
   ],
   "source": [
    "data= pd.get_dummies(data,columns=[\"Sex\",\"Embarked\",\"Cabin_unit\",\"Name_re\"],drop_first=True)\n",
    "data"
   ]
  },
  {
   "cell_type": "code",
   "execution_count": 38,
   "id": "a26efda6",
   "metadata": {
    "execution": {
     "iopub.execute_input": "2022-10-05T19:51:15.948782Z",
     "iopub.status.busy": "2022-10-05T19:51:15.948350Z",
     "iopub.status.idle": "2022-10-05T19:51:15.958195Z",
     "shell.execute_reply": "2022-10-05T19:51:15.957154Z"
    },
    "papermill": {
     "duration": 0.036529,
     "end_time": "2022-10-05T19:51:15.960350",
     "exception": false,
     "start_time": "2022-10-05T19:51:15.923821",
     "status": "completed"
    },
    "tags": []
   },
   "outputs": [
    {
     "data": {
      "text/plain": [
       "((891, 19), (891,))"
      ]
     },
     "execution_count": 38,
     "metadata": {},
     "output_type": "execute_result"
    }
   ],
   "source": [
    "x=data.drop([\"PassengerId\",\"Survived\",\"AgeGroup\"],axis=1)\n",
    "y=data[\"Survived\"]\n",
    "x.shape, y.shape"
   ]
  },
  {
   "cell_type": "markdown",
   "id": "4b794edf",
   "metadata": {
    "papermill": {
     "duration": 0.022662,
     "end_time": "2022-10-05T19:51:16.005938",
     "exception": false,
     "start_time": "2022-10-05T19:51:15.983276",
     "status": "completed"
    },
    "tags": []
   },
   "source": [
    "Data cleaned & we got what we need as well as the links with survival rate, time for the modeling for the machine"
   ]
  }
 ],
 "metadata": {
  "kernelspec": {
   "display_name": "Python 3",
   "language": "python",
   "name": "python3"
  },
  "language_info": {
   "codemirror_mode": {
    "name": "ipython",
    "version": 3
   },
   "file_extension": ".py",
   "mimetype": "text/x-python",
   "name": "python",
   "nbconvert_exporter": "python",
   "pygments_lexer": "ipython3",
   "version": "3.7.12"
  },
  "papermill": {
   "default_parameters": {},
   "duration": 19.0282,
   "end_time": "2022-10-05T19:51:16.752183",
   "environment_variables": {},
   "exception": null,
   "input_path": "__notebook__.ipynb",
   "output_path": "__notebook__.ipynb",
   "parameters": {},
   "start_time": "2022-10-05T19:50:57.723983",
   "version": "2.3.4"
  }
 },
 "nbformat": 4,
 "nbformat_minor": 5
}
